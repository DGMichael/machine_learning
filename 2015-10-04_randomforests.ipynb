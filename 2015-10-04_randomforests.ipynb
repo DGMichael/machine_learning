{
 "cells": [
  {
   "cell_type": "markdown",
   "metadata": {},
   "source": [
    "#Machine Learning: Decision Trees\n",
    "Construction of a random forest to classify phone data into activity phases.  \n",
    "Using the UCI Machine Learning Dataset"
   ]
  },
  {
   "cell_type": "code",
   "execution_count": 13,
   "metadata": {
    "collapsed": false
   },
   "outputs": [
    {
     "name": "stdout",
     "output_type": "stream",
     "text": [
      "2015-09-09_train_test_split.ipynb  2015-10-04_randomforests.ipynb     UCI HAR Dataset.zip\n",
      "2015-09-13_overfitting.py.ipynb    README.md                          random_forest.py\n",
      "2015-09-17_cross_validation.ipynb  \u001b[34mUCI HAR Dataset\u001b[m\u001b[m/                   sampleData.csv\n",
      "\n"
     ]
    }
   ],
   "source": [
    "ls"
   ]
  },
  {
   "cell_type": "code",
   "execution_count": 14,
   "metadata": {
    "collapsed": false
   },
   "outputs": [
    {
     "name": "stdout",
     "output_type": "stream",
     "text": [
      "2015-09-09_train_test_split.ipynb  2015-10-04_randomforests.ipynb     UCI HAR Dataset.zip\r\n",
      "2015-09-13_overfitting.py.ipynb    README.md                          random_forest.py\r\n",
      "2015-09-17_cross_validation.ipynb  \u001b[34mUCI HAR Dataset\u001b[m\u001b[m/                   sampleData.csv\r\n"
     ]
    }
   ],
   "source": [
    "ls"
   ]
  },
  {
   "cell_type": "code",
   "execution_count": 15,
   "metadata": {
    "collapsed": false
   },
   "outputs": [
    {
     "ename": "IOError",
     "evalue": "File features.txt does not exist",
     "output_type": "error",
     "traceback": [
      "\u001b[0;31m---------------------------------------------------------------------------\u001b[0m",
      "\u001b[0;31mIOError\u001b[0m                                   Traceback (most recent call last)",
      "\u001b[0;32m<ipython-input-15-6d9df270f4c2>\u001b[0m in \u001b[0;36m<module>\u001b[0;34m()\u001b[0m\n\u001b[1;32m      1\u001b[0m \u001b[0;31m#Load features names:\u001b[0m\u001b[0;34m\u001b[0m\u001b[0;34m\u001b[0m\u001b[0m\n\u001b[1;32m      2\u001b[0m \u001b[0;32mimport\u001b[0m \u001b[0mpandas\u001b[0m \u001b[0;32mas\u001b[0m \u001b[0mpd\u001b[0m\u001b[0;34m\u001b[0m\u001b[0m\n\u001b[0;32m----> 3\u001b[0;31m \u001b[0mfeatures_df\u001b[0m \u001b[0;34m=\u001b[0m \u001b[0mpd\u001b[0m\u001b[0;34m.\u001b[0m\u001b[0mread_csv\u001b[0m\u001b[0;34m(\u001b[0m\u001b[0;34m'features.txt'\u001b[0m\u001b[0;34m,\u001b[0m \u001b[0msep\u001b[0m \u001b[0;34m=\u001b[0m \u001b[0;34m\" \"\u001b[0m\u001b[0;34m)\u001b[0m\u001b[0;34m\u001b[0m\u001b[0m\n\u001b[0m",
      "\u001b[0;32m/Library/Python/2.7/site-packages/pandas/io/parsers.pyc\u001b[0m in \u001b[0;36mparser_f\u001b[0;34m(filepath_or_buffer, sep, dialect, compression, doublequote, escapechar, quotechar, quoting, skipinitialspace, lineterminator, header, index_col, names, prefix, skiprows, skipfooter, skip_footer, na_values, na_fvalues, true_values, false_values, delimiter, converters, dtype, usecols, engine, delim_whitespace, as_recarray, na_filter, compact_ints, use_unsigned, low_memory, buffer_lines, warn_bad_lines, error_bad_lines, keep_default_na, thousands, comment, decimal, parse_dates, keep_date_col, dayfirst, date_parser, memory_map, float_precision, nrows, iterator, chunksize, verbose, encoding, squeeze, mangle_dupe_cols, tupleize_cols, infer_datetime_format, skip_blank_lines)\u001b[0m\n\u001b[1;32m    472\u001b[0m                     skip_blank_lines=skip_blank_lines)\n\u001b[1;32m    473\u001b[0m \u001b[0;34m\u001b[0m\u001b[0m\n\u001b[0;32m--> 474\u001b[0;31m         \u001b[0;32mreturn\u001b[0m \u001b[0m_read\u001b[0m\u001b[0;34m(\u001b[0m\u001b[0mfilepath_or_buffer\u001b[0m\u001b[0;34m,\u001b[0m \u001b[0mkwds\u001b[0m\u001b[0;34m)\u001b[0m\u001b[0;34m\u001b[0m\u001b[0m\n\u001b[0m\u001b[1;32m    475\u001b[0m \u001b[0;34m\u001b[0m\u001b[0m\n\u001b[1;32m    476\u001b[0m     \u001b[0mparser_f\u001b[0m\u001b[0;34m.\u001b[0m\u001b[0m__name__\u001b[0m \u001b[0;34m=\u001b[0m \u001b[0mname\u001b[0m\u001b[0;34m\u001b[0m\u001b[0m\n",
      "\u001b[0;32m/Library/Python/2.7/site-packages/pandas/io/parsers.pyc\u001b[0m in \u001b[0;36m_read\u001b[0;34m(filepath_or_buffer, kwds)\u001b[0m\n\u001b[1;32m    248\u001b[0m \u001b[0;34m\u001b[0m\u001b[0m\n\u001b[1;32m    249\u001b[0m     \u001b[0;31m# Create the parser.\u001b[0m\u001b[0;34m\u001b[0m\u001b[0;34m\u001b[0m\u001b[0m\n\u001b[0;32m--> 250\u001b[0;31m     \u001b[0mparser\u001b[0m \u001b[0;34m=\u001b[0m \u001b[0mTextFileReader\u001b[0m\u001b[0;34m(\u001b[0m\u001b[0mfilepath_or_buffer\u001b[0m\u001b[0;34m,\u001b[0m \u001b[0;34m**\u001b[0m\u001b[0mkwds\u001b[0m\u001b[0;34m)\u001b[0m\u001b[0;34m\u001b[0m\u001b[0m\n\u001b[0m\u001b[1;32m    251\u001b[0m \u001b[0;34m\u001b[0m\u001b[0m\n\u001b[1;32m    252\u001b[0m     \u001b[0;32mif\u001b[0m \u001b[0;34m(\u001b[0m\u001b[0mnrows\u001b[0m \u001b[0;32mis\u001b[0m \u001b[0;32mnot\u001b[0m \u001b[0mNone\u001b[0m\u001b[0;34m)\u001b[0m \u001b[0;32mand\u001b[0m \u001b[0;34m(\u001b[0m\u001b[0mchunksize\u001b[0m \u001b[0;32mis\u001b[0m \u001b[0;32mnot\u001b[0m \u001b[0mNone\u001b[0m\u001b[0;34m)\u001b[0m\u001b[0;34m:\u001b[0m\u001b[0;34m\u001b[0m\u001b[0m\n",
      "\u001b[0;32m/Library/Python/2.7/site-packages/pandas/io/parsers.pyc\u001b[0m in \u001b[0;36m__init__\u001b[0;34m(self, f, engine, **kwds)\u001b[0m\n\u001b[1;32m    564\u001b[0m             \u001b[0mself\u001b[0m\u001b[0;34m.\u001b[0m\u001b[0moptions\u001b[0m\u001b[0;34m[\u001b[0m\u001b[0;34m'has_index_names'\u001b[0m\u001b[0;34m]\u001b[0m \u001b[0;34m=\u001b[0m \u001b[0mkwds\u001b[0m\u001b[0;34m[\u001b[0m\u001b[0;34m'has_index_names'\u001b[0m\u001b[0;34m]\u001b[0m\u001b[0;34m\u001b[0m\u001b[0m\n\u001b[1;32m    565\u001b[0m \u001b[0;34m\u001b[0m\u001b[0m\n\u001b[0;32m--> 566\u001b[0;31m         \u001b[0mself\u001b[0m\u001b[0;34m.\u001b[0m\u001b[0m_make_engine\u001b[0m\u001b[0;34m(\u001b[0m\u001b[0mself\u001b[0m\u001b[0;34m.\u001b[0m\u001b[0mengine\u001b[0m\u001b[0;34m)\u001b[0m\u001b[0;34m\u001b[0m\u001b[0m\n\u001b[0m\u001b[1;32m    567\u001b[0m \u001b[0;34m\u001b[0m\u001b[0m\n\u001b[1;32m    568\u001b[0m     \u001b[0;32mdef\u001b[0m \u001b[0m_get_options_with_defaults\u001b[0m\u001b[0;34m(\u001b[0m\u001b[0mself\u001b[0m\u001b[0;34m,\u001b[0m \u001b[0mengine\u001b[0m\u001b[0;34m)\u001b[0m\u001b[0;34m:\u001b[0m\u001b[0;34m\u001b[0m\u001b[0m\n",
      "\u001b[0;32m/Library/Python/2.7/site-packages/pandas/io/parsers.pyc\u001b[0m in \u001b[0;36m_make_engine\u001b[0;34m(self, engine)\u001b[0m\n\u001b[1;32m    703\u001b[0m     \u001b[0;32mdef\u001b[0m \u001b[0m_make_engine\u001b[0m\u001b[0;34m(\u001b[0m\u001b[0mself\u001b[0m\u001b[0;34m,\u001b[0m \u001b[0mengine\u001b[0m\u001b[0;34m=\u001b[0m\u001b[0;34m'c'\u001b[0m\u001b[0;34m)\u001b[0m\u001b[0;34m:\u001b[0m\u001b[0;34m\u001b[0m\u001b[0m\n\u001b[1;32m    704\u001b[0m         \u001b[0;32mif\u001b[0m \u001b[0mengine\u001b[0m \u001b[0;34m==\u001b[0m \u001b[0;34m'c'\u001b[0m\u001b[0;34m:\u001b[0m\u001b[0;34m\u001b[0m\u001b[0m\n\u001b[0;32m--> 705\u001b[0;31m             \u001b[0mself\u001b[0m\u001b[0;34m.\u001b[0m\u001b[0m_engine\u001b[0m \u001b[0;34m=\u001b[0m \u001b[0mCParserWrapper\u001b[0m\u001b[0;34m(\u001b[0m\u001b[0mself\u001b[0m\u001b[0;34m.\u001b[0m\u001b[0mf\u001b[0m\u001b[0;34m,\u001b[0m \u001b[0;34m**\u001b[0m\u001b[0mself\u001b[0m\u001b[0;34m.\u001b[0m\u001b[0moptions\u001b[0m\u001b[0;34m)\u001b[0m\u001b[0;34m\u001b[0m\u001b[0m\n\u001b[0m\u001b[1;32m    706\u001b[0m         \u001b[0;32melse\u001b[0m\u001b[0;34m:\u001b[0m\u001b[0;34m\u001b[0m\u001b[0m\n\u001b[1;32m    707\u001b[0m             \u001b[0;32mif\u001b[0m \u001b[0mengine\u001b[0m \u001b[0;34m==\u001b[0m \u001b[0;34m'python'\u001b[0m\u001b[0;34m:\u001b[0m\u001b[0;34m\u001b[0m\u001b[0m\n",
      "\u001b[0;32m/Library/Python/2.7/site-packages/pandas/io/parsers.pyc\u001b[0m in \u001b[0;36m__init__\u001b[0;34m(self, src, **kwds)\u001b[0m\n\u001b[1;32m   1070\u001b[0m         \u001b[0mkwds\u001b[0m\u001b[0;34m[\u001b[0m\u001b[0;34m'allow_leading_cols'\u001b[0m\u001b[0;34m]\u001b[0m \u001b[0;34m=\u001b[0m \u001b[0mself\u001b[0m\u001b[0;34m.\u001b[0m\u001b[0mindex_col\u001b[0m \u001b[0;32mis\u001b[0m \u001b[0;32mnot\u001b[0m \u001b[0mFalse\u001b[0m\u001b[0;34m\u001b[0m\u001b[0m\n\u001b[1;32m   1071\u001b[0m \u001b[0;34m\u001b[0m\u001b[0m\n\u001b[0;32m-> 1072\u001b[0;31m         \u001b[0mself\u001b[0m\u001b[0;34m.\u001b[0m\u001b[0m_reader\u001b[0m \u001b[0;34m=\u001b[0m \u001b[0m_parser\u001b[0m\u001b[0;34m.\u001b[0m\u001b[0mTextReader\u001b[0m\u001b[0;34m(\u001b[0m\u001b[0msrc\u001b[0m\u001b[0;34m,\u001b[0m \u001b[0;34m**\u001b[0m\u001b[0mkwds\u001b[0m\u001b[0;34m)\u001b[0m\u001b[0;34m\u001b[0m\u001b[0m\n\u001b[0m\u001b[1;32m   1073\u001b[0m \u001b[0;34m\u001b[0m\u001b[0m\n\u001b[1;32m   1074\u001b[0m         \u001b[0;31m# XXX\u001b[0m\u001b[0;34m\u001b[0m\u001b[0;34m\u001b[0m\u001b[0m\n",
      "\u001b[0;32mpandas/parser.pyx\u001b[0m in \u001b[0;36mpandas.parser.TextReader.__cinit__ (pandas/parser.c:3173)\u001b[0;34m()\u001b[0m\n",
      "\u001b[0;32mpandas/parser.pyx\u001b[0m in \u001b[0;36mpandas.parser.TextReader._setup_parser_source (pandas/parser.c:5912)\u001b[0;34m()\u001b[0m\n",
      "\u001b[0;31mIOError\u001b[0m: File features.txt does not exist"
     ]
    }
   ],
   "source": [
    "#Load features names:\n",
    "import pandas as pd\n",
    "features_df = pd.read_csv('features.txt', sep = \" \")"
   ]
  },
  {
   "cell_type": "code",
   "execution_count": 16,
   "metadata": {
    "collapsed": false
   },
   "outputs": [
    {
     "ename": "NameError",
     "evalue": "name 'features_df' is not defined",
     "output_type": "error",
     "traceback": [
      "\u001b[0;31m---------------------------------------------------------------------------\u001b[0m",
      "\u001b[0;31mNameError\u001b[0m                                 Traceback (most recent call last)",
      "\u001b[0;32m<ipython-input-16-d1fca2dff45b>\u001b[0m in \u001b[0;36m<module>\u001b[0;34m()\u001b[0m\n\u001b[1;32m      1\u001b[0m \u001b[0;31m#Get the features:\u001b[0m\u001b[0;34m\u001b[0m\u001b[0;34m\u001b[0m\u001b[0m\n\u001b[0;32m----> 2\u001b[0;31m \u001b[0mfeatures_df\u001b[0m\u001b[0;34m.\u001b[0m\u001b[0mhead\u001b[0m\u001b[0;34m(\u001b[0m\u001b[0;34m)\u001b[0m\u001b[0;34m\u001b[0m\u001b[0m\n\u001b[0m",
      "\u001b[0;31mNameError\u001b[0m: name 'features_df' is not defined"
     ]
    }
   ],
   "source": [
    "#Get the features:\n",
    "features_df.head()"
   ]
  },
  {
   "cell_type": "code",
   "execution_count": 17,
   "metadata": {
    "collapsed": false,
    "scrolled": true
   },
   "outputs": [
    {
     "ename": "IOError",
     "evalue": "File train/X_train.txt does not exist",
     "output_type": "error",
     "traceback": [
      "\u001b[0;31m---------------------------------------------------------------------------\u001b[0m",
      "\u001b[0;31mIOError\u001b[0m                                   Traceback (most recent call last)",
      "\u001b[0;32m<ipython-input-17-539ec3e0c698>\u001b[0m in \u001b[0;36m<module>\u001b[0;34m()\u001b[0m\n\u001b[0;32m----> 1\u001b[0;31m \u001b[0mX_train\u001b[0m \u001b[0;34m=\u001b[0m \u001b[0mpd\u001b[0m\u001b[0;34m.\u001b[0m\u001b[0mread_csv\u001b[0m\u001b[0;34m(\u001b[0m\u001b[0;34m\"train/X_train.txt\"\u001b[0m\u001b[0;34m,\u001b[0m \u001b[0msep\u001b[0m \u001b[0;34m=\u001b[0m \u001b[0;34m\" \"\u001b[0m\u001b[0;34m)\u001b[0m\u001b[0;34m\u001b[0m\u001b[0m\n\u001b[0m",
      "\u001b[0;32m/Library/Python/2.7/site-packages/pandas/io/parsers.pyc\u001b[0m in \u001b[0;36mparser_f\u001b[0;34m(filepath_or_buffer, sep, dialect, compression, doublequote, escapechar, quotechar, quoting, skipinitialspace, lineterminator, header, index_col, names, prefix, skiprows, skipfooter, skip_footer, na_values, na_fvalues, true_values, false_values, delimiter, converters, dtype, usecols, engine, delim_whitespace, as_recarray, na_filter, compact_ints, use_unsigned, low_memory, buffer_lines, warn_bad_lines, error_bad_lines, keep_default_na, thousands, comment, decimal, parse_dates, keep_date_col, dayfirst, date_parser, memory_map, float_precision, nrows, iterator, chunksize, verbose, encoding, squeeze, mangle_dupe_cols, tupleize_cols, infer_datetime_format, skip_blank_lines)\u001b[0m\n\u001b[1;32m    472\u001b[0m                     skip_blank_lines=skip_blank_lines)\n\u001b[1;32m    473\u001b[0m \u001b[0;34m\u001b[0m\u001b[0m\n\u001b[0;32m--> 474\u001b[0;31m         \u001b[0;32mreturn\u001b[0m \u001b[0m_read\u001b[0m\u001b[0;34m(\u001b[0m\u001b[0mfilepath_or_buffer\u001b[0m\u001b[0;34m,\u001b[0m \u001b[0mkwds\u001b[0m\u001b[0;34m)\u001b[0m\u001b[0;34m\u001b[0m\u001b[0m\n\u001b[0m\u001b[1;32m    475\u001b[0m \u001b[0;34m\u001b[0m\u001b[0m\n\u001b[1;32m    476\u001b[0m     \u001b[0mparser_f\u001b[0m\u001b[0;34m.\u001b[0m\u001b[0m__name__\u001b[0m \u001b[0;34m=\u001b[0m \u001b[0mname\u001b[0m\u001b[0;34m\u001b[0m\u001b[0m\n",
      "\u001b[0;32m/Library/Python/2.7/site-packages/pandas/io/parsers.pyc\u001b[0m in \u001b[0;36m_read\u001b[0;34m(filepath_or_buffer, kwds)\u001b[0m\n\u001b[1;32m    248\u001b[0m \u001b[0;34m\u001b[0m\u001b[0m\n\u001b[1;32m    249\u001b[0m     \u001b[0;31m# Create the parser.\u001b[0m\u001b[0;34m\u001b[0m\u001b[0;34m\u001b[0m\u001b[0m\n\u001b[0;32m--> 250\u001b[0;31m     \u001b[0mparser\u001b[0m \u001b[0;34m=\u001b[0m \u001b[0mTextFileReader\u001b[0m\u001b[0;34m(\u001b[0m\u001b[0mfilepath_or_buffer\u001b[0m\u001b[0;34m,\u001b[0m \u001b[0;34m**\u001b[0m\u001b[0mkwds\u001b[0m\u001b[0;34m)\u001b[0m\u001b[0;34m\u001b[0m\u001b[0m\n\u001b[0m\u001b[1;32m    251\u001b[0m \u001b[0;34m\u001b[0m\u001b[0m\n\u001b[1;32m    252\u001b[0m     \u001b[0;32mif\u001b[0m \u001b[0;34m(\u001b[0m\u001b[0mnrows\u001b[0m \u001b[0;32mis\u001b[0m \u001b[0;32mnot\u001b[0m \u001b[0mNone\u001b[0m\u001b[0;34m)\u001b[0m \u001b[0;32mand\u001b[0m \u001b[0;34m(\u001b[0m\u001b[0mchunksize\u001b[0m \u001b[0;32mis\u001b[0m \u001b[0;32mnot\u001b[0m \u001b[0mNone\u001b[0m\u001b[0;34m)\u001b[0m\u001b[0;34m:\u001b[0m\u001b[0;34m\u001b[0m\u001b[0m\n",
      "\u001b[0;32m/Library/Python/2.7/site-packages/pandas/io/parsers.pyc\u001b[0m in \u001b[0;36m__init__\u001b[0;34m(self, f, engine, **kwds)\u001b[0m\n\u001b[1;32m    564\u001b[0m             \u001b[0mself\u001b[0m\u001b[0;34m.\u001b[0m\u001b[0moptions\u001b[0m\u001b[0;34m[\u001b[0m\u001b[0;34m'has_index_names'\u001b[0m\u001b[0;34m]\u001b[0m \u001b[0;34m=\u001b[0m \u001b[0mkwds\u001b[0m\u001b[0;34m[\u001b[0m\u001b[0;34m'has_index_names'\u001b[0m\u001b[0;34m]\u001b[0m\u001b[0;34m\u001b[0m\u001b[0m\n\u001b[1;32m    565\u001b[0m \u001b[0;34m\u001b[0m\u001b[0m\n\u001b[0;32m--> 566\u001b[0;31m         \u001b[0mself\u001b[0m\u001b[0;34m.\u001b[0m\u001b[0m_make_engine\u001b[0m\u001b[0;34m(\u001b[0m\u001b[0mself\u001b[0m\u001b[0;34m.\u001b[0m\u001b[0mengine\u001b[0m\u001b[0;34m)\u001b[0m\u001b[0;34m\u001b[0m\u001b[0m\n\u001b[0m\u001b[1;32m    567\u001b[0m \u001b[0;34m\u001b[0m\u001b[0m\n\u001b[1;32m    568\u001b[0m     \u001b[0;32mdef\u001b[0m \u001b[0m_get_options_with_defaults\u001b[0m\u001b[0;34m(\u001b[0m\u001b[0mself\u001b[0m\u001b[0;34m,\u001b[0m \u001b[0mengine\u001b[0m\u001b[0;34m)\u001b[0m\u001b[0;34m:\u001b[0m\u001b[0;34m\u001b[0m\u001b[0m\n",
      "\u001b[0;32m/Library/Python/2.7/site-packages/pandas/io/parsers.pyc\u001b[0m in \u001b[0;36m_make_engine\u001b[0;34m(self, engine)\u001b[0m\n\u001b[1;32m    703\u001b[0m     \u001b[0;32mdef\u001b[0m \u001b[0m_make_engine\u001b[0m\u001b[0;34m(\u001b[0m\u001b[0mself\u001b[0m\u001b[0;34m,\u001b[0m \u001b[0mengine\u001b[0m\u001b[0;34m=\u001b[0m\u001b[0;34m'c'\u001b[0m\u001b[0;34m)\u001b[0m\u001b[0;34m:\u001b[0m\u001b[0;34m\u001b[0m\u001b[0m\n\u001b[1;32m    704\u001b[0m         \u001b[0;32mif\u001b[0m \u001b[0mengine\u001b[0m \u001b[0;34m==\u001b[0m \u001b[0;34m'c'\u001b[0m\u001b[0;34m:\u001b[0m\u001b[0;34m\u001b[0m\u001b[0m\n\u001b[0;32m--> 705\u001b[0;31m             \u001b[0mself\u001b[0m\u001b[0;34m.\u001b[0m\u001b[0m_engine\u001b[0m \u001b[0;34m=\u001b[0m \u001b[0mCParserWrapper\u001b[0m\u001b[0;34m(\u001b[0m\u001b[0mself\u001b[0m\u001b[0;34m.\u001b[0m\u001b[0mf\u001b[0m\u001b[0;34m,\u001b[0m \u001b[0;34m**\u001b[0m\u001b[0mself\u001b[0m\u001b[0;34m.\u001b[0m\u001b[0moptions\u001b[0m\u001b[0;34m)\u001b[0m\u001b[0;34m\u001b[0m\u001b[0m\n\u001b[0m\u001b[1;32m    706\u001b[0m         \u001b[0;32melse\u001b[0m\u001b[0;34m:\u001b[0m\u001b[0;34m\u001b[0m\u001b[0m\n\u001b[1;32m    707\u001b[0m             \u001b[0;32mif\u001b[0m \u001b[0mengine\u001b[0m \u001b[0;34m==\u001b[0m \u001b[0;34m'python'\u001b[0m\u001b[0;34m:\u001b[0m\u001b[0;34m\u001b[0m\u001b[0m\n",
      "\u001b[0;32m/Library/Python/2.7/site-packages/pandas/io/parsers.pyc\u001b[0m in \u001b[0;36m__init__\u001b[0;34m(self, src, **kwds)\u001b[0m\n\u001b[1;32m   1070\u001b[0m         \u001b[0mkwds\u001b[0m\u001b[0;34m[\u001b[0m\u001b[0;34m'allow_leading_cols'\u001b[0m\u001b[0;34m]\u001b[0m \u001b[0;34m=\u001b[0m \u001b[0mself\u001b[0m\u001b[0;34m.\u001b[0m\u001b[0mindex_col\u001b[0m \u001b[0;32mis\u001b[0m \u001b[0;32mnot\u001b[0m \u001b[0mFalse\u001b[0m\u001b[0;34m\u001b[0m\u001b[0m\n\u001b[1;32m   1071\u001b[0m \u001b[0;34m\u001b[0m\u001b[0m\n\u001b[0;32m-> 1072\u001b[0;31m         \u001b[0mself\u001b[0m\u001b[0;34m.\u001b[0m\u001b[0m_reader\u001b[0m \u001b[0;34m=\u001b[0m \u001b[0m_parser\u001b[0m\u001b[0;34m.\u001b[0m\u001b[0mTextReader\u001b[0m\u001b[0;34m(\u001b[0m\u001b[0msrc\u001b[0m\u001b[0;34m,\u001b[0m \u001b[0;34m**\u001b[0m\u001b[0mkwds\u001b[0m\u001b[0;34m)\u001b[0m\u001b[0;34m\u001b[0m\u001b[0m\n\u001b[0m\u001b[1;32m   1073\u001b[0m \u001b[0;34m\u001b[0m\u001b[0m\n\u001b[1;32m   1074\u001b[0m         \u001b[0;31m# XXX\u001b[0m\u001b[0;34m\u001b[0m\u001b[0;34m\u001b[0m\u001b[0m\n",
      "\u001b[0;32mpandas/parser.pyx\u001b[0m in \u001b[0;36mpandas.parser.TextReader.__cinit__ (pandas/parser.c:3173)\u001b[0;34m()\u001b[0m\n",
      "\u001b[0;32mpandas/parser.pyx\u001b[0m in \u001b[0;36mpandas.parser.TextReader._setup_parser_source (pandas/parser.c:5912)\u001b[0;34m()\u001b[0m\n",
      "\u001b[0;31mIOError\u001b[0m: File train/X_train.txt does not exist"
     ]
    }
   ],
   "source": [
    "X_train = pd.read_csv(\"train/X_train.txt\", sep = \" \")"
   ]
  },
  {
   "cell_type": "code",
   "execution_count": 18,
   "metadata": {
    "collapsed": false
   },
   "outputs": [
    {
     "ename": "NameError",
     "evalue": "name 'pwd' is not defined",
     "output_type": "error",
     "traceback": [
      "\u001b[0;31m---------------------------------------------------------------------------\u001b[0m",
      "\u001b[0;31mNameError\u001b[0m                                 Traceback (most recent call last)",
      "\u001b[0;32m<ipython-input-18-63204efddace>\u001b[0m in \u001b[0;36m<module>\u001b[0;34m()\u001b[0m\n\u001b[1;32m      1\u001b[0m \u001b[0;31m#^ THAT COMPLETELY FAILS.\u001b[0m\u001b[0;34m\u001b[0m\u001b[0;34m\u001b[0m\u001b[0m\n\u001b[0;32m----> 2\u001b[0;31m \u001b[0mpwd\u001b[0m\u001b[0;34m\u001b[0m\u001b[0m\n\u001b[0m",
      "\u001b[0;31mNameError\u001b[0m: name 'pwd' is not defined"
     ]
    }
   ],
   "source": [
    "#^ THAT COMPLETELY FAILS.\n",
    "pwd"
   ]
  },
  {
   "cell_type": "code",
   "execution_count": 19,
   "metadata": {
    "collapsed": false
   },
   "outputs": [],
   "source": [
    "import sklearn.ensemble as sk\n",
    "import pylab as pl\n",
    "import sklearn.metrics as skm\n",
    "\n",
    "\n",
    "xt = []\n",
    "yt = []\n",
    "features = []\n",
    "activity = {1: \"walking\", 2: \"walking_upstairs\", 3: \"walking_downstairs\",\n",
    "            4: \"sitting\", 5: \"standing\", 6: \"laying\"}\n",
    "c = []\n",
    "feat = open('UCI HAR Dataset/features.txt', 'r')\n",
    "for i, r in enumerate(feat):\n",
    "    c.append(\"x\" + str(i))\n",
    "    features.append(r.split()[1])\n",
    "\n",
    "dex = []\n",
    "subj = open('UCI HAR Dataset/train/subject_train.txt', 'r')\n",
    "for line in subj:\n",
    "    dex.append(int(line))\n",
    "xtrain = open('UCI HAR Dataset/train/X_train.txt', 'r')\n",
    "for line in xtrain:\n",
    "    # df.loc[i] = np.array([line.rstrip().split()])\n",
    "    xt.append(map(lambda x: float(x), line.split()))\n",
    "\n",
    "ytrain = open('UCI HAR Dataset/train/y_train.txt', 'r')\n",
    "for line in ytrain:\n",
    "    yt.append(activity[int(line.rstrip())])\n",
    "df = pd.DataFrame(xt, columns=c)\n",
    "df['p_ID'] = dex\n",
    "df['activity'] = yt\n"
   ]
  },
  {
   "cell_type": "code",
   "execution_count": 20,
   "metadata": {
    "collapsed": false
   },
   "outputs": [
    {
     "data": {
      "text/html": [
       "<div>\n",
       "<table border=\"1\" class=\"dataframe\">\n",
       "  <thead>\n",
       "    <tr style=\"text-align: right;\">\n",
       "      <th></th>\n",
       "      <th>x0</th>\n",
       "      <th>x1</th>\n",
       "      <th>x2</th>\n",
       "      <th>x3</th>\n",
       "      <th>x4</th>\n",
       "      <th>x5</th>\n",
       "      <th>x6</th>\n",
       "      <th>x7</th>\n",
       "      <th>x8</th>\n",
       "      <th>x9</th>\n",
       "      <th>...</th>\n",
       "      <th>x553</th>\n",
       "      <th>x554</th>\n",
       "      <th>x555</th>\n",
       "      <th>x556</th>\n",
       "      <th>x557</th>\n",
       "      <th>x558</th>\n",
       "      <th>x559</th>\n",
       "      <th>x560</th>\n",
       "      <th>p_ID</th>\n",
       "      <th>activity</th>\n",
       "    </tr>\n",
       "  </thead>\n",
       "  <tbody>\n",
       "    <tr>\n",
       "      <th>0</th>\n",
       "      <td>0.288585</td>\n",
       "      <td>-0.020294</td>\n",
       "      <td>-0.132905</td>\n",
       "      <td>-0.995279</td>\n",
       "      <td>-0.983111</td>\n",
       "      <td>-0.913526</td>\n",
       "      <td>-0.995112</td>\n",
       "      <td>-0.983185</td>\n",
       "      <td>-0.923527</td>\n",
       "      <td>-0.934724</td>\n",
       "      <td>...</td>\n",
       "      <td>-0.710304</td>\n",
       "      <td>-0.112754</td>\n",
       "      <td>0.030400</td>\n",
       "      <td>-0.464761</td>\n",
       "      <td>-0.018446</td>\n",
       "      <td>-0.841247</td>\n",
       "      <td>0.179941</td>\n",
       "      <td>-0.058627</td>\n",
       "      <td>1</td>\n",
       "      <td>standing</td>\n",
       "    </tr>\n",
       "    <tr>\n",
       "      <th>1</th>\n",
       "      <td>0.278419</td>\n",
       "      <td>-0.016411</td>\n",
       "      <td>-0.123520</td>\n",
       "      <td>-0.998245</td>\n",
       "      <td>-0.975300</td>\n",
       "      <td>-0.960322</td>\n",
       "      <td>-0.998807</td>\n",
       "      <td>-0.974914</td>\n",
       "      <td>-0.957686</td>\n",
       "      <td>-0.943068</td>\n",
       "      <td>...</td>\n",
       "      <td>-0.861499</td>\n",
       "      <td>0.053477</td>\n",
       "      <td>-0.007435</td>\n",
       "      <td>-0.732626</td>\n",
       "      <td>0.703511</td>\n",
       "      <td>-0.844788</td>\n",
       "      <td>0.180289</td>\n",
       "      <td>-0.054317</td>\n",
       "      <td>1</td>\n",
       "      <td>standing</td>\n",
       "    </tr>\n",
       "    <tr>\n",
       "      <th>2</th>\n",
       "      <td>0.279653</td>\n",
       "      <td>-0.019467</td>\n",
       "      <td>-0.113462</td>\n",
       "      <td>-0.995380</td>\n",
       "      <td>-0.967187</td>\n",
       "      <td>-0.978944</td>\n",
       "      <td>-0.996520</td>\n",
       "      <td>-0.963668</td>\n",
       "      <td>-0.977469</td>\n",
       "      <td>-0.938692</td>\n",
       "      <td>...</td>\n",
       "      <td>-0.760104</td>\n",
       "      <td>-0.118559</td>\n",
       "      <td>0.177899</td>\n",
       "      <td>0.100699</td>\n",
       "      <td>0.808529</td>\n",
       "      <td>-0.848933</td>\n",
       "      <td>0.180637</td>\n",
       "      <td>-0.049118</td>\n",
       "      <td>1</td>\n",
       "      <td>standing</td>\n",
       "    </tr>\n",
       "    <tr>\n",
       "      <th>3</th>\n",
       "      <td>0.279174</td>\n",
       "      <td>-0.026201</td>\n",
       "      <td>-0.123283</td>\n",
       "      <td>-0.996091</td>\n",
       "      <td>-0.983403</td>\n",
       "      <td>-0.990675</td>\n",
       "      <td>-0.997099</td>\n",
       "      <td>-0.982750</td>\n",
       "      <td>-0.989302</td>\n",
       "      <td>-0.938692</td>\n",
       "      <td>...</td>\n",
       "      <td>-0.482845</td>\n",
       "      <td>-0.036788</td>\n",
       "      <td>-0.012892</td>\n",
       "      <td>0.640011</td>\n",
       "      <td>-0.485366</td>\n",
       "      <td>-0.848649</td>\n",
       "      <td>0.181935</td>\n",
       "      <td>-0.047663</td>\n",
       "      <td>1</td>\n",
       "      <td>standing</td>\n",
       "    </tr>\n",
       "    <tr>\n",
       "      <th>4</th>\n",
       "      <td>0.276629</td>\n",
       "      <td>-0.016570</td>\n",
       "      <td>-0.115362</td>\n",
       "      <td>-0.998139</td>\n",
       "      <td>-0.980817</td>\n",
       "      <td>-0.990482</td>\n",
       "      <td>-0.998321</td>\n",
       "      <td>-0.979672</td>\n",
       "      <td>-0.990441</td>\n",
       "      <td>-0.942469</td>\n",
       "      <td>...</td>\n",
       "      <td>-0.699205</td>\n",
       "      <td>0.123320</td>\n",
       "      <td>0.122542</td>\n",
       "      <td>0.693578</td>\n",
       "      <td>-0.615971</td>\n",
       "      <td>-0.847865</td>\n",
       "      <td>0.185151</td>\n",
       "      <td>-0.043892</td>\n",
       "      <td>1</td>\n",
       "      <td>standing</td>\n",
       "    </tr>\n",
       "  </tbody>\n",
       "</table>\n",
       "<p>5 rows × 563 columns</p>\n",
       "</div>"
      ],
      "text/plain": [
       "         x0        x1        x2        x3        x4        x5        x6  \\\n",
       "0  0.288585 -0.020294 -0.132905 -0.995279 -0.983111 -0.913526 -0.995112   \n",
       "1  0.278419 -0.016411 -0.123520 -0.998245 -0.975300 -0.960322 -0.998807   \n",
       "2  0.279653 -0.019467 -0.113462 -0.995380 -0.967187 -0.978944 -0.996520   \n",
       "3  0.279174 -0.026201 -0.123283 -0.996091 -0.983403 -0.990675 -0.997099   \n",
       "4  0.276629 -0.016570 -0.115362 -0.998139 -0.980817 -0.990482 -0.998321   \n",
       "\n",
       "         x7        x8        x9    ...         x553      x554      x555  \\\n",
       "0 -0.983185 -0.923527 -0.934724    ...    -0.710304 -0.112754  0.030400   \n",
       "1 -0.974914 -0.957686 -0.943068    ...    -0.861499  0.053477 -0.007435   \n",
       "2 -0.963668 -0.977469 -0.938692    ...    -0.760104 -0.118559  0.177899   \n",
       "3 -0.982750 -0.989302 -0.938692    ...    -0.482845 -0.036788 -0.012892   \n",
       "4 -0.979672 -0.990441 -0.942469    ...    -0.699205  0.123320  0.122542   \n",
       "\n",
       "       x556      x557      x558      x559      x560  p_ID  activity  \n",
       "0 -0.464761 -0.018446 -0.841247  0.179941 -0.058627     1  standing  \n",
       "1 -0.732626  0.703511 -0.844788  0.180289 -0.054317     1  standing  \n",
       "2  0.100699  0.808529 -0.848933  0.180637 -0.049118     1  standing  \n",
       "3  0.640011 -0.485366 -0.848649  0.181935 -0.047663     1  standing  \n",
       "4  0.693578 -0.615971 -0.847865  0.185151 -0.043892     1  standing  \n",
       "\n",
       "[5 rows x 563 columns]"
      ]
     },
     "execution_count": 20,
     "metadata": {},
     "output_type": "execute_result"
    }
   ],
   "source": [
    "df.head()"
   ]
  },
  {
   "cell_type": "code",
   "execution_count": 21,
   "metadata": {
    "collapsed": false
   },
   "outputs": [],
   "source": [
    "training_set = df.loc[df['p_ID'] >= 27]"
   ]
  },
  {
   "cell_type": "code",
   "execution_count": 22,
   "metadata": {
    "collapsed": false
   },
   "outputs": [],
   "source": [
    "train_feat = training_set.columns[:-2]"
   ]
  },
  {
   "cell_type": "code",
   "execution_count": 23,
   "metadata": {
    "collapsed": false
   },
   "outputs": [
    {
     "data": {
      "text/plain": [
       "Index([u'x0', u'x1', u'x2', u'x3', u'x4', u'x5', u'x6', u'x7', u'x8', u'x9', \n",
       "       ...\n",
       "       u'x551', u'x552', u'x553', u'x554', u'x555', u'x556', u'x557', u'x558',\n",
       "       u'x559', u'x560'],\n",
       "      dtype='object', length=561)"
      ]
     },
     "execution_count": 23,
     "metadata": {},
     "output_type": "execute_result"
    }
   ],
   "source": [
    "train_feat"
   ]
  },
  {
   "cell_type": "code",
   "execution_count": 24,
   "metadata": {
    "collapsed": true
   },
   "outputs": [],
   "source": [
    "X = training_set[train_feat]"
   ]
  },
  {
   "cell_type": "code",
   "execution_count": 25,
   "metadata": {
    "collapsed": false
   },
   "outputs": [
    {
     "data": {
      "text/html": [
       "<div>\n",
       "<table border=\"1\" class=\"dataframe\">\n",
       "  <thead>\n",
       "    <tr style=\"text-align: right;\">\n",
       "      <th></th>\n",
       "      <th>x0</th>\n",
       "      <th>x1</th>\n",
       "      <th>x2</th>\n",
       "      <th>x3</th>\n",
       "      <th>x4</th>\n",
       "      <th>x5</th>\n",
       "      <th>x6</th>\n",
       "      <th>x7</th>\n",
       "      <th>x8</th>\n",
       "      <th>x9</th>\n",
       "      <th>...</th>\n",
       "      <th>x551</th>\n",
       "      <th>x552</th>\n",
       "      <th>x553</th>\n",
       "      <th>x554</th>\n",
       "      <th>x555</th>\n",
       "      <th>x556</th>\n",
       "      <th>x557</th>\n",
       "      <th>x558</th>\n",
       "      <th>x559</th>\n",
       "      <th>x560</th>\n",
       "    </tr>\n",
       "  </thead>\n",
       "  <tbody>\n",
       "    <tr>\n",
       "      <th>5867</th>\n",
       "      <td>0.278791</td>\n",
       "      <td>-0.032477</td>\n",
       "      <td>-0.145829</td>\n",
       "      <td>-0.993050</td>\n",
       "      <td>-0.938822</td>\n",
       "      <td>-0.928840</td>\n",
       "      <td>-0.993505</td>\n",
       "      <td>-0.935597</td>\n",
       "      <td>-0.916592</td>\n",
       "      <td>-0.937860</td>\n",
       "      <td>...</td>\n",
       "      <td>0.469190</td>\n",
       "      <td>-0.807955</td>\n",
       "      <td>-0.939560</td>\n",
       "      <td>-0.051193</td>\n",
       "      <td>0.102632</td>\n",
       "      <td>0.066183</td>\n",
       "      <td>0.944358</td>\n",
       "      <td>-0.838642</td>\n",
       "      <td>0.209054</td>\n",
       "      <td>0.005301</td>\n",
       "    </tr>\n",
       "    <tr>\n",
       "      <th>5868</th>\n",
       "      <td>0.275709</td>\n",
       "      <td>-0.017983</td>\n",
       "      <td>-0.102424</td>\n",
       "      <td>-0.995569</td>\n",
       "      <td>-0.981350</td>\n",
       "      <td>-0.978256</td>\n",
       "      <td>-0.995906</td>\n",
       "      <td>-0.981642</td>\n",
       "      <td>-0.981780</td>\n",
       "      <td>-0.942066</td>\n",
       "      <td>...</td>\n",
       "      <td>0.270056</td>\n",
       "      <td>-0.586514</td>\n",
       "      <td>-0.844675</td>\n",
       "      <td>0.099949</td>\n",
       "      <td>-0.033375</td>\n",
       "      <td>0.629909</td>\n",
       "      <td>0.409820</td>\n",
       "      <td>-0.830250</td>\n",
       "      <td>0.215456</td>\n",
       "      <td>0.014507</td>\n",
       "    </tr>\n",
       "    <tr>\n",
       "      <th>5869</th>\n",
       "      <td>0.277683</td>\n",
       "      <td>-0.021163</td>\n",
       "      <td>-0.107035</td>\n",
       "      <td>-0.995089</td>\n",
       "      <td>-0.982616</td>\n",
       "      <td>-0.985356</td>\n",
       "      <td>-0.996059</td>\n",
       "      <td>-0.983539</td>\n",
       "      <td>-0.985157</td>\n",
       "      <td>-0.934012</td>\n",
       "      <td>...</td>\n",
       "      <td>0.243723</td>\n",
       "      <td>-0.480027</td>\n",
       "      <td>-0.818973</td>\n",
       "      <td>-0.108542</td>\n",
       "      <td>0.221648</td>\n",
       "      <td>0.784523</td>\n",
       "      <td>-0.281809</td>\n",
       "      <td>-0.829194</td>\n",
       "      <td>0.216168</td>\n",
       "      <td>0.013870</td>\n",
       "    </tr>\n",
       "    <tr>\n",
       "      <th>5870</th>\n",
       "      <td>0.277301</td>\n",
       "      <td>-0.015994</td>\n",
       "      <td>-0.098619</td>\n",
       "      <td>-0.994266</td>\n",
       "      <td>-0.978326</td>\n",
       "      <td>-0.976918</td>\n",
       "      <td>-0.995092</td>\n",
       "      <td>-0.978368</td>\n",
       "      <td>-0.975008</td>\n",
       "      <td>-0.934012</td>\n",
       "      <td>...</td>\n",
       "      <td>0.294119</td>\n",
       "      <td>-0.480123</td>\n",
       "      <td>-0.753174</td>\n",
       "      <td>0.033209</td>\n",
       "      <td>0.391622</td>\n",
       "      <td>0.878145</td>\n",
       "      <td>-0.952204</td>\n",
       "      <td>-0.827296</td>\n",
       "      <td>0.217438</td>\n",
       "      <td>0.012735</td>\n",
       "    </tr>\n",
       "    <tr>\n",
       "      <th>5871</th>\n",
       "      <td>0.279601</td>\n",
       "      <td>-0.013969</td>\n",
       "      <td>-0.090564</td>\n",
       "      <td>-0.995235</td>\n",
       "      <td>-0.987974</td>\n",
       "      <td>-0.989725</td>\n",
       "      <td>-0.995816</td>\n",
       "      <td>-0.988687</td>\n",
       "      <td>-0.989033</td>\n",
       "      <td>-0.940833</td>\n",
       "      <td>...</td>\n",
       "      <td>0.394216</td>\n",
       "      <td>-0.721772</td>\n",
       "      <td>-0.921732</td>\n",
       "      <td>-0.013611</td>\n",
       "      <td>-0.501153</td>\n",
       "      <td>0.860905</td>\n",
       "      <td>-0.182502</td>\n",
       "      <td>-0.827697</td>\n",
       "      <td>0.217023</td>\n",
       "      <td>0.009989</td>\n",
       "    </tr>\n",
       "  </tbody>\n",
       "</table>\n",
       "<p>5 rows × 561 columns</p>\n",
       "</div>"
      ],
      "text/plain": [
       "            x0        x1        x2        x3        x4        x5        x6  \\\n",
       "5867  0.278791 -0.032477 -0.145829 -0.993050 -0.938822 -0.928840 -0.993505   \n",
       "5868  0.275709 -0.017983 -0.102424 -0.995569 -0.981350 -0.978256 -0.995906   \n",
       "5869  0.277683 -0.021163 -0.107035 -0.995089 -0.982616 -0.985356 -0.996059   \n",
       "5870  0.277301 -0.015994 -0.098619 -0.994266 -0.978326 -0.976918 -0.995092   \n",
       "5871  0.279601 -0.013969 -0.090564 -0.995235 -0.987974 -0.989725 -0.995816   \n",
       "\n",
       "            x7        x8        x9    ...         x551      x552      x553  \\\n",
       "5867 -0.935597 -0.916592 -0.937860    ...     0.469190 -0.807955 -0.939560   \n",
       "5868 -0.981642 -0.981780 -0.942066    ...     0.270056 -0.586514 -0.844675   \n",
       "5869 -0.983539 -0.985157 -0.934012    ...     0.243723 -0.480027 -0.818973   \n",
       "5870 -0.978368 -0.975008 -0.934012    ...     0.294119 -0.480123 -0.753174   \n",
       "5871 -0.988687 -0.989033 -0.940833    ...     0.394216 -0.721772 -0.921732   \n",
       "\n",
       "          x554      x555      x556      x557      x558      x559      x560  \n",
       "5867 -0.051193  0.102632  0.066183  0.944358 -0.838642  0.209054  0.005301  \n",
       "5868  0.099949 -0.033375  0.629909  0.409820 -0.830250  0.215456  0.014507  \n",
       "5869 -0.108542  0.221648  0.784523 -0.281809 -0.829194  0.216168  0.013870  \n",
       "5870  0.033209  0.391622  0.878145 -0.952204 -0.827296  0.217438  0.012735  \n",
       "5871 -0.013611 -0.501153  0.860905 -0.182502 -0.827697  0.217023  0.009989  \n",
       "\n",
       "[5 rows x 561 columns]"
      ]
     },
     "execution_count": 25,
     "metadata": {},
     "output_type": "execute_result"
    }
   ],
   "source": [
    "X.head()"
   ]
  },
  {
   "cell_type": "code",
   "execution_count": 26,
   "metadata": {
    "collapsed": true
   },
   "outputs": [],
   "source": [
    "Y= training_set['activity']"
   ]
  },
  {
   "cell_type": "code",
   "execution_count": 27,
   "metadata": {
    "collapsed": false
   },
   "outputs": [
    {
     "data": {
      "text/plain": [
       "5867    standing\n",
       "5868    standing\n",
       "5869    standing\n",
       "5870    standing\n",
       "5871    standing\n",
       "Name: activity, dtype: object"
      ]
     },
     "execution_count": 27,
     "metadata": {},
     "output_type": "execute_result"
    }
   ],
   "source": [
    "Y.head()"
   ]
  },
  {
   "cell_type": "code",
   "execution_count": 28,
   "metadata": {
    "collapsed": true
   },
   "outputs": [],
   "source": [
    "#Instantiate the estimator object, using out of bag sampling for score estimation\n",
    "rf = sk.RandomForestClassifier(n_estimators=50, oob_score=True)"
   ]
  },
  {
   "cell_type": "code",
   "execution_count": 29,
   "metadata": {
    "collapsed": false
   },
   "outputs": [
    {
     "data": {
      "text/plain": [
       "RandomForestClassifier(bootstrap=True, class_weight=None, criterion='gini',\n",
       "            max_depth=None, max_features='auto', max_leaf_nodes=None,\n",
       "            min_samples_leaf=1, min_samples_split=2,\n",
       "            min_weight_fraction_leaf=0.0, n_estimators=50, n_jobs=1,\n",
       "            oob_score=True, random_state=None, verbose=0, warm_start=False)"
      ]
     },
     "execution_count": 29,
     "metadata": {},
     "output_type": "execute_result"
    }
   ],
   "source": [
    "#Fit the RF estimator to X and y DF:\n",
    "rf.fit(X,Y)"
   ]
  },
  {
   "cell_type": "code",
   "execution_count": 30,
   "metadata": {
    "collapsed": false
   },
   "outputs": [
    {
     "data": {
      "text/plain": [
       "0.98922558922558923"
      ]
     },
     "execution_count": 30,
     "metadata": {},
     "output_type": "execute_result"
    }
   ],
   "source": [
    "#RF OOB Score:\n",
    "rf.oob_score_"
   ]
  },
  {
   "cell_type": "code",
   "execution_count": 31,
   "metadata": {
    "collapsed": false
   },
   "outputs": [
    {
     "data": {
      "text/plain": [
       "['__abstractmethods__',\n",
       " '__class__',\n",
       " '__delattr__',\n",
       " '__dict__',\n",
       " '__doc__',\n",
       " '__format__',\n",
       " '__getattribute__',\n",
       " '__getitem__',\n",
       " '__hash__',\n",
       " '__init__',\n",
       " '__iter__',\n",
       " '__len__',\n",
       " '__module__',\n",
       " '__new__',\n",
       " '__reduce__',\n",
       " '__reduce_ex__',\n",
       " '__repr__',\n",
       " '__setattr__',\n",
       " '__sizeof__',\n",
       " '__str__',\n",
       " '__subclasshook__',\n",
       " '__weakref__',\n",
       " '_abc_cache',\n",
       " '_abc_negative_cache',\n",
       " '_abc_negative_cache_version',\n",
       " '_abc_registry',\n",
       " '_get_param_names',\n",
       " '_make_estimator',\n",
       " '_set_oob_score',\n",
       " '_validate_estimator',\n",
       " '_validate_y_class_weight',\n",
       " 'apply',\n",
       " 'base_estimator',\n",
       " 'base_estimator_',\n",
       " 'bootstrap',\n",
       " 'class_weight',\n",
       " 'classes_',\n",
       " 'criterion',\n",
       " 'estimator_params',\n",
       " 'estimators_',\n",
       " 'feature_importances_',\n",
       " 'fit',\n",
       " 'fit_transform',\n",
       " 'get_params',\n",
       " 'max_depth',\n",
       " 'max_features',\n",
       " 'max_leaf_nodes',\n",
       " 'min_samples_leaf',\n",
       " 'min_samples_split',\n",
       " 'min_weight_fraction_leaf',\n",
       " 'n_classes_',\n",
       " 'n_estimators',\n",
       " 'n_features_',\n",
       " 'n_jobs',\n",
       " 'n_outputs_',\n",
       " 'oob_decision_function_',\n",
       " 'oob_score',\n",
       " 'oob_score_',\n",
       " 'predict',\n",
       " 'predict_log_proba',\n",
       " 'predict_proba',\n",
       " 'random_state',\n",
       " 'score',\n",
       " 'set_params',\n",
       " 'transform',\n",
       " 'verbose',\n",
       " 'warm_start']"
      ]
     },
     "execution_count": 31,
     "metadata": {},
     "output_type": "execute_result"
    }
   ],
   "source": [
    "dir(rf)"
   ]
  },
  {
   "cell_type": "code",
   "execution_count": 32,
   "metadata": {
    "collapsed": false
   },
   "outputs": [],
   "source": [
    "test_set = df.loc[df['p_ID'] <= 6]\n",
    "testX = test_set[train_feat]\n",
    "testY = test_set['activity']\n"
   ]
  },
  {
   "cell_type": "code",
   "execution_count": 33,
   "metadata": {
    "collapsed": false
   },
   "outputs": [
    {
     "name": "stdout",
     "output_type": "stream",
     "text": [
      "mean accuracy score for the RF model on test data:  0.838783269962\n",
      "test (prediction):  ['standing' 'standing' 'standing' ..., 'walking_downstairs'\n",
      " 'walking_downstairs' 'walking_downstairs']\n"
     ]
    }
   ],
   "source": [
    "print \"mean accuracy score for the RF model on test data: \", rf.score(\n",
    "    testX, testY)\n",
    "print \"test (prediction): \", rf.predict(testX)"
   ]
  },
  {
   "cell_type": "code",
   "execution_count": 34,
   "metadata": {
    "collapsed": false
   },
   "outputs": [
    {
     "data": {
      "text/plain": [
       "array([  4.39633389e-04,   1.03851468e-04,   1.56629159e-04,\n",
       "         3.25848854e-03,   0.00000000e+00,   7.84346393e-03,\n",
       "         1.27577208e-03,   5.30474604e-04,   1.21793638e-03,\n",
       "         6.60445617e-03,   5.60151129e-05,   1.18380775e-04,\n",
       "         0.00000000e+00,   1.24750047e-04,   9.43110390e-05,\n",
       "         2.38903390e-03,   2.43375683e-03,   2.20071429e-04,\n",
       "         3.61960194e-04,   4.58405513e-03,   2.62001618e-04,\n",
       "         3.05009805e-04,   1.07235661e-03,   1.58439813e-04,\n",
       "         2.20964942e-04,   4.67328549e-05,   1.01769817e-05,\n",
       "         7.48172412e-05,   1.00888219e-04,   1.13714431e-04,\n",
       "         2.97742733e-05,   6.26848404e-05,   6.19106440e-05,\n",
       "         2.56727210e-04,   8.61424464e-05,   1.90673776e-04,\n",
       "         2.18089507e-04,   1.01234478e-02,   2.60977795e-03,\n",
       "         4.00093085e-04,   3.76430172e-02,   8.12793431e-03,\n",
       "         1.18196366e-02,   1.71717245e-03,   2.14629738e-04,\n",
       "         5.27622600e-04,   1.17723660e-03,   2.15901876e-03,\n",
       "         8.87467770e-04,   2.21975918e-02,   9.84642478e-03,\n",
       "         3.06437544e-02,   3.14765332e-02,   1.39495896e-02,\n",
       "         2.04833701e-02,   1.31660846e-02,   1.99960272e-02,\n",
       "         6.15956981e-03,   3.35263422e-02,   1.11722422e-03,\n",
       "         1.64594020e-04,   8.59913180e-05,   2.43687262e-03,\n",
       "         2.77108428e-04,   8.27786876e-05,   2.06009585e-03,\n",
       "         1.99486798e-03,   3.04171609e-04,   1.53809487e-04,\n",
       "         2.23295130e-03,   6.21323892e-03,   4.66602311e-04,\n",
       "         1.04457280e-03,   9.95573757e-03,   1.03854960e-02,\n",
       "         8.09579861e-03,   2.54038219e-03,   9.87314150e-04,\n",
       "         7.49193005e-04,   3.57847258e-03,   2.88123736e-05,\n",
       "         2.34707031e-04,   7.35151534e-05,   4.23025424e-03,\n",
       "         1.51814873e-04,   1.11911675e-02,   2.33929264e-04,\n",
       "         2.17625292e-03,   4.32130710e-03,   4.68773714e-03,\n",
       "         2.27925792e-04,   1.79965142e-04,   1.44915497e-04,\n",
       "         7.31182523e-05,   1.29466183e-04,   3.69137042e-04,\n",
       "         4.03181849e-03,   9.95677026e-04,   7.88340686e-03,\n",
       "         1.03591902e-03,   1.28378046e-04,   2.05296138e-04,\n",
       "         2.70518944e-04,   4.02351744e-04,   2.70686112e-04,\n",
       "         0.00000000e+00,   3.33818752e-04,   8.54793457e-05,\n",
       "         1.48317630e-04,   1.58344584e-05,   9.44985156e-05,\n",
       "         1.02286169e-04,   4.34248788e-04,   6.87634423e-04,\n",
       "         1.26486572e-04,   3.42474170e-04,   3.37922537e-04,\n",
       "         1.95040644e-03,   1.00528774e-03,   1.49245318e-04,\n",
       "         7.92089434e-04,   3.09014151e-04,   6.04294270e-04,\n",
       "         1.14957835e-03,   3.07774495e-04,   5.82357477e-03,\n",
       "         6.46970084e-04,   4.67354691e-03,   3.97310343e-03,\n",
       "         1.17626953e-03,   2.77472544e-04,   2.12187668e-04,\n",
       "         1.22765012e-03,   6.81851724e-05,   4.06270065e-05,\n",
       "         4.01037527e-03,   2.47790645e-03,   1.03159124e-03,\n",
       "         2.10395412e-03,   4.16847413e-03,   3.98833103e-03,\n",
       "         1.52679512e-03,   9.66832929e-04,   2.48515861e-04,\n",
       "         8.60621110e-04,   9.18377852e-04,   4.62358062e-05,\n",
       "         2.44347841e-04,   4.78731282e-04,   5.42025366e-04,\n",
       "         4.32038540e-04,   0.00000000e+00,   2.43438100e-05,\n",
       "         3.19101855e-04,   9.20829761e-05,   3.16979278e-05,\n",
       "         6.78410402e-05,   1.60911411e-03,   5.11176377e-04,\n",
       "         2.73079847e-03,   9.75213260e-05,   0.00000000e+00,\n",
       "         1.05971102e-05,   1.60521265e-03,   0.00000000e+00,\n",
       "         8.48126832e-03,   6.65494676e-03,   3.54402971e-04,\n",
       "         5.32419602e-04,   2.39389544e-04,   1.16718830e-04,\n",
       "         3.21174731e-04,   7.54108933e-04,   1.35709256e-04,\n",
       "         4.55942963e-04,   0.00000000e+00,   1.47113641e-03,\n",
       "         1.21483971e-04,   2.96542486e-04,   1.63059152e-03,\n",
       "         1.64911643e-04,   8.92603370e-04,   1.24119368e-03,\n",
       "         4.87788855e-05,   7.53774271e-04,   1.55133421e-03,\n",
       "         7.30905863e-05,   7.91756396e-04,   2.92015618e-05,\n",
       "         3.81602751e-05,   1.32085724e-04,   2.35910788e-04,\n",
       "         3.18819969e-04,   2.84495527e-05,   1.35247951e-04,\n",
       "         1.98964264e-04,   1.19565377e-04,   5.23962084e-04,\n",
       "         5.42508950e-04,   6.34792731e-04,   4.07864033e-03,\n",
       "         6.05016849e-03,   4.35505296e-03,   2.56619438e-03,\n",
       "         1.31315471e-04,   8.01256585e-03,   5.44892783e-03,\n",
       "         1.52454701e-03,   3.85861395e-05,   2.26510432e-03,\n",
       "         6.15616403e-04,   3.88099144e-04,   0.00000000e+00,\n",
       "         3.16844434e-04,   1.70220354e-03,   1.04478956e-02,\n",
       "         5.91154021e-03,   0.00000000e+00,   3.97586383e-03,\n",
       "         1.07952954e-02,   5.56658686e-05,   4.19388861e-03,\n",
       "         1.14186843e-03,   7.69171735e-04,   9.78783153e-05,\n",
       "         5.31721855e-05,   4.43079559e-03,   1.11487181e-04,\n",
       "         1.57966897e-03,   6.41938075e-05,   8.84161840e-05,\n",
       "         4.08581013e-03,   1.38142580e-03,   2.83750629e-05,\n",
       "         2.67775335e-04,   0.00000000e+00,   1.20777042e-04,\n",
       "         1.65336525e-04,   2.59801890e-05,   3.98401770e-03,\n",
       "         0.00000000e+00,   4.32537762e-05,   1.64910621e-04,\n",
       "         1.46013424e-04,   3.95193825e-03,   0.00000000e+00,\n",
       "         1.10062518e-05,   9.95575478e-05,   3.98193454e-05,\n",
       "         1.69501265e-04,   2.13576043e-04,   9.75982734e-05,\n",
       "         5.72068855e-04,   5.24402550e-04,   2.06071358e-04,\n",
       "         0.00000000e+00,   4.88028245e-05,   2.87944237e-03,\n",
       "         4.20818854e-04,   1.41953692e-04,   4.26422062e-03,\n",
       "         3.10618769e-05,   0.00000000e+00,   2.99205418e-05,\n",
       "         2.44520010e-04,   1.29755940e-04,   4.06517318e-05,\n",
       "         4.86208805e-05,   5.34621733e-03,   1.30395908e-04,\n",
       "         1.23971246e-04,   6.45260745e-03,   3.98887239e-03,\n",
       "         0.00000000e+00,   1.12993267e-03,   1.55314244e-04,\n",
       "         1.18972908e-04,   3.15851441e-05,   1.07699413e-04,\n",
       "         3.23573184e-05,   4.59624147e-05,   1.56570341e-02,\n",
       "         0.00000000e+00,   4.79759083e-03,   0.00000000e+00,\n",
       "         6.14530463e-04,   3.14918804e-05,   0.00000000e+00,\n",
       "         5.06919497e-04,   2.70626969e-05,   5.64361622e-04,\n",
       "         0.00000000e+00,   1.56568324e-04,   3.68484771e-04,\n",
       "         9.04106645e-05,   8.61601635e-04,   1.07511771e-03,\n",
       "         1.82855616e-03,   2.38740897e-04,   2.06111082e-04,\n",
       "         1.53022844e-03,   2.01179577e-04,   4.03091545e-03,\n",
       "         1.93643886e-04,   4.27668773e-03,   8.12691979e-05,\n",
       "         1.16888867e-04,   1.62546452e-05,   0.00000000e+00,\n",
       "         1.62412232e-05,   5.28205712e-03,   0.00000000e+00,\n",
       "         3.19653044e-05,   5.37257111e-05,   1.18744108e-02,\n",
       "         2.43564272e-05,   7.88277312e-04,   3.80997992e-04,\n",
       "         6.56257658e-04,   7.12712991e-05,   2.08983900e-04,\n",
       "         1.66940337e-04,   1.47074750e-05,   1.23864106e-04,\n",
       "         4.14313011e-05,   5.98660378e-04,   1.30459270e-04,\n",
       "         3.10534813e-04,   4.09376317e-03,   1.28138906e-04,\n",
       "         4.79810729e-04,   4.44797503e-04,   3.25124509e-03,\n",
       "         2.78485814e-04,   7.26779728e-05,   0.00000000e+00,\n",
       "         5.84606177e-05,   1.73604378e-04,   1.90686202e-04,\n",
       "         3.35996432e-04,   1.44685423e-04,   3.20030707e-05,\n",
       "         0.00000000e+00,   2.20659778e-03,   2.11747358e-03,\n",
       "         6.32134537e-05,   2.78491378e-03,   1.03530703e-04,\n",
       "         4.08595884e-03,   2.99909259e-03,   1.81298480e-03,\n",
       "         3.14301234e-04,   1.20622378e-02,   0.00000000e+00,\n",
       "         5.31774926e-04,   3.12674850e-03,   1.48614118e-04,\n",
       "         7.89175535e-06,   2.96160427e-05,   1.87477437e-04,\n",
       "         1.69994752e-03,   4.12900992e-04,   5.48189716e-03,\n",
       "         0.00000000e+00,   4.20328447e-03,   3.06703664e-04,\n",
       "         7.94312320e-03,   0.00000000e+00,   7.14669692e-03,\n",
       "         1.11334389e-04,   3.17550803e-05,   7.57857890e-03,\n",
       "         1.27014347e-04,   2.78640234e-04,   1.32337112e-03,\n",
       "         1.22033847e-04,   5.81975049e-05,   6.51055203e-05,\n",
       "         1.71798566e-04,   1.70115030e-04,   3.31841557e-05,\n",
       "         4.78733182e-03,   4.30198026e-03,   2.91725283e-05,\n",
       "         5.95409650e-05,   0.00000000e+00,   0.00000000e+00,\n",
       "         3.05597152e-04,   0.00000000e+00,   6.46444351e-03,\n",
       "         0.00000000e+00,   5.25673413e-04,   6.36552678e-05,\n",
       "         1.05929612e-02,   2.02906898e-04,   4.49236936e-03,\n",
       "         1.22010938e-04,   5.21403681e-04,   0.00000000e+00,\n",
       "         8.74381333e-04,   0.00000000e+00,   4.33506983e-05,\n",
       "         0.00000000e+00,   2.17824120e-04,   3.50212085e-04,\n",
       "         9.22038141e-05,   3.12066931e-05,   3.81777609e-04,\n",
       "         0.00000000e+00,   1.07847065e-03,   7.50992307e-04,\n",
       "         6.37760957e-03,   4.80544977e-04,   3.03954701e-05,\n",
       "         0.00000000e+00,   3.12641384e-05,   6.14013213e-05,\n",
       "         1.01282750e-04,   2.67157683e-03,   1.58853010e-04,\n",
       "         1.37738119e-04,   6.54469690e-03,   6.42707663e-05,\n",
       "         2.72220307e-03,   1.67292457e-04,   6.38666937e-04,\n",
       "         1.48569025e-03,   6.13403666e-05,   4.41946693e-04,\n",
       "         1.24496348e-03,   2.77026119e-04,   4.83337901e-03,\n",
       "         1.29435510e-03,   1.26332628e-03,   2.01797420e-04,\n",
       "         4.61036721e-05,   2.32371363e-04,   5.46689034e-05,\n",
       "         2.09382292e-04,   4.57197331e-04,   3.11640324e-05,\n",
       "         2.00000752e-04,   5.63043470e-04,   0.00000000e+00,\n",
       "         2.68690061e-04,   9.37989081e-05,   0.00000000e+00,\n",
       "         1.15187375e-03,   3.88967044e-05,   2.43346348e-05,\n",
       "         8.27657210e-03,   2.34267567e-03,   2.27395099e-04,\n",
       "         8.23360060e-04,   9.16537720e-04,   4.01522960e-04,\n",
       "         1.28206081e-04,   1.92418192e-03,   2.55064434e-03,\n",
       "         1.21411515e-03,   4.13253331e-03,   4.29453445e-04,\n",
       "         1.56295704e-03,   2.45372082e-04,   5.45126137e-04,\n",
       "         6.83531952e-04,   1.33340260e-04,   2.16549642e-05,\n",
       "         2.74067896e-03,   7.04628718e-05,   3.40828609e-06,\n",
       "         2.18850735e-04,   1.57790319e-04,   8.99774025e-04,\n",
       "         1.33730978e-03,   2.88231004e-05,   2.19786031e-04,\n",
       "         5.35875684e-05,   0.00000000e+00,   2.95362158e-05,\n",
       "         8.03853775e-05,   8.25776970e-05,   3.22264426e-05,\n",
       "         9.61509188e-05,   6.32943269e-05,   1.28794386e-04,\n",
       "         4.84704997e-03,   1.58189959e-04,   2.15832271e-03,\n",
       "         3.41075503e-04,   2.01287195e-04,   2.00664276e-05,\n",
       "         3.06114877e-05,   1.39010472e-04,   1.04453931e-04,\n",
       "         0.00000000e+00,   1.40831760e-03,   3.94368569e-04,\n",
       "         0.00000000e+00,   0.00000000e+00,   8.51251888e-05,\n",
       "         2.01128425e-04,   4.75707605e-03,   6.24609221e-03,\n",
       "         4.15487536e-03,   2.61354662e-03,   4.63929246e-06,\n",
       "         2.51947377e-03,   6.25108150e-03,   7.77142083e-03,\n",
       "         5.28787117e-03,   2.35114586e-04,   8.69171936e-05,\n",
       "         3.38969170e-04,   9.40976986e-05,   2.84221406e-05,\n",
       "         3.78517464e-04,   4.46835067e-04,   1.88283545e-04,\n",
       "         0.00000000e+00,   1.20766929e-04,   1.46633148e-04,\n",
       "         5.51033885e-05,   1.26492902e-04,   7.93673380e-05,\n",
       "         1.46612607e-04,   9.07866163e-05,   1.38208412e-04,\n",
       "         2.22176783e-04,   0.00000000e+00,   6.01228505e-05,\n",
       "         1.13338270e-04,   1.03987539e-04,   2.03759657e-04,\n",
       "         1.47237341e-04,   1.72187779e-04,   2.85088022e-04,\n",
       "         4.49718183e-04,   1.75849573e-04,   4.26625329e-04,\n",
       "         1.27986628e-04,   8.14106927e-05,   2.18961460e-03,\n",
       "         3.88426613e-04,   3.15957403e-04,   0.00000000e+00,\n",
       "         4.58696890e-04,   3.97458222e-03,   2.78689496e-05,\n",
       "         4.89154330e-04,   4.32956756e-05,   0.00000000e+00,\n",
       "         1.40793669e-04,   3.01562878e-05,   7.48295457e-05,\n",
       "         1.62712087e-05,   7.50876241e-05,   1.82066169e-04,\n",
       "         2.81380774e-02,   2.26250076e-02,   2.00726748e-02])"
      ]
     },
     "execution_count": 34,
     "metadata": {},
     "output_type": "execute_result"
    }
   ],
   "source": [
    "#Feature Importances:\n",
    "rf.feature_importances_\n",
    "#Long list of features with some sort of score"
   ]
  },
  {
   "cell_type": "code",
   "execution_count": 35,
   "metadata": {
    "collapsed": false
   },
   "outputs": [
    {
     "data": {
      "text/plain": [
       "561"
      ]
     },
     "execution_count": 35,
     "metadata": {},
     "output_type": "execute_result"
    }
   ],
   "source": [
    "len(rf.feature_importances_)"
   ]
  },
  {
   "cell_type": "code",
   "execution_count": 36,
   "metadata": {
    "collapsed": false
   },
   "outputs": [
    {
     "name": "stdout",
     "output_type": "stream",
     "text": [
      "the top %s features in the random forest model:10\n",
      "[('tGravityAcc-mean()-X', 0.037643017181770121), ('tGravityAcc-max()-X', 0.022197591769942192), ('tGravityAcc-max()-Z', 0.030643754390672118), ('tGravityAcc-min()-X', 0.031476533217940743), ('tGravityAcc-min()-Z', 0.020483370052637527), ('tGravityAcc-energy()-X', 0.019996027189630686), ('tGravityAcc-energy()-Z', 0.033526342170179364), ('angle(X,gravityMean)', 0.028138077389749445), ('angle(Y,gravityMean)', 0.02262500755003824), ('angle(Z,gravityMean)', 0.02007267477163973)]\n"
     ]
    }
   ],
   "source": [
    "for n in range(50):\n",
    "    z = (n+1)/1000.0 + .010\n",
    "    important_features = [(features[i], n)\n",
    "                          for i, n in enumerate(rf.feature_importances_)\n",
    "                          if n >= z]\n",
    "    if len(important_features) <= 10:\n",
    "        print \"the top %s features in the random forest model:{0}\".format(\n",
    "            len(important_features))\n",
    "        print important_features\n",
    "        break"
   ]
  },
  {
   "cell_type": "code",
   "execution_count": 86,
   "metadata": {
    "collapsed": false
   },
   "outputs": [
    {
     "data": {
      "text/html": [
       "<div>\n",
       "<table border=\"1\" class=\"dataframe\">\n",
       "  <thead>\n",
       "    <tr style=\"text-align: right;\">\n",
       "      <th></th>\n",
       "      <th>FeatureImportance</th>\n",
       "      <th>FeatureName</th>\n",
       "    </tr>\n",
       "  </thead>\n",
       "  <tbody>\n",
       "    <tr>\n",
       "      <th>40</th>\n",
       "      <td>0.037643</td>\n",
       "      <td>tGravityAcc-mean()-X</td>\n",
       "    </tr>\n",
       "    <tr>\n",
       "      <th>58</th>\n",
       "      <td>0.033526</td>\n",
       "      <td>tGravityAcc-energy()-Z</td>\n",
       "    </tr>\n",
       "    <tr>\n",
       "      <th>52</th>\n",
       "      <td>0.031477</td>\n",
       "      <td>tGravityAcc-min()-X</td>\n",
       "    </tr>\n",
       "    <tr>\n",
       "      <th>51</th>\n",
       "      <td>0.030644</td>\n",
       "      <td>tGravityAcc-max()-Z</td>\n",
       "    </tr>\n",
       "    <tr>\n",
       "      <th>558</th>\n",
       "      <td>0.028138</td>\n",
       "      <td>angle(X,gravityMean)</td>\n",
       "    </tr>\n",
       "    <tr>\n",
       "      <th>559</th>\n",
       "      <td>0.022625</td>\n",
       "      <td>angle(Y,gravityMean)</td>\n",
       "    </tr>\n",
       "    <tr>\n",
       "      <th>49</th>\n",
       "      <td>0.022198</td>\n",
       "      <td>tGravityAcc-max()-X</td>\n",
       "    </tr>\n",
       "    <tr>\n",
       "      <th>54</th>\n",
       "      <td>0.020483</td>\n",
       "      <td>tGravityAcc-min()-Z</td>\n",
       "    </tr>\n",
       "    <tr>\n",
       "      <th>560</th>\n",
       "      <td>0.020073</td>\n",
       "      <td>angle(Z,gravityMean)</td>\n",
       "    </tr>\n",
       "    <tr>\n",
       "      <th>56</th>\n",
       "      <td>0.019996</td>\n",
       "      <td>tGravityAcc-energy()-X</td>\n",
       "    </tr>\n",
       "  </tbody>\n",
       "</table>\n",
       "</div>"
      ],
      "text/plain": [
       "     FeatureImportance             FeatureName\n",
       "40            0.037643    tGravityAcc-mean()-X\n",
       "58            0.033526  tGravityAcc-energy()-Z\n",
       "52            0.031477     tGravityAcc-min()-X\n",
       "51            0.030644     tGravityAcc-max()-Z\n",
       "558           0.028138    angle(X,gravityMean)\n",
       "559           0.022625    angle(Y,gravityMean)\n",
       "49            0.022198     tGravityAcc-max()-X\n",
       "54            0.020483     tGravityAcc-min()-Z\n",
       "560           0.020073    angle(Z,gravityMean)\n",
       "56            0.019996  tGravityAcc-energy()-X"
      ]
     },
     "execution_count": 86,
     "metadata": {},
     "output_type": "execute_result"
    }
   ],
   "source": [
    "#Alternative approach: Extract high performing features using a dataframe:\n",
    "feature_df = pd.DataFrame(data={\"FeatureName\":features, \"FeatureImportance\":rf.feature_importances_})\n",
    "sorted_df = feature_df.sort(columns=\"FeatureImportance\",ascending=False)\n",
    "sorted_df[:10]\n",
    "#THIS WORKS."
   ]
  },
  {
   "cell_type": "code",
   "execution_count": 105,
   "metadata": {
    "collapsed": false
   },
   "outputs": [
    {
     "data": {
      "text/plain": [
       "<matplotlib.axes.AxesSubplot at 0x119fbcfd0>"
      ]
     },
     "execution_count": 105,
     "metadata": {},
     "output_type": "execute_result"
    },
    {
     "data": {
      "image/png": "[encoded data removed]",
      "text/plain": [
       "<matplotlib.figure.Figure at 0x119985350>"
      ]
     },
     "metadata": {},
     "output_type": "display_data"
    }
   ],
   "source": [
    "#Plot feature importance decay across sorted features.\n",
    "#Have to drop the index and then plot in order to get correct x,y relationships.\n",
    "sorted_df[\"FeatureImportance\"].reset_index(drop=True).plot()"
   ]
  },
  {
   "cell_type": "code",
   "execution_count": 37,
   "metadata": {
    "collapsed": false
   },
   "outputs": [
    {
     "data": {
      "text/plain": [
       "[(0.00043963338904056835, 'tBodyAcc-sma()'),\n",
       " (0.00010385146827108572, 'tBodyAcc-max()-X'),\n",
       " (0.0001566291591486105, 'tBodyAcc-mad()-Z'),\n",
       " (0.0032584885440178645, 'tBodyAcc-mad()-Y'),\n",
       " (0.0, 'tBodyAcc-mad()-X'),\n",
       " (0.0078434639320034867, 'tBodyAcc-std()-Z'),\n",
       " (0.001275772079555087, 'tBodyAcc-std()-X'),\n",
       " (0.00053047460351556084, 'angle(X,gravityMean)'),\n",
       " (0.0012179363849435061, 'angle(Y,gravityMean)'),\n",
       " (0.0066044561709186298, 'angle(Z,gravityMean)')]"
      ]
     },
     "execution_count": 37,
     "metadata": {},
     "output_type": "execute_result"
    }
   ],
   "source": [
    "#THIS TOTALLY FAILS TOO:\n",
    "#Attempt top 10 feature extraction using argpartition fn:\n",
    "import numpy as np\n",
    "type(rf.feature_importances_)\n",
    "indices = np.argpartition(rf.feature_importances_,10)[-10:]\n",
    "top_features = [features[index] for index in indices]\n",
    "ziplist = zip(rf.feature_importances_, top_features)\n",
    "temp_list = sorted(ziplist,reverse=True)\n",
    "ziplist"
   ]
  },
  {
   "cell_type": "code",
   "execution_count": 38,
   "metadata": {
    "collapsed": false,
    "scrolled": true
   },
   "outputs": [
    {
     "name": "stdout",
     "output_type": "stream",
     "text": [
      "Mean accuracy score for the test set:  0.838783269962\n",
      "Mean accuracy score for validation set:  0.821954484605\n"
     ]
    },
    {
     "data": {
      "image/png": "[encoded data removed]",
      "text/plain": [
       "<matplotlib.figure.Figure at 0x11458d150>"
      ]
     },
     "metadata": {},
     "output_type": "display_data"
    }
   ],
   "source": [
    "import matplotlib.pyplot as plt\n",
    "%matplotlib inline\n",
    "\n",
    "validation_set = df.loc[(df[\"p_ID\"] > 21) & (df[\"p_ID\"] < 27)]\n",
    "validationX = validation_set[train_feat]\n",
    "validationY = validation_set['activity']\n",
    "print \"Mean accuracy score for the test set: \", rf.score(testX, testY)\n",
    "print \"Mean accuracy score for validation set: \", rf.score(\n",
    "    validationX, validationY)\n",
    "\n",
    "test_pred = rf.predict(testX)\n",
    "test_cm = skm.confusion_matrix(testY, test_pred)\n",
    "\n",
    "pl.matshow(test_cm)\n",
    "pl.title('Confusion matrix for test data')\n",
    "pl.colorbar()\n",
    "pl.show()\n"
   ]
  },
  {
   "cell_type": "code",
   "execution_count": 39,
   "metadata": {
    "collapsed": false
   },
   "outputs": [
    {
     "name": "stdout",
     "output_type": "stream",
     "text": [
      "Precision: 0.854969\n",
      "Accuracy: 0.838783\n",
      "Recall: 0.838783\n",
      "F1: 0.837170\n"
     ]
    },
    {
     "name": "stderr",
     "output_type": "stream",
     "text": [
      "/Library/Python/2.7/site-packages/sklearn/metrics/classification.py:1082: DeprecationWarning: The default `weighted` averaging is deprecated, and from version 0.18, use of precision, recall or F-score with multiclass or multilabel data or pos_label=None will result in an exception. Please set an explicit value for `average`, one of (None, 'micro', 'macro', 'weighted', 'samples'). In cross validation use, for instance, scoring=\"f1_weighted\" instead of scoring=\"f1\".\n",
      "  sample_weight=sample_weight)\n",
      "/Library/Python/2.7/site-packages/sklearn/metrics/classification.py:1172: DeprecationWarning: The default `weighted` averaging is deprecated, and from version 0.18, use of precision, recall or F-score with multiclass or multilabel data or pos_label=None will result in an exception. Please set an explicit value for `average`, one of (None, 'micro', 'macro', 'weighted', 'samples'). In cross validation use, for instance, scoring=\"f1_weighted\" instead of scoring=\"f1\".\n",
      "  sample_weight=sample_weight)\n",
      "/Library/Python/2.7/site-packages/sklearn/metrics/classification.py:676: DeprecationWarning: The default `weighted` averaging is deprecated, and from version 0.18, use of precision, recall or F-score with multiclass or multilabel data or pos_label=None will result in an exception. Please set an explicit value for `average`, one of (None, 'micro', 'macro', 'weighted', 'samples'). In cross validation use, for instance, scoring=\"f1_weighted\" instead of scoring=\"f1\".\n",
      "  sample_weight=sample_weight)\n"
     ]
    }
   ],
   "source": [
    "# Precision score\n",
    "print \"Precision: %f\" % (skm.precision_score(testY, test_pred))\n",
    "# Accuracy score\n",
    "print \"Accuracy: %f\" % (skm.accuracy_score(testY, test_pred))\n",
    "# Recall score\n",
    "print \"Recall: %f\" % (skm.recall_score(testY, test_pred))\n",
    "# F1 score\n",
    "print \"F1: %f\" % (skm.f1_score(testY, test_pred))"
   ]
  },
  {
   "cell_type": "code",
   "execution_count": null,
   "metadata": {
    "collapsed": true
   },
   "outputs": [],
   "source": []
  },
  {
   "cell_type": "code",
   "execution_count": null,
   "metadata": {
    "collapsed": true
   },
   "outputs": [],
   "source": []
  },
  {
   "cell_type": "code",
   "execution_count": null,
   "metadata": {
    "collapsed": true
   },
   "outputs": [],
   "source": []
  },
  {
   "cell_type": "code",
   "execution_count": null,
   "metadata": {
    "collapsed": true
   },
   "outputs": [],
   "source": []
  },
  {
   "cell_type": "code",
   "execution_count": null,
   "metadata": {
    "collapsed": true
   },
   "outputs": [],
   "source": []
  }
 ],
 "metadata": {
  "kernelspec": {
   "display_name": "Python 2",
   "language": "python",
   "name": "python2"
  },
  "language_info": {
   "codemirror_mode": {
    "name": "ipython",
    "version": 2
   },
   "file_extension": ".py",
   "mimetype": "text/x-python",
   "name": "python",
   "nbconvert_exporter": "python",
   "pygments_lexer": "ipython2",
   "version": "2.7.6"
  }
 },
 "nbformat": 4,
 "nbformat_minor": 0
}
