{
 "cells": [
  {
   "cell_type": "markdown",
   "metadata": {},
   "source": [
    "#K-Nearest-Neighbor Analysis\n",
    "In python.  \n",
    "With SKLEARN.  "
   ]
  },
  {
   "cell_type": "markdown",
   "metadata": {},
   "source": [
    "##Approach:  \n",
    "1. Load the Iris dataset.  \n",
    "2. Pick a point at random.  \n",
    "3. Classify that point using a custom kNN implementation."
   ]
  },
  {
   "cell_type": "code",
   "execution_count": 2,
   "metadata": {
    "collapsed": true
   },
   "outputs": [],
   "source": [
    "from sklearn import datasets\n",
    "import matplotlib.pyplot as plt\n",
    "import numpy as np\n",
    "import scipy as sp\n",
    "import pandas as pd"
   ]
  },
  {
   "cell_type": "code",
   "execution_count": 3,
   "metadata": {
    "collapsed": true
   },
   "outputs": [],
   "source": [
    "iris = datasets.load_iris()"
   ]
  },
  {
   "cell_type": "code",
   "execution_count": 4,
   "metadata": {
    "collapsed": false
   },
   "outputs": [
    {
     "data": {
      "text/plain": [
       "['DESCR',\n",
       " '__class__',\n",
       " '__cmp__',\n",
       " '__contains__',\n",
       " '__delattr__',\n",
       " '__delitem__',\n",
       " '__dict__',\n",
       " '__doc__',\n",
       " '__eq__',\n",
       " '__format__',\n",
       " '__ge__',\n",
       " '__getattribute__',\n",
       " '__getitem__',\n",
       " '__gt__',\n",
       " '__hash__',\n",
       " '__init__',\n",
       " '__iter__',\n",
       " '__le__',\n",
       " '__len__',\n",
       " '__lt__',\n",
       " '__module__',\n",
       " '__ne__',\n",
       " '__new__',\n",
       " '__reduce__',\n",
       " '__reduce_ex__',\n",
       " '__repr__',\n",
       " '__setattr__',\n",
       " '__setitem__',\n",
       " '__sizeof__',\n",
       " '__str__',\n",
       " '__subclasshook__',\n",
       " '__weakref__',\n",
       " 'clear',\n",
       " 'copy',\n",
       " 'data',\n",
       " 'feature_names',\n",
       " 'fromkeys',\n",
       " 'get',\n",
       " 'has_key',\n",
       " 'items',\n",
       " 'iteritems',\n",
       " 'iterkeys',\n",
       " 'itervalues',\n",
       " 'keys',\n",
       " 'pop',\n",
       " 'popitem',\n",
       " 'setdefault',\n",
       " 'target',\n",
       " 'target_names',\n",
       " 'update',\n",
       " 'values',\n",
       " 'viewitems',\n",
       " 'viewkeys',\n",
       " 'viewvalues']"
      ]
     },
     "execution_count": 4,
     "metadata": {},
     "output_type": "execute_result"
    }
   ],
   "source": [
    "dir(iris)"
   ]
  },
  {
   "cell_type": "code",
   "execution_count": 5,
   "metadata": {
    "collapsed": false
   },
   "outputs": [],
   "source": [
    "X = iris.data[:,0] #length\n",
    "Y = iris.data[:,1] #width\n",
    "label = iris.target #Species"
   ]
  },
  {
   "cell_type": "code",
   "execution_count": 6,
   "metadata": {
    "collapsed": false
   },
   "outputs": [],
   "source": [
    "species_key = {0:'setosa',1:'versicolor',2:'virginica'}"
   ]
  },
  {
   "cell_type": "code",
   "execution_count": 7,
   "metadata": {
    "collapsed": false,
    "scrolled": true
   },
   "outputs": [
    {
     "data": {
      "text/plain": [
       "['sepal length (cm)',\n",
       " 'sepal width (cm)',\n",
       " 'petal length (cm)',\n",
       " 'petal width (cm)']"
      ]
     },
     "execution_count": 7,
     "metadata": {},
     "output_type": "execute_result"
    }
   ],
   "source": [
    "iris.feature_names"
   ]
  },
  {
   "cell_type": "code",
   "execution_count": 8,
   "metadata": {
    "collapsed": false
   },
   "outputs": [],
   "source": [
    "df = pd.DataFrame(data={'length':X,'width':Y,'species':label},index=[i for i in range(0,len(Y))])"
   ]
  },
  {
   "cell_type": "code",
   "execution_count": 9,
   "metadata": {
    "collapsed": false
   },
   "outputs": [
    {
     "data": {
      "text/html": [
       "<div>\n",
       "<table border=\"1\" class=\"dataframe\">\n",
       "  <thead>\n",
       "    <tr style=\"text-align: right;\">\n",
       "      <th></th>\n",
       "      <th>length</th>\n",
       "      <th>species</th>\n",
       "      <th>width</th>\n",
       "    </tr>\n",
       "  </thead>\n",
       "  <tbody>\n",
       "    <tr>\n",
       "      <th>0</th>\n",
       "      <td>5.1</td>\n",
       "      <td>0</td>\n",
       "      <td>3.5</td>\n",
       "    </tr>\n",
       "    <tr>\n",
       "      <th>1</th>\n",
       "      <td>4.9</td>\n",
       "      <td>0</td>\n",
       "      <td>3.0</td>\n",
       "    </tr>\n",
       "    <tr>\n",
       "      <th>2</th>\n",
       "      <td>4.7</td>\n",
       "      <td>0</td>\n",
       "      <td>3.2</td>\n",
       "    </tr>\n",
       "    <tr>\n",
       "      <th>3</th>\n",
       "      <td>4.6</td>\n",
       "      <td>0</td>\n",
       "      <td>3.1</td>\n",
       "    </tr>\n",
       "    <tr>\n",
       "      <th>4</th>\n",
       "      <td>5.0</td>\n",
       "      <td>0</td>\n",
       "      <td>3.6</td>\n",
       "    </tr>\n",
       "  </tbody>\n",
       "</table>\n",
       "</div>"
      ],
      "text/plain": [
       "   length  species  width\n",
       "0     5.1        0    3.5\n",
       "1     4.9        0    3.0\n",
       "2     4.7        0    3.2\n",
       "3     4.6        0    3.1\n",
       "4     5.0        0    3.6"
      ]
     },
     "execution_count": 9,
     "metadata": {},
     "output_type": "execute_result"
    }
   ],
   "source": [
    "df.head()"
   ]
  },
  {
   "cell_type": "code",
   "execution_count": 10,
   "metadata": {
    "collapsed": false,
    "scrolled": true
   },
   "outputs": [
    {
     "data": {
      "text/plain": [
       "<matplotlib.axes.AxesSubplot at 0x112f9b910>"
      ]
     },
     "execution_count": 10,
     "metadata": {},
     "output_type": "execute_result"
    },
    {
     "data": {
      "image/png": "[encoded data removed]",
      "text/plain": [
       "<matplotlib.figure.Figure at 0x112f43e90>"
      ]
     },
     "metadata": {},
     "output_type": "display_data"
    }
   ],
   "source": [
    "#Visualize the iris dataset on a scatter plot\n",
    "%matplotlib inline\n",
    "df[[\"length\",'width']].plot(x='length',y='width',kind='scatter',c=df[\"species\"])"
   ]
  },
  {
   "cell_type": "code",
   "execution_count": 11,
   "metadata": {
    "collapsed": false
   },
   "outputs": [
    {
     "data": {
      "text/html": [
       "<div>\n",
       "<table border=\"1\" class=\"dataframe\">\n",
       "  <thead>\n",
       "    <tr style=\"text-align: right;\">\n",
       "      <th></th>\n",
       "      <th>length</th>\n",
       "      <th>species</th>\n",
       "      <th>width</th>\n",
       "    </tr>\n",
       "  </thead>\n",
       "  <tbody>\n",
       "    <tr>\n",
       "      <th>count</th>\n",
       "      <td>150.000000</td>\n",
       "      <td>150.000000</td>\n",
       "      <td>150.000000</td>\n",
       "    </tr>\n",
       "    <tr>\n",
       "      <th>mean</th>\n",
       "      <td>5.843333</td>\n",
       "      <td>1.000000</td>\n",
       "      <td>3.054000</td>\n",
       "    </tr>\n",
       "    <tr>\n",
       "      <th>std</th>\n",
       "      <td>0.828066</td>\n",
       "      <td>0.819232</td>\n",
       "      <td>0.433594</td>\n",
       "    </tr>\n",
       "    <tr>\n",
       "      <th>min</th>\n",
       "      <td>4.300000</td>\n",
       "      <td>0.000000</td>\n",
       "      <td>2.000000</td>\n",
       "    </tr>\n",
       "    <tr>\n",
       "      <th>25%</th>\n",
       "      <td>5.100000</td>\n",
       "      <td>0.000000</td>\n",
       "      <td>2.800000</td>\n",
       "    </tr>\n",
       "    <tr>\n",
       "      <th>50%</th>\n",
       "      <td>5.800000</td>\n",
       "      <td>1.000000</td>\n",
       "      <td>3.000000</td>\n",
       "    </tr>\n",
       "    <tr>\n",
       "      <th>75%</th>\n",
       "      <td>6.400000</td>\n",
       "      <td>2.000000</td>\n",
       "      <td>3.300000</td>\n",
       "    </tr>\n",
       "    <tr>\n",
       "      <th>max</th>\n",
       "      <td>7.900000</td>\n",
       "      <td>2.000000</td>\n",
       "      <td>4.400000</td>\n",
       "    </tr>\n",
       "  </tbody>\n",
       "</table>\n",
       "</div>"
      ],
      "text/plain": [
       "           length     species       width\n",
       "count  150.000000  150.000000  150.000000\n",
       "mean     5.843333    1.000000    3.054000\n",
       "std      0.828066    0.819232    0.433594\n",
       "min      4.300000    0.000000    2.000000\n",
       "25%      5.100000    0.000000    2.800000\n",
       "50%      5.800000    1.000000    3.000000\n",
       "75%      6.400000    2.000000    3.300000\n",
       "max      7.900000    2.000000    4.400000"
      ]
     },
     "execution_count": 11,
     "metadata": {},
     "output_type": "execute_result"
    }
   ],
   "source": [
    "df.describe()"
   ]
  },
  {
   "cell_type": "code",
   "execution_count": 12,
   "metadata": {
    "collapsed": false
   },
   "outputs": [
    {
     "data": {
      "text/plain": [
       "<matplotlib.axes.AxesSubplot at 0x113062b90>"
      ]
     },
     "execution_count": 12,
     "metadata": {},
     "output_type": "execute_result"
    },
    {
     "data": {
      "image/png": "[encoded data removed]",
      "text/plain": [
       "<matplotlib.figure.Figure at 0x1130dec50>"
      ]
     },
     "metadata": {},
     "output_type": "display_data"
    }
   ],
   "source": [
    "#Determine the species distribution within the dataset\n",
    "df[\"species\"].plot(kind='hist', title=\"Species distribution\")\n",
    "#50 of each species present in the dataset."
   ]
  },
  {
   "cell_type": "code",
   "execution_count": 13,
   "metadata": {
    "collapsed": false
   },
   "outputs": [
    {
     "data": {
      "text/html": [
       "<div>\n",
       "<table border=\"1\" class=\"dataframe\">\n",
       "  <thead>\n",
       "    <tr style=\"text-align: right;\">\n",
       "      <th></th>\n",
       "      <th>length</th>\n",
       "      <th>species</th>\n",
       "      <th>width</th>\n",
       "    </tr>\n",
       "  </thead>\n",
       "  <tbody>\n",
       "    <tr>\n",
       "      <th>0</th>\n",
       "      <td>5.1</td>\n",
       "      <td>0</td>\n",
       "      <td>3.5</td>\n",
       "    </tr>\n",
       "    <tr>\n",
       "      <th>1</th>\n",
       "      <td>4.9</td>\n",
       "      <td>0</td>\n",
       "      <td>3.0</td>\n",
       "    </tr>\n",
       "    <tr>\n",
       "      <th>2</th>\n",
       "      <td>4.7</td>\n",
       "      <td>0</td>\n",
       "      <td>3.2</td>\n",
       "    </tr>\n",
       "    <tr>\n",
       "      <th>3</th>\n",
       "      <td>4.6</td>\n",
       "      <td>0</td>\n",
       "      <td>3.1</td>\n",
       "    </tr>\n",
       "    <tr>\n",
       "      <th>4</th>\n",
       "      <td>5.0</td>\n",
       "      <td>0</td>\n",
       "      <td>3.6</td>\n",
       "    </tr>\n",
       "  </tbody>\n",
       "</table>\n",
       "</div>"
      ],
      "text/plain": [
       "   length  species  width\n",
       "0     5.1        0    3.5\n",
       "1     4.9        0    3.0\n",
       "2     4.7        0    3.2\n",
       "3     4.6        0    3.1\n",
       "4     5.0        0    3.6"
      ]
     },
     "execution_count": 13,
     "metadata": {},
     "output_type": "execute_result"
    }
   ],
   "source": [
    "df.head()"
   ]
  },
  {
   "cell_type": "markdown",
   "metadata": {},
   "source": [
    "Using map/apply to apply functions across series and dataframes:"
   ]
  },
  {
   "cell_type": "code",
   "execution_count": 14,
   "metadata": {
    "collapsed": false
   },
   "outputs": [],
   "source": [
    "def printer(x):\n",
    "    a,b,c = x[0],x[1],x[2]\n",
    "    return a,b,c\n"
   ]
  },
  {
   "cell_type": "code",
   "execution_count": 15,
   "metadata": {
    "collapsed": false
   },
   "outputs": [
    {
     "data": {
      "text/plain": [
       "0    (5.1, 0.0, 3.5)\n",
       "1    (4.9, 0.0, 3.0)\n",
       "2    (4.7, 0.0, 3.2)\n",
       "3    (4.6, 0.0, 3.1)\n",
       "4    (5.0, 0.0, 3.6)\n",
       "dtype: object"
      ]
     },
     "execution_count": 15,
     "metadata": {},
     "output_type": "execute_result"
    }
   ],
   "source": [
    "result = df.apply(printer,axis=1)\n",
    "result[0:5]"
   ]
  },
  {
   "cell_type": "code",
   "execution_count": 16,
   "metadata": {
    "collapsed": false,
    "scrolled": true
   },
   "outputs": [],
   "source": [
    "def subtractor(x):\n",
    "    a,b,c = x[0],x[1],x[2]\n",
    "    result = a-c\n",
    "    return result"
   ]
  },
  {
   "cell_type": "code",
   "execution_count": 17,
   "metadata": {
    "collapsed": false
   },
   "outputs": [],
   "source": [
    "result2 = df.apply(subtractor,axis=1)"
   ]
  },
  {
   "cell_type": "code",
   "execution_count": 18,
   "metadata": {
    "collapsed": false
   },
   "outputs": [
    {
     "data": {
      "text/plain": [
       "0    1.6\n",
       "1    1.9\n",
       "2    1.5\n",
       "3    1.5\n",
       "4    1.4\n",
       "dtype: float64"
      ]
     },
     "execution_count": 18,
     "metadata": {},
     "output_type": "execute_result"
    }
   ],
   "source": [
    "result2.head()"
   ]
  },
  {
   "cell_type": "code",
   "execution_count": 19,
   "metadata": {
    "collapsed": false
   },
   "outputs": [],
   "source": [
    "#Lets do it as a lambda fn:\n",
    "f = lambda x:x[0]- x[2]"
   ]
  },
  {
   "cell_type": "markdown",
   "metadata": {},
   "source": [
    "Syntax for writing lambda functions to map/apply (on axis=1):\n",
    "\n",
    "Lambda syntax:\n",
    "lambda x,y (<- input variables): x+y (function operation)\n",
    "\n",
    "The apply function will take a dataframe and feed it into a function column or row wise.\n",
    "\n",
    "x:x[0]\n",
    "First element of the function will provide the input, in this case a single dataframe is being input into the function.  Then the first column of the dataframe is being sliced (with no operation applied).\n",
    "\n",
    "x:x[0] + x[1]\n",
    "In this example we, we are providing the df x, and then adding the first and second columns.\n",
    "\n",
    "x:x[1] - x[0]\n",
    "In this example we are providing df x and subtracting the value from column 1 minus the value in column 0.\n",
    "\n",
    "x:x[1] / x[2] \n",
    "Now dividing second column by the third column.  "
   ]
  },
  {
   "cell_type": "code",
   "execution_count": 20,
   "metadata": {
    "collapsed": true
   },
   "outputs": [],
   "source": [
    "result3 = df.apply(f,axis=1)"
   ]
  },
  {
   "cell_type": "code",
   "execution_count": 21,
   "metadata": {
    "collapsed": false
   },
   "outputs": [
    {
     "data": {
      "text/plain": [
       "0    1.6\n",
       "1    1.9\n",
       "2    1.5\n",
       "3    1.5\n",
       "4    1.4\n",
       "dtype: float64"
      ]
     },
     "execution_count": 21,
     "metadata": {},
     "output_type": "execute_result"
    }
   ],
   "source": [
    "result3.head()\n",
    "#works."
   ]
  },
  {
   "cell_type": "code",
   "execution_count": 22,
   "metadata": {
    "collapsed": false
   },
   "outputs": [],
   "source": [
    "#Writing functions with positional arguments:\n",
    "def preDef_subtract(data,x,y):\n",
    "    a = data[0]\n",
    "    return a,a+x+y"
   ]
  },
  {
   "cell_type": "code",
   "execution_count": 23,
   "metadata": {
    "collapsed": false
   },
   "outputs": [],
   "source": [
    "result4 = df.apply(preDef_subtract,args=(1,2),axis=1)"
   ]
  },
  {
   "cell_type": "code",
   "execution_count": 24,
   "metadata": {
    "collapsed": false
   },
   "outputs": [
    {
     "data": {
      "text/plain": [
       "0    (5.1, 8.1)\n",
       "1    (4.9, 7.9)\n",
       "2    (4.7, 7.7)\n",
       "3    (4.6, 7.6)\n",
       "4    (5.0, 8.0)\n",
       "dtype: object"
      ]
     },
     "execution_count": 24,
     "metadata": {},
     "output_type": "execute_result"
    }
   ],
   "source": [
    "result4.head()\n",
    "#Positional arguments working."
   ]
  },
  {
   "cell_type": "markdown",
   "metadata": {},
   "source": [
    "Implement the kNN Function:"
   ]
  },
  {
   "cell_type": "code",
   "execution_count": 25,
   "metadata": {
    "collapsed": false
   },
   "outputs": [],
   "source": [
    "import random\n",
    "#Define knn function:\n",
    "\n",
    "def calc_distance(data,X1,Y1):\n",
    "    \"\"\"Calculate the euclidean distance between two points\n",
    "    X = length\n",
    "    Y = width\n",
    "    \"\"\"\n",
    "    X2,Y2 = data[0],data[2]\n",
    "    return ((X2-X1)**2 +(Y2-Y1)**2)**0.5\n",
    "\n",
    "def kNN(k,input_df,X1,Y1):\n",
    "    \"\"\"Input dataframe and point coords for classification.\n",
    "    Returns class of input point.\"\"\"\n",
    "    df = input_df.copy()\n",
    "    df[\"euc_distance\"] = df.apply(calc_distance,args=(X1,Y1),axis=1) #Use positional args to pass df and random coords.\n",
    "    df.sort(['euc_distance'],inplace=True)\n",
    "    voted_class = df['species'][0:int(k)].mode()[0] #This function is only reliable for k >=3\n",
    "    return voted_class\n",
    "\n",
    "def parse_results(results,start_k):\n",
    "    for i,v in enumerate(results):\n",
    "        print \"When k={0},label={1}\".format(i+start_k,v)\n",
    "        \n",
    "def plot_results(df,X1,Y1):\n",
    "    append_dict = {'length':X1,'width':Y1,'species':3}\n",
    "    df_plot = df.append(append_dict,ignore_index=True)\n",
    "    ax1 = df_plot[[\"length\",'width']].plot(x='length',y='width',kind='scatter',c=df_plot[\"species\"],cmap=plt.cm.Accent)\n",
    "    ax1.annotate(\"\",xy=(X1,Y1),xytext=(X1+0.2,Y1+0.2),arrowprops=dict(arrowstyle='-|>', color='r'))\n",
    "    \n",
    "def run_KNN(df,start_k,stop_k):\n",
    "    species_key = {0:'setosa',1:'versicolor',2:'virginica'}\n",
    "    X1 = random.uniform(4.0,8.0)\n",
    "    Y1 = random.uniform(2.0,5.0)\n",
    "    results = [species_key[kNN(i,df,X1,Y1)] for i in range(start_k,stop_k)]\n",
    "    parse_results(results,start_k)\n",
    "    plot_results(df,X1,Y1)\n",
    "    return results\n",
    " "
   ]
  },
  {
   "cell_type": "code",
   "execution_count": 26,
   "metadata": {
    "collapsed": false
   },
   "outputs": [
    {
     "name": "stdout",
     "output_type": "stream",
     "text": [
      "When k=3,label=setosa\n",
      "When k=4,label=setosa\n",
      "When k=5,label=setosa\n",
      "When k=6,label=setosa\n",
      "When k=7,label=setosa\n",
      "When k=8,label=setosa\n",
      "When k=9,label=setosa\n",
      "When k=10,label=setosa\n",
      "When k=11,label=setosa\n",
      "When k=12,label=setosa\n",
      "When k=13,label=setosa\n",
      "When k=14,label=setosa\n",
      "When k=15,label=setosa\n",
      "When k=16,label=setosa\n",
      "When k=17,label=setosa\n",
      "When k=18,label=setosa\n",
      "When k=19,label=setosa\n"
     ]
    },
    {
     "data": {
      "image/png": "[encoded data removed]",
      "text/plain": [
       "<matplotlib.figure.Figure at 0x113041d90>"
      ]
     },
     "metadata": {},
     "output_type": "display_data"
    }
   ],
   "source": [
    "#Run 1\n",
    "results = run_KNN(df,3,20)"
   ]
  },
  {
   "cell_type": "code",
   "execution_count": 27,
   "metadata": {
    "collapsed": false
   },
   "outputs": [
    {
     "name": "stdout",
     "output_type": "stream",
     "text": [
      "When k=3,label=setosa\n",
      "When k=4,label=setosa\n",
      "When k=5,label=setosa\n",
      "When k=6,label=setosa\n",
      "When k=7,label=setosa\n",
      "When k=8,label=setosa\n",
      "When k=9,label=setosa\n",
      "When k=10,label=setosa\n",
      "When k=11,label=virginica\n",
      "When k=12,label=virginica\n",
      "When k=13,label=virginica\n",
      "When k=14,label=virginica\n",
      "When k=15,label=virginica\n",
      "When k=16,label=virginica\n",
      "When k=17,label=virginica\n",
      "When k=18,label=virginica\n",
      "When k=19,label=virginica\n"
     ]
    },
    {
     "data": {
      "image/png": "[encoded data removed]",
      "text/plain": [
       "<matplotlib.figure.Figure at 0x1133e0190>"
      ]
     },
     "metadata": {},
     "output_type": "display_data"
    }
   ],
   "source": [
    "#Run 2\n",
    "results = run_KNN(df,3,20)"
   ]
  },
  {
   "cell_type": "code",
   "execution_count": 28,
   "metadata": {
    "collapsed": false
   },
   "outputs": [
    {
     "name": "stdout",
     "output_type": "stream",
     "text": [
      "When k=3,label=setosa\n",
      "When k=4,label=setosa\n",
      "When k=5,label=setosa\n",
      "When k=6,label=setosa\n",
      "When k=7,label=setosa\n",
      "When k=8,label=setosa\n",
      "When k=9,label=setosa\n",
      "When k=10,label=setosa\n",
      "When k=11,label=setosa\n",
      "When k=12,label=setosa\n",
      "When k=13,label=setosa\n",
      "When k=14,label=setosa\n",
      "When k=15,label=setosa\n",
      "When k=16,label=setosa\n",
      "When k=17,label=setosa\n",
      "When k=18,label=setosa\n",
      "When k=19,label=setosa\n"
     ]
    },
    {
     "data": {
      "image/png": "[encoded data removed]",
      "text/plain": [
       "<matplotlib.figure.Figure at 0x11306c6d0>"
      ]
     },
     "metadata": {},
     "output_type": "display_data"
    }
   ],
   "source": [
    "#Run 3\n",
    "results = run_KNN(df,3,20)"
   ]
  },
  {
   "cell_type": "code",
   "execution_count": 29,
   "metadata": {
    "collapsed": false
   },
   "outputs": [
    {
     "name": "stdout",
     "output_type": "stream",
     "text": [
      "When k=3,label=virginica\n",
      "When k=4,label=virginica\n",
      "When k=5,label=virginica\n",
      "When k=6,label=virginica\n",
      "When k=7,label=virginica\n",
      "When k=8,label=virginica\n",
      "When k=9,label=virginica\n",
      "When k=10,label=virginica\n",
      "When k=11,label=virginica\n",
      "When k=12,label=virginica\n",
      "When k=13,label=virginica\n",
      "When k=14,label=virginica\n",
      "When k=15,label=virginica\n",
      "When k=16,label=virginica\n",
      "When k=17,label=virginica\n",
      "When k=18,label=virginica\n",
      "When k=19,label=virginica\n"
     ]
    },
    {
     "data": {
      "text/plain": [
       "['virginica',\n",
       " 'virginica',\n",
       " 'virginica',\n",
       " 'virginica',\n",
       " 'virginica',\n",
       " 'virginica',\n",
       " 'virginica',\n",
       " 'virginica',\n",
       " 'virginica',\n",
       " 'virginica',\n",
       " 'virginica',\n",
       " 'virginica',\n",
       " 'virginica',\n",
       " 'virginica',\n",
       " 'virginica',\n",
       " 'virginica',\n",
       " 'virginica']"
      ]
     },
     "execution_count": 29,
     "metadata": {},
     "output_type": "execute_result"
    },
    {
     "data": {
      "image/png": "[encoded data removed]",
      "text/plain": [
       "<matplotlib.figure.Figure at 0x11301fb50>"
      ]
     },
     "metadata": {},
     "output_type": "display_data"
    }
   ],
   "source": [
    "run_KNN(df,3,20)"
   ]
  },
  {
   "cell_type": "code",
   "execution_count": 30,
   "metadata": {
    "collapsed": false
   },
   "outputs": [
    {
     "name": "stdout",
     "output_type": "stream",
     "text": [
      "When k=3,label=virginica\n",
      "When k=4,label=virginica\n",
      "When k=5,label=virginica\n",
      "When k=6,label=virginica\n",
      "When k=7,label=virginica\n",
      "When k=8,label=virginica\n",
      "When k=9,label=virginica\n",
      "When k=10,label=virginica\n",
      "When k=11,label=virginica\n",
      "When k=12,label=virginica\n",
      "When k=13,label=virginica\n",
      "When k=14,label=virginica\n",
      "When k=15,label=virginica\n",
      "When k=16,label=virginica\n",
      "When k=17,label=virginica\n",
      "When k=18,label=virginica\n",
      "When k=19,label=virginica\n"
     ]
    },
    {
     "data": {
      "text/plain": [
       "['virginica',\n",
       " 'virginica',\n",
       " 'virginica',\n",
       " 'virginica',\n",
       " 'virginica',\n",
       " 'virginica',\n",
       " 'virginica',\n",
       " 'virginica',\n",
       " 'virginica',\n",
       " 'virginica',\n",
       " 'virginica',\n",
       " 'virginica',\n",
       " 'virginica',\n",
       " 'virginica',\n",
       " 'virginica',\n",
       " 'virginica',\n",
       " 'virginica']"
      ]
     },
     "execution_count": 30,
     "metadata": {},
     "output_type": "execute_result"
    },
    {
     "data": {
      "image/png": "[encoded data removed]",
      "text/plain": [
       "<matplotlib.figure.Figure at 0x112f43250>"
      ]
     },
     "metadata": {},
     "output_type": "display_data"
    }
   ],
   "source": [
    "run_KNN(df,3,20)"
   ]
  },
  {
   "cell_type": "code",
   "execution_count": 94,
   "metadata": {
    "collapsed": false
   },
   "outputs": [],
   "source": [
    "def kNN_wrapper(test_df,k):\n",
    "    X,Y= test_df[0], test_df[2]\n",
    "    return kNN(k,df,X,Y)"
   ]
  },
  {
   "cell_type": "code",
   "execution_count": 59,
   "metadata": {
    "collapsed": false
   },
   "outputs": [],
   "source": [
    "#Apply predictions to data:\n",
    "predict_df = df.copy()\n",
    "predict_df[\"k=4\"] =predict_df.apply(kNN_wrapper,axis=1)"
   ]
  },
  {
   "cell_type": "code",
   "execution_count": 84,
   "metadata": {
    "collapsed": false,
    "scrolled": true
   },
   "outputs": [
    {
     "data": {
      "text/plain": [
       "array([[49,  1,  0],\n",
       "       [ 0, 43,  7],\n",
       "       [ 0, 17, 33]])"
      ]
     },
     "execution_count": 84,
     "metadata": {},
     "output_type": "execute_result"
    }
   ],
   "source": [
    "#Generate confusion matrix:\n",
    "from sklearn.metrics import confusion_matrix\n",
    "confusion_matrix = confusion_matrix(predict_df[\"species\"],predict_df[\"k=4\"])\n",
    "confusion_matrix"
   ]
  },
  {
   "cell_type": "code",
   "execution_count": 71,
   "metadata": {
    "collapsed": false
   },
   "outputs": [
    {
     "data": {
      "text/plain": [
       "<matplotlib.colorbar.Colorbar instance at 0x1133a2200>"
      ]
     },
     "execution_count": 71,
     "metadata": {},
     "output_type": "execute_result"
    },
    {
     "data": {
      "image/png": "[encoded data removed]",
      "text/plain": [
       "<matplotlib.figure.Figure at 0x113614f50>"
      ]
     },
     "metadata": {},
     "output_type": "display_data"
    }
   ],
   "source": [
    "plt.matshow(confusion_matrix)\n",
    "plt.colorbar()"
   ]
  },
  {
   "cell_type": "code",
   "execution_count": 73,
   "metadata": {
    "collapsed": false
   },
   "outputs": [],
   "source": [
    "predict_df[\"k=5\"] =predict_df.apply(kNN_wrapper,axis=1)"
   ]
  },
  {
   "cell_type": "code",
   "execution_count": 89,
   "metadata": {
    "collapsed": false
   },
   "outputs": [
    {
     "data": {
      "text/html": [
       "<div>\n",
       "<table border=\"1\" class=\"dataframe\">\n",
       "  <thead>\n",
       "    <tr style=\"text-align: right;\">\n",
       "      <th></th>\n",
       "      <th>length</th>\n",
       "      <th>species</th>\n",
       "      <th>width</th>\n",
       "      <th>k=4</th>\n",
       "      <th>k=5</th>\n",
       "    </tr>\n",
       "  </thead>\n",
       "  <tbody>\n",
       "    <tr>\n",
       "      <th>0</th>\n",
       "      <td>5.1</td>\n",
       "      <td>0</td>\n",
       "      <td>3.5</td>\n",
       "      <td>0</td>\n",
       "      <td>0</td>\n",
       "    </tr>\n",
       "    <tr>\n",
       "      <th>1</th>\n",
       "      <td>4.9</td>\n",
       "      <td>0</td>\n",
       "      <td>3.0</td>\n",
       "      <td>0</td>\n",
       "      <td>0</td>\n",
       "    </tr>\n",
       "    <tr>\n",
       "      <th>2</th>\n",
       "      <td>4.7</td>\n",
       "      <td>0</td>\n",
       "      <td>3.2</td>\n",
       "      <td>0</td>\n",
       "      <td>0</td>\n",
       "    </tr>\n",
       "    <tr>\n",
       "      <th>3</th>\n",
       "      <td>4.6</td>\n",
       "      <td>0</td>\n",
       "      <td>3.1</td>\n",
       "      <td>0</td>\n",
       "      <td>0</td>\n",
       "    </tr>\n",
       "    <tr>\n",
       "      <th>4</th>\n",
       "      <td>5.0</td>\n",
       "      <td>0</td>\n",
       "      <td>3.6</td>\n",
       "      <td>0</td>\n",
       "      <td>0</td>\n",
       "    </tr>\n",
       "  </tbody>\n",
       "</table>\n",
       "</div>"
      ],
      "text/plain": [
       "   length  species  width  k=4  k=5\n",
       "0     5.1        0    3.5    0    0\n",
       "1     4.9        0    3.0    0    0\n",
       "2     4.7        0    3.2    0    0\n",
       "3     4.6        0    3.1    0    0\n",
       "4     5.0        0    3.6    0    0"
      ]
     },
     "execution_count": 89,
     "metadata": {},
     "output_type": "execute_result"
    }
   ],
   "source": [
    "predict_df.head()"
   ]
  },
  {
   "cell_type": "code",
   "execution_count": 86,
   "metadata": {
    "collapsed": false
   },
   "outputs": [
    {
     "data": {
      "text/plain": [
       "array([[49,  1,  0],\n",
       "       [ 0, 37, 13],\n",
       "       [ 0,  9, 41]])"
      ]
     },
     "execution_count": 86,
     "metadata": {},
     "output_type": "execute_result"
    }
   ],
   "source": [
    "from sklearn.metrics import confusion_matrix\n",
    "confusion_matrix2 = confusion_matrix(predict_df[\"species\"],predict_df[\"k=5\"])\n",
    "confusion_matrix2"
   ]
  },
  {
   "cell_type": "code",
   "execution_count": 87,
   "metadata": {
    "collapsed": false
   },
   "outputs": [
    {
     "data": {
      "text/plain": [
       "array([[49,  1,  0],\n",
       "       [ 0, 37, 13],\n",
       "       [ 0,  9, 41]])"
      ]
     },
     "execution_count": 87,
     "metadata": {},
     "output_type": "execute_result"
    }
   ],
   "source": [
    "confusion_matrix3 = confusion_matrix(predict_df[\"species\"],predict_df[\"k=5\"])\n",
    "confusion_matrix3"
   ]
  },
  {
   "cell_type": "code",
   "execution_count": 88,
   "metadata": {
    "collapsed": false
   },
   "outputs": [
    {
     "data": {
      "text/plain": [
       "array([[49,  1,  0],\n",
       "       [ 0, 37, 13],\n",
       "       [ 0,  9, 41]])"
      ]
     },
     "execution_count": 88,
     "metadata": {},
     "output_type": "execute_result"
    }
   ],
   "source": [
    "confusion_matrix4 = confusion_matrix(predict_df[\"species\"],predict_df[\"k=5\"])\n",
    "confusion_matrix4"
   ]
  },
  {
   "cell_type": "code",
   "execution_count": 98,
   "metadata": {
    "collapsed": false
   },
   "outputs": [],
   "source": [
    "def kNN_wrapper(test_df,k):\n",
    "    X,Y= test_df[0], test_df[2]\n",
    "    return kNN(k,df,X,Y)\n",
    "\n",
    "predict_df= df.copy()\n",
    "predict_df[\"k=6\"] =predict_df.apply(kNN_wrapper,args=(6,),axis=1)"
   ]
  },
  {
   "cell_type": "code",
   "execution_count": 101,
   "metadata": {
    "collapsed": false
   },
   "outputs": [
    {
     "data": {
      "text/plain": [
       "array([[49,  1,  0],\n",
       "       [ 0, 43,  7],\n",
       "       [ 0, 20, 30]])"
      ]
     },
     "execution_count": 101,
     "metadata": {},
     "output_type": "execute_result"
    }
   ],
   "source": [
    "confusion_matrix6 = confusion_matrix(predict_df[\"species\"],predict_df[\"k=6\"])\n",
    "confusion_matrix6"
   ]
  },
  {
   "cell_type": "code",
   "execution_count": 102,
   "metadata": {
    "collapsed": false
   },
   "outputs": [
    {
     "data": {
      "text/plain": [
       "array([[49,  1,  0],\n",
       "       [ 0, 43,  7],\n",
       "       [ 0, 20, 30]])"
      ]
     },
     "execution_count": 102,
     "metadata": {},
     "output_type": "execute_result"
    }
   ],
   "source": [
    "predict_df[\"k=5\"] =predict_df.apply(kNN_wrapper,args=(5,),axis=1)\n",
    "confusion_matrix5 = confusion_matrix(predict_df[\"species\"],predict_df[\"k=6\"])\n",
    "confusion_matrix5"
   ]
  },
  {
   "cell_type": "code",
   "execution_count": 103,
   "metadata": {
    "collapsed": false
   },
   "outputs": [
    {
     "data": {
      "text/plain": [
       "array([[49,  1,  0],\n",
       "       [ 0, 43,  7],\n",
       "       [ 0, 17, 33]])"
      ]
     },
     "execution_count": 103,
     "metadata": {},
     "output_type": "execute_result"
    }
   ],
   "source": [
    "predict_df[\"k=4\"] =predict_df.apply(kNN_wrapper,args=(4,),axis=1)\n",
    "confusion_matrix4 = confusion_matrix(predict_df[\"species\"],predict_df[\"k=4\"])\n",
    "confusion_matrix4"
   ]
  },
  {
   "cell_type": "code",
   "execution_count": 104,
   "metadata": {
    "collapsed": false
   },
   "outputs": [
    {
     "data": {
      "text/plain": [
       "array([[50,  0,  0],\n",
       "       [ 0, 39, 11],\n",
       "       [ 0, 17, 33]])"
      ]
     },
     "execution_count": 104,
     "metadata": {},
     "output_type": "execute_result"
    }
   ],
   "source": [
    "predict_df[\"k=10\"] =predict_df.apply(kNN_wrapper,args=(10,),axis=1)\n",
    "confusion_matrix10 = confusion_matrix(predict_df[\"species\"],predict_df[\"k=10\"])\n",
    "confusion_matrix10"
   ]
  },
  {
   "cell_type": "code",
   "execution_count": 105,
   "metadata": {
    "collapsed": false
   },
   "outputs": [
    {
     "data": {
      "text/plain": [
       "array([[50,  0,  0],\n",
       "       [ 0, 33, 17],\n",
       "       [ 1, 11, 38]])"
      ]
     },
     "execution_count": 105,
     "metadata": {},
     "output_type": "execute_result"
    }
   ],
   "source": [
    "predict_df[\"k=15\"] =predict_df.apply(kNN_wrapper,args=(15,),axis=1)\n",
    "confusion_matrix15 = confusion_matrix(predict_df[\"species\"],predict_df[\"k=15\"])\n",
    "confusion_matrix15"
   ]
  },
  {
   "cell_type": "code",
   "execution_count": 109,
   "metadata": {
    "collapsed": false
   },
   "outputs": [
    {
     "data": {
      "text/plain": [
       "33"
      ]
     },
     "execution_count": 109,
     "metadata": {},
     "output_type": "execute_result"
    }
   ],
   "source": [
    "#Can interact with the confusion matrix ojbect:\n",
    "confusion_matrix15[1][1]"
   ]
  },
  {
   "cell_type": "code",
   "execution_count": 110,
   "metadata": {
    "collapsed": false
   },
   "outputs": [
    {
     "data": {
      "text/plain": [
       "['__call__',\n",
       " '__class__',\n",
       " '__closure__',\n",
       " '__code__',\n",
       " '__defaults__',\n",
       " '__delattr__',\n",
       " '__dict__',\n",
       " '__doc__',\n",
       " '__format__',\n",
       " '__get__',\n",
       " '__getattribute__',\n",
       " '__globals__',\n",
       " '__hash__',\n",
       " '__init__',\n",
       " '__module__',\n",
       " '__name__',\n",
       " '__new__',\n",
       " '__reduce__',\n",
       " '__reduce_ex__',\n",
       " '__repr__',\n",
       " '__setattr__',\n",
       " '__sizeof__',\n",
       " '__str__',\n",
       " '__subclasshook__',\n",
       " 'func_closure',\n",
       " 'func_code',\n",
       " 'func_defaults',\n",
       " 'func_dict',\n",
       " 'func_doc',\n",
       " 'func_globals',\n",
       " 'func_name']"
      ]
     },
     "execution_count": 110,
     "metadata": {},
     "output_type": "execute_result"
    }
   ],
   "source": [
    "dir(confusion_matrix)"
   ]
  },
  {
   "cell_type": "code",
   "execution_count": null,
   "metadata": {
    "collapsed": true
   },
   "outputs": [],
   "source": []
  }
 ],
 "metadata": {
  "kernelspec": {
   "display_name": "Python 2",
   "language": "python",
   "name": "python2"
  },
  "language_info": {
   "codemirror_mode": {
    "name": "ipython",
    "version": 2
   },
   "file_extension": ".py",
   "mimetype": "text/x-python",
   "name": "python",
   "nbconvert_exporter": "python",
   "pygments_lexer": "ipython2",
   "version": "2.7.10"
  }
 },
 "nbformat": 4,
 "nbformat_minor": 0
}
