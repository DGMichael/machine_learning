{
 "cells": [
  {
   "cell_type": "markdown",
   "metadata": {},
   "source": [
    "#ipython notebook for clustering"
   ]
  },
  {
   "cell_type": "code",
   "execution_count": 97,
   "metadata": {
    "collapsed": true
   },
   "outputs": [],
   "source": [
    "import pandas as pd\n",
    "import scipy as sp\n",
    "import numpy as np\n",
    "from sklearn.cluster import KMeans\n",
    "import matplotlib.pyplot as plt\n",
    "#import seaborn as sns\n",
    "%matplotlib inline"
   ]
  },
  {
   "cell_type": "code",
   "execution_count": 2,
   "metadata": {
    "collapsed": false
   },
   "outputs": [
    {
     "name": "stdout",
     "output_type": "stream",
     "text": [
      "2016-01-14_clustering.ipynb  un.csv\r\n"
     ]
    }
   ],
   "source": [
    "ls"
   ]
  },
  {
   "cell_type": "code",
   "execution_count": 3,
   "metadata": {
    "collapsed": false
   },
   "outputs": [],
   "source": [
    "df = pd.read_csv(\"un.csv\")"
   ]
  },
  {
   "cell_type": "code",
   "execution_count": 4,
   "metadata": {
    "collapsed": false
   },
   "outputs": [
    {
     "data": {
      "text/html": [
       "<div>\n",
       "<table border=\"1\" class=\"dataframe\">\n",
       "  <thead>\n",
       "    <tr style=\"text-align: right;\">\n",
       "      <th></th>\n",
       "      <th>tfr</th>\n",
       "      <th>contraception</th>\n",
       "      <th>educationMale</th>\n",
       "      <th>educationFemale</th>\n",
       "      <th>lifeMale</th>\n",
       "      <th>lifeFemale</th>\n",
       "      <th>infantMortality</th>\n",
       "      <th>GDPperCapita</th>\n",
       "      <th>economicActivityMale</th>\n",
       "      <th>economicActivityFemale</th>\n",
       "      <th>illiteracyMale</th>\n",
       "      <th>illiteracyFemale</th>\n",
       "    </tr>\n",
       "  </thead>\n",
       "  <tbody>\n",
       "    <tr>\n",
       "      <th>count</th>\n",
       "      <td>197.000000</td>\n",
       "      <td>144.000000</td>\n",
       "      <td>76.000000</td>\n",
       "      <td>76.000000</td>\n",
       "      <td>196.00000</td>\n",
       "      <td>196.000000</td>\n",
       "      <td>201.000000</td>\n",
       "      <td>197.000000</td>\n",
       "      <td>165.000000</td>\n",
       "      <td>165.000000</td>\n",
       "      <td>160.000000</td>\n",
       "      <td>160.000000</td>\n",
       "    </tr>\n",
       "    <tr>\n",
       "      <th>mean</th>\n",
       "      <td>3.528782</td>\n",
       "      <td>43.430556</td>\n",
       "      <td>11.410526</td>\n",
       "      <td>11.275000</td>\n",
       "      <td>63.62551</td>\n",
       "      <td>68.391837</td>\n",
       "      <td>43.477612</td>\n",
       "      <td>6261.954315</td>\n",
       "      <td>76.460606</td>\n",
       "      <td>46.794545</td>\n",
       "      <td>17.554662</td>\n",
       "      <td>27.906200</td>\n",
       "    </tr>\n",
       "    <tr>\n",
       "      <th>std</th>\n",
       "      <td>1.761974</td>\n",
       "      <td>23.706732</td>\n",
       "      <td>3.049834</td>\n",
       "      <td>3.475135</td>\n",
       "      <td>9.78687</td>\n",
       "      <td>11.041234</td>\n",
       "      <td>38.756041</td>\n",
       "      <td>9355.659390</td>\n",
       "      <td>7.687047</td>\n",
       "      <td>16.810472</td>\n",
       "      <td>17.813000</td>\n",
       "      <td>26.580664</td>\n",
       "    </tr>\n",
       "    <tr>\n",
       "      <th>min</th>\n",
       "      <td>1.190000</td>\n",
       "      <td>2.000000</td>\n",
       "      <td>3.300000</td>\n",
       "      <td>2.000000</td>\n",
       "      <td>36.00000</td>\n",
       "      <td>39.100000</td>\n",
       "      <td>2.000000</td>\n",
       "      <td>36.000000</td>\n",
       "      <td>51.200000</td>\n",
       "      <td>1.900000</td>\n",
       "      <td>0.200000</td>\n",
       "      <td>0.200000</td>\n",
       "    </tr>\n",
       "    <tr>\n",
       "      <th>25%</th>\n",
       "      <td>1.950000</td>\n",
       "      <td>21.000000</td>\n",
       "      <td>9.750000</td>\n",
       "      <td>9.325000</td>\n",
       "      <td>57.37500</td>\n",
       "      <td>59.600000</td>\n",
       "      <td>12.000000</td>\n",
       "      <td>442.000000</td>\n",
       "      <td>72.300000</td>\n",
       "      <td>37.000000</td>\n",
       "      <td>2.952000</td>\n",
       "      <td>4.847000</td>\n",
       "    </tr>\n",
       "    <tr>\n",
       "      <th>50%</th>\n",
       "      <td>3.070000</td>\n",
       "      <td>47.000000</td>\n",
       "      <td>11.250000</td>\n",
       "      <td>11.650000</td>\n",
       "      <td>66.50000</td>\n",
       "      <td>72.150000</td>\n",
       "      <td>30.000000</td>\n",
       "      <td>1779.000000</td>\n",
       "      <td>76.800000</td>\n",
       "      <td>48.400000</td>\n",
       "      <td>10.829000</td>\n",
       "      <td>20.100000</td>\n",
       "    </tr>\n",
       "    <tr>\n",
       "      <th>75%</th>\n",
       "      <td>4.980000</td>\n",
       "      <td>64.000000</td>\n",
       "      <td>13.900000</td>\n",
       "      <td>13.650000</td>\n",
       "      <td>70.90000</td>\n",
       "      <td>76.425000</td>\n",
       "      <td>66.000000</td>\n",
       "      <td>7272.000000</td>\n",
       "      <td>81.200000</td>\n",
       "      <td>56.400000</td>\n",
       "      <td>27.575000</td>\n",
       "      <td>48.025000</td>\n",
       "    </tr>\n",
       "    <tr>\n",
       "      <th>max</th>\n",
       "      <td>8.000000</td>\n",
       "      <td>86.000000</td>\n",
       "      <td>17.200000</td>\n",
       "      <td>17.800000</td>\n",
       "      <td>77.40000</td>\n",
       "      <td>82.900000</td>\n",
       "      <td>169.000000</td>\n",
       "      <td>42416.000000</td>\n",
       "      <td>93.000000</td>\n",
       "      <td>90.600000</td>\n",
       "      <td>79.100000</td>\n",
       "      <td>93.400000</td>\n",
       "    </tr>\n",
       "  </tbody>\n",
       "</table>\n",
       "</div>"
      ],
      "text/plain": [
       "              tfr  contraception  educationMale  educationFemale   lifeMale  \\\n",
       "count  197.000000     144.000000      76.000000        76.000000  196.00000   \n",
       "mean     3.528782      43.430556      11.410526        11.275000   63.62551   \n",
       "std      1.761974      23.706732       3.049834         3.475135    9.78687   \n",
       "min      1.190000       2.000000       3.300000         2.000000   36.00000   \n",
       "25%      1.950000      21.000000       9.750000         9.325000   57.37500   \n",
       "50%      3.070000      47.000000      11.250000        11.650000   66.50000   \n",
       "75%      4.980000      64.000000      13.900000        13.650000   70.90000   \n",
       "max      8.000000      86.000000      17.200000        17.800000   77.40000   \n",
       "\n",
       "       lifeFemale  infantMortality  GDPperCapita  economicActivityMale  \\\n",
       "count  196.000000       201.000000    197.000000            165.000000   \n",
       "mean    68.391837        43.477612   6261.954315             76.460606   \n",
       "std     11.041234        38.756041   9355.659390              7.687047   \n",
       "min     39.100000         2.000000     36.000000             51.200000   \n",
       "25%     59.600000        12.000000    442.000000             72.300000   \n",
       "50%     72.150000        30.000000   1779.000000             76.800000   \n",
       "75%     76.425000        66.000000   7272.000000             81.200000   \n",
       "max     82.900000       169.000000  42416.000000             93.000000   \n",
       "\n",
       "       economicActivityFemale  illiteracyMale  illiteracyFemale  \n",
       "count              165.000000      160.000000        160.000000  \n",
       "mean                46.794545       17.554662         27.906200  \n",
       "std                 16.810472       17.813000         26.580664  \n",
       "min                  1.900000        0.200000          0.200000  \n",
       "25%                 37.000000        2.952000          4.847000  \n",
       "50%                 48.400000       10.829000         20.100000  \n",
       "75%                 56.400000       27.575000         48.025000  \n",
       "max                 90.600000       79.100000         93.400000  "
      ]
     },
     "execution_count": 4,
     "metadata": {},
     "output_type": "execute_result"
    }
   ],
   "source": [
    "df.describe()"
   ]
  },
  {
   "cell_type": "code",
   "execution_count": 5,
   "metadata": {
    "collapsed": false
   },
   "outputs": [
    {
     "data": {
      "text/html": [
       "<div>\n",
       "<table border=\"1\" class=\"dataframe\">\n",
       "  <thead>\n",
       "    <tr style=\"text-align: right;\">\n",
       "      <th></th>\n",
       "      <th>country</th>\n",
       "      <th>region</th>\n",
       "      <th>tfr</th>\n",
       "      <th>contraception</th>\n",
       "      <th>educationMale</th>\n",
       "      <th>educationFemale</th>\n",
       "      <th>lifeMale</th>\n",
       "      <th>lifeFemale</th>\n",
       "      <th>infantMortality</th>\n",
       "      <th>GDPperCapita</th>\n",
       "      <th>economicActivityMale</th>\n",
       "      <th>economicActivityFemale</th>\n",
       "      <th>illiteracyMale</th>\n",
       "      <th>illiteracyFemale</th>\n",
       "    </tr>\n",
       "  </thead>\n",
       "  <tbody>\n",
       "    <tr>\n",
       "      <th>0</th>\n",
       "      <td>Afghanistan</td>\n",
       "      <td>Asia</td>\n",
       "      <td>6.90</td>\n",
       "      <td>NaN</td>\n",
       "      <td>NaN</td>\n",
       "      <td>NaN</td>\n",
       "      <td>45.0</td>\n",
       "      <td>46.0</td>\n",
       "      <td>154</td>\n",
       "      <td>2848</td>\n",
       "      <td>87.5</td>\n",
       "      <td>7.2</td>\n",
       "      <td>52.800</td>\n",
       "      <td>85.00</td>\n",
       "    </tr>\n",
       "    <tr>\n",
       "      <th>1</th>\n",
       "      <td>Albania</td>\n",
       "      <td>Europe</td>\n",
       "      <td>2.60</td>\n",
       "      <td>NaN</td>\n",
       "      <td>NaN</td>\n",
       "      <td>NaN</td>\n",
       "      <td>68.0</td>\n",
       "      <td>74.0</td>\n",
       "      <td>32</td>\n",
       "      <td>863</td>\n",
       "      <td>NaN</td>\n",
       "      <td>NaN</td>\n",
       "      <td>NaN</td>\n",
       "      <td>NaN</td>\n",
       "    </tr>\n",
       "    <tr>\n",
       "      <th>2</th>\n",
       "      <td>Algeria</td>\n",
       "      <td>Africa</td>\n",
       "      <td>3.81</td>\n",
       "      <td>52</td>\n",
       "      <td>11.1</td>\n",
       "      <td>9.9</td>\n",
       "      <td>67.5</td>\n",
       "      <td>70.3</td>\n",
       "      <td>44</td>\n",
       "      <td>1531</td>\n",
       "      <td>76.4</td>\n",
       "      <td>7.8</td>\n",
       "      <td>26.100</td>\n",
       "      <td>51.00</td>\n",
       "    </tr>\n",
       "    <tr>\n",
       "      <th>3</th>\n",
       "      <td>American.Samoa</td>\n",
       "      <td>Asia</td>\n",
       "      <td>NaN</td>\n",
       "      <td>NaN</td>\n",
       "      <td>NaN</td>\n",
       "      <td>NaN</td>\n",
       "      <td>68.0</td>\n",
       "      <td>73.0</td>\n",
       "      <td>11</td>\n",
       "      <td>NaN</td>\n",
       "      <td>58.8</td>\n",
       "      <td>42.4</td>\n",
       "      <td>0.264</td>\n",
       "      <td>0.36</td>\n",
       "    </tr>\n",
       "    <tr>\n",
       "      <th>4</th>\n",
       "      <td>Andorra</td>\n",
       "      <td>Europe</td>\n",
       "      <td>NaN</td>\n",
       "      <td>NaN</td>\n",
       "      <td>NaN</td>\n",
       "      <td>NaN</td>\n",
       "      <td>NaN</td>\n",
       "      <td>NaN</td>\n",
       "      <td>NaN</td>\n",
       "      <td>NaN</td>\n",
       "      <td>NaN</td>\n",
       "      <td>NaN</td>\n",
       "      <td>NaN</td>\n",
       "      <td>NaN</td>\n",
       "    </tr>\n",
       "  </tbody>\n",
       "</table>\n",
       "</div>"
      ],
      "text/plain": [
       "          country  region   tfr  contraception  educationMale  \\\n",
       "0     Afghanistan    Asia  6.90            NaN            NaN   \n",
       "1         Albania  Europe  2.60            NaN            NaN   \n",
       "2         Algeria  Africa  3.81             52           11.1   \n",
       "3  American.Samoa    Asia   NaN            NaN            NaN   \n",
       "4         Andorra  Europe   NaN            NaN            NaN   \n",
       "\n",
       "   educationFemale  lifeMale  lifeFemale  infantMortality  GDPperCapita  \\\n",
       "0              NaN      45.0        46.0              154          2848   \n",
       "1              NaN      68.0        74.0               32           863   \n",
       "2              9.9      67.5        70.3               44          1531   \n",
       "3              NaN      68.0        73.0               11           NaN   \n",
       "4              NaN       NaN         NaN              NaN           NaN   \n",
       "\n",
       "   economicActivityMale  economicActivityFemale  illiteracyMale  \\\n",
       "0                  87.5                     7.2          52.800   \n",
       "1                   NaN                     NaN             NaN   \n",
       "2                  76.4                     7.8          26.100   \n",
       "3                  58.8                    42.4           0.264   \n",
       "4                   NaN                     NaN             NaN   \n",
       "\n",
       "   illiteracyFemale  \n",
       "0             85.00  \n",
       "1               NaN  \n",
       "2             51.00  \n",
       "3              0.36  \n",
       "4               NaN  "
      ]
     },
     "execution_count": 5,
     "metadata": {},
     "output_type": "execute_result"
    }
   ],
   "source": [
    "df.head()"
   ]
  },
  {
   "cell_type": "code",
   "execution_count": 8,
   "metadata": {
    "collapsed": false
   },
   "outputs": [
    {
     "data": {
      "text/plain": [
       "country                     0\n",
       "region                      0\n",
       "tfr                        10\n",
       "contraception              63\n",
       "educationMale             131\n",
       "educationFemale           131\n",
       "lifeMale                   11\n",
       "lifeFemale                 11\n",
       "infantMortality             6\n",
       "GDPperCapita               10\n",
       "economicActivityMale       42\n",
       "economicActivityFemale     42\n",
       "illiteracyMale             47\n",
       "illiteracyFemale           47\n",
       "dtype: int64"
      ]
     },
     "execution_count": 8,
     "metadata": {},
     "output_type": "execute_result"
    }
   ],
   "source": [
    "df.isnull().sum()"
   ]
  },
  {
   "cell_type": "code",
   "execution_count": 9,
   "metadata": {
    "collapsed": false
   },
   "outputs": [
    {
     "name": "stdout",
     "output_type": "stream",
     "text": [
      "country object\n",
      "region object\n",
      "tfr float64\n",
      "contraception float64\n",
      "educationMale float64\n",
      "educationFemale float64\n",
      "lifeMale float64\n",
      "lifeFemale float64\n",
      "infantMortality float64\n",
      "GDPperCapita float64\n",
      "economicActivityMale float64\n",
      "economicActivityFemale float64\n",
      "illiteracyMale float64\n",
      "illiteracyFemale float64\n"
     ]
    }
   ],
   "source": [
    "#Find data type:\n",
    "for column in df.columns:\n",
    "    print column, df[column].dtype"
   ]
  },
  {
   "cell_type": "code",
   "execution_count": 10,
   "metadata": {
    "collapsed": false
   },
   "outputs": [
    {
     "data": {
      "text/plain": [
       "207"
      ]
     },
     "execution_count": 10,
     "metadata": {},
     "output_type": "execute_result"
    }
   ],
   "source": [
    "#Count number of countries in dataset\n",
    "df['country'].count()"
   ]
  },
  {
   "cell_type": "code",
   "execution_count": 12,
   "metadata": {
    "collapsed": false
   },
   "outputs": [],
   "source": [
    "kDF = df[[\"lifeMale\", \"lifeFemale\",\"infantMortality\"]]"
   ]
  },
  {
   "cell_type": "code",
   "execution_count": 18,
   "metadata": {
    "collapsed": false
   },
   "outputs": [],
   "source": [
    "#Generate a clean DF which drops any rows without complete data.\n",
    "cleanDF = kDF.dropna()"
   ]
  },
  {
   "cell_type": "code",
   "execution_count": 23,
   "metadata": {
    "collapsed": false
   },
   "outputs": [
    {
     "data": {
      "text/plain": [
       "43336.797770481542"
      ]
     },
     "execution_count": 23,
     "metadata": {},
     "output_type": "execute_result"
    }
   ],
   "source": [
    "#Test SKLEARN kmeans clustering:\n",
    "kmeans_estimator = KMeans(n_clusters=3)\n",
    "kmeans_estimator.fit(cleanDF)\n",
    "kmeans_estimator.inertia_ #This is the sum of all distances for each point to the cluster center\n",
    "\n",
    "#Seems to be working."
   ]
  },
  {
   "cell_type": "code",
   "execution_count": 48,
   "metadata": {
    "collapsed": true
   },
   "outputs": [],
   "source": [
    "\n",
    "def calcKmeans_WCSSD(df, num_clusters):\n",
    "    estimator = KMeans(n_clusters=num_clusters)\n",
    "    estimator.fit(df)\n",
    "    \n",
    "    return estimator.inertia_\n",
    "\n",
    "def plot_kmeans_distances(df, max_clusters):\n",
    "    cluster_count = []\n",
    "    kmeans_dist = []\n",
    "    for i in range(1,max_clusters+1):\n",
    "        cluster_count.append(i)\n",
    "        kmeans_dist.append(calcKmeans_WCSSD(df, i))\n",
    "    plt.plot(cluster_count, kmeans_dist)\n",
    "    plt.xticks(cluster_count)\n",
    "    plt.title(\"Sum of Within Cluster of Distances to Cluster Centroids\")\n",
    "    plt.xlabel(\"Sum Distance to Centroid Across all Clusters\")\n",
    "    plt.ylabel(\"Number of Clusters\")\n",
    "        "
   ]
  },
  {
   "cell_type": "code",
   "execution_count": 49,
   "metadata": {
    "collapsed": false
   },
   "outputs": [
    {
     "data": {
      "text/plain": [
       "43336.797770481542"
      ]
     },
     "execution_count": 49,
     "metadata": {},
     "output_type": "execute_result"
    }
   ],
   "source": [
    "calcKmeans_WCSSD(cleanDF, 3)"
   ]
  },
  {
   "cell_type": "code",
   "execution_count": 52,
   "metadata": {
    "collapsed": false,
    "scrolled": true
   },
   "outputs": [
    {
     "data": {
      "image/png": "[encoded data removed]",
      "text/plain": [
       "<matplotlib.figure.Figure at 0x112ed4190>"
      ]
     },
     "metadata": {},
     "output_type": "display_data"
    }
   ],
   "source": [
    "plot_kmeans_distances(cleanDF,8)\n",
    "#Choose number of clusters as 3"
   ]
  },
  {
   "cell_type": "code",
   "execution_count": 61,
   "metadata": {
    "collapsed": true
   },
   "outputs": [],
   "source": [
    "def kmeans_cluster(df, num_clusters):\n",
    "    estimator = KMeans(n_clusters=num_clusters)\n",
    "    labels = estimator.fit_predict(df)\n",
    "    df[\"Labels\"] = labels\n",
    "    return df"
   ]
  },
  {
   "cell_type": "code",
   "execution_count": 63,
   "metadata": {
    "collapsed": false,
    "scrolled": true
   },
   "outputs": [],
   "source": [
    "labelDF = kmeans_cluster(cleanDF, 3)"
   ]
  },
  {
   "cell_type": "code",
   "execution_count": 64,
   "metadata": {
    "collapsed": true
   },
   "outputs": [],
   "source": [
    "labelDF[\"pcGDP\"] = df[\"GDPperCapita\"]"
   ]
  },
  {
   "cell_type": "code",
   "execution_count": 67,
   "metadata": {
    "collapsed": false
   },
   "outputs": [],
   "source": [
    "labelDF[\"country\"] = df[\"country\"]"
   ]
  },
  {
   "cell_type": "code",
   "execution_count": 69,
   "metadata": {
    "collapsed": false
   },
   "outputs": [
    {
     "data": {
      "text/html": [
       "<div>\n",
       "<table border=\"1\" class=\"dataframe\">\n",
       "  <thead>\n",
       "    <tr style=\"text-align: right;\">\n",
       "      <th></th>\n",
       "      <th>lifeMale</th>\n",
       "      <th>lifeFemale</th>\n",
       "      <th>infantMortality</th>\n",
       "      <th>Labels</th>\n",
       "      <th>pcGDP</th>\n",
       "      <th>country</th>\n",
       "    </tr>\n",
       "  </thead>\n",
       "  <tbody>\n",
       "    <tr>\n",
       "      <th>0</th>\n",
       "      <td>45.0</td>\n",
       "      <td>46.0</td>\n",
       "      <td>154</td>\n",
       "      <td>2</td>\n",
       "      <td>2848</td>\n",
       "      <td>Afghanistan</td>\n",
       "    </tr>\n",
       "    <tr>\n",
       "      <th>1</th>\n",
       "      <td>68.0</td>\n",
       "      <td>74.0</td>\n",
       "      <td>32</td>\n",
       "      <td>0</td>\n",
       "      <td>863</td>\n",
       "      <td>Albania</td>\n",
       "    </tr>\n",
       "    <tr>\n",
       "      <th>2</th>\n",
       "      <td>67.5</td>\n",
       "      <td>70.3</td>\n",
       "      <td>44</td>\n",
       "      <td>0</td>\n",
       "      <td>1531</td>\n",
       "      <td>Algeria</td>\n",
       "    </tr>\n",
       "    <tr>\n",
       "      <th>3</th>\n",
       "      <td>68.0</td>\n",
       "      <td>73.0</td>\n",
       "      <td>11</td>\n",
       "      <td>0</td>\n",
       "      <td>NaN</td>\n",
       "      <td>American.Samoa</td>\n",
       "    </tr>\n",
       "    <tr>\n",
       "      <th>5</th>\n",
       "      <td>44.9</td>\n",
       "      <td>48.1</td>\n",
       "      <td>124</td>\n",
       "      <td>2</td>\n",
       "      <td>355</td>\n",
       "      <td>Angola</td>\n",
       "    </tr>\n",
       "  </tbody>\n",
       "</table>\n",
       "</div>"
      ],
      "text/plain": [
       "   lifeMale  lifeFemale  infantMortality  Labels  pcGDP         country\n",
       "0      45.0        46.0              154       2   2848     Afghanistan\n",
       "1      68.0        74.0               32       0    863         Albania\n",
       "2      67.5        70.3               44       0   1531         Algeria\n",
       "3      68.0        73.0               11       0    NaN  American.Samoa\n",
       "5      44.9        48.1              124       2    355          Angola"
      ]
     },
     "execution_count": 69,
     "metadata": {},
     "output_type": "execute_result"
    }
   ],
   "source": [
    "labelDF.head()"
   ]
  },
  {
   "cell_type": "code",
   "execution_count": 73,
   "metadata": {
    "collapsed": false
   },
   "outputs": [
    {
     "data": {
      "text/plain": [
       "lifeMale                         68.9\n",
       "lifeFemale                       73.1\n",
       "infantMortality                    34\n",
       "Labels                              0\n",
       "pcGDP                            1508\n",
       "country            Dominican.Republic\n",
       "Name: 50, dtype: object"
      ]
     },
     "execution_count": 73,
     "metadata": {},
     "output_type": "execute_result"
    }
   ],
   "source": [
    "#Sanity checks:\n",
    "labelDF.ix[50]"
   ]
  },
  {
   "cell_type": "code",
   "execution_count": 74,
   "metadata": {
    "collapsed": false
   },
   "outputs": [
    {
     "data": {
      "text/plain": [
       "country                   Dominican.Republic\n",
       "region                               America\n",
       "tfr                                      2.8\n",
       "contraception                             64\n",
       "educationMale                           11.1\n",
       "educationFemale                         11.3\n",
       "lifeMale                                68.9\n",
       "lifeFemale                              73.1\n",
       "infantMortality                           34\n",
       "GDPperCapita                            1508\n",
       "economicActivityMale                    82.6\n",
       "economicActivityFemale                  42.9\n",
       "illiteracyMale                            18\n",
       "illiteracyFemale                        17.8\n",
       "Name: 50, dtype: object"
      ]
     },
     "execution_count": 74,
     "metadata": {},
     "output_type": "execute_result"
    }
   ],
   "source": [
    "df.ix[50]"
   ]
  },
  {
   "cell_type": "code",
   "execution_count": 93,
   "metadata": {
    "collapsed": false
   },
   "outputs": [
    {
     "data": {
      "text/plain": [
       "<matplotlib.axes.AxesSubplot at 0x1140fee90>"
      ]
     },
     "execution_count": 93,
     "metadata": {},
     "output_type": "execute_result"
    },
    {
     "data": {
      "image/png": "[encoded data removed]",
      "text/plain": [
       "<matplotlib.figure.Figure at 0x113a7e390>"
      ]
     },
     "metadata": {},
     "output_type": "display_data"
    }
   ],
   "source": [
    "labelDF.plot(kind='scatter',y=\"lifeMale\",x=\"pcGDP\", c=\"Labels\",title=\"Impact of pcGDP on lifeMale\")\n"
   ]
  },
  {
   "cell_type": "code",
   "execution_count": 94,
   "metadata": {
    "collapsed": false,
    "scrolled": false
   },
   "outputs": [
    {
     "data": {
      "text/plain": [
       "<matplotlib.axes.AxesSubplot at 0x1138bd3d0>"
      ]
     },
     "execution_count": 94,
     "metadata": {},
     "output_type": "execute_result"
    },
    {
     "data": {
      "image/png": "[encoded data removed]",
      "text/plain": [
       "<matplotlib.figure.Figure at 0x113d25190>"
      ]
     },
     "metadata": {},
     "output_type": "display_data"
    }
   ],
   "source": [
    "labelDF.plot(kind='scatter',y=\"lifeFemale\",x=\"pcGDP\", c=\"Labels\",title=\"Impact of pcGDP on lifeFemale\")"
   ]
  },
  {
   "cell_type": "code",
   "execution_count": 116,
   "metadata": {
    "collapsed": false
   },
   "outputs": [
    {
     "data": {
      "text/plain": [
       "<matplotlib.axes.AxesSubplot at 0x11098eb90>"
      ]
     },
     "execution_count": 116,
     "metadata": {},
     "output_type": "execute_result"
    },
    {
     "data": {
      "image/png": "[encoded data removed]",
      "text/plain": [
       "<matplotlib.figure.Figure at 0x113eed6d0>"
      ]
     },
     "metadata": {},
     "output_type": "display_data"
    }
   ],
   "source": [
    "labelDF.plot(kind='scatter',y=\"infantMortality\",x=\"pcGDP\", c=\"Labels\",title=\"Impact of pcGDP on infantMortality\")"
   ]
  },
  {
   "cell_type": "code",
   "execution_count": 115,
   "metadata": {
    "collapsed": false
   },
   "outputs": [
    {
     "data": {
      "text/html": [
       "<div>\n",
       "<table border=\"1\" class=\"dataframe\">\n",
       "  <thead>\n",
       "    <tr style=\"text-align: right;\">\n",
       "      <th></th>\n",
       "      <th>lifeMale</th>\n",
       "      <th>lifeFemale</th>\n",
       "      <th>infantMortality</th>\n",
       "      <th>Labels</th>\n",
       "      <th>pcGDP</th>\n",
       "      <th>country</th>\n",
       "    </tr>\n",
       "  </thead>\n",
       "  <tbody>\n",
       "    <tr>\n",
       "      <th>0</th>\n",
       "      <td>45.0</td>\n",
       "      <td>46.0</td>\n",
       "      <td>154</td>\n",
       "      <td>2</td>\n",
       "      <td>2848</td>\n",
       "      <td>Afghanistan</td>\n",
       "    </tr>\n",
       "    <tr>\n",
       "      <th>1</th>\n",
       "      <td>68.0</td>\n",
       "      <td>74.0</td>\n",
       "      <td>32</td>\n",
       "      <td>0</td>\n",
       "      <td>863</td>\n",
       "      <td>Albania</td>\n",
       "    </tr>\n",
       "    <tr>\n",
       "      <th>2</th>\n",
       "      <td>67.5</td>\n",
       "      <td>70.3</td>\n",
       "      <td>44</td>\n",
       "      <td>0</td>\n",
       "      <td>1531</td>\n",
       "      <td>Algeria</td>\n",
       "    </tr>\n",
       "    <tr>\n",
       "      <th>3</th>\n",
       "      <td>68.0</td>\n",
       "      <td>73.0</td>\n",
       "      <td>11</td>\n",
       "      <td>0</td>\n",
       "      <td>NaN</td>\n",
       "      <td>American.Samoa</td>\n",
       "    </tr>\n",
       "    <tr>\n",
       "      <th>5</th>\n",
       "      <td>44.9</td>\n",
       "      <td>48.1</td>\n",
       "      <td>124</td>\n",
       "      <td>2</td>\n",
       "      <td>355</td>\n",
       "      <td>Angola</td>\n",
       "    </tr>\n",
       "  </tbody>\n",
       "</table>\n",
       "</div>"
      ],
      "text/plain": [
       "   lifeMale  lifeFemale  infantMortality  Labels  pcGDP         country\n",
       "0      45.0        46.0              154       2   2848     Afghanistan\n",
       "1      68.0        74.0               32       0    863         Albania\n",
       "2      67.5        70.3               44       0   1531         Algeria\n",
       "3      68.0        73.0               11       0    NaN  American.Samoa\n",
       "5      44.9        48.1              124       2    355          Angola"
      ]
     },
     "execution_count": 115,
     "metadata": {},
     "output_type": "execute_result"
    }
   ],
   "source": [
    "labelDF.head()"
   ]
  },
  {
   "cell_type": "code",
   "execution_count": null,
   "metadata": {
    "collapsed": true
   },
   "outputs": [],
   "source": []
  }
 ],
 "metadata": {
  "kernelspec": {
   "display_name": "Python 2",
   "language": "python",
   "name": "python2"
  },
  "language_info": {
   "codemirror_mode": {
    "name": "ipython",
    "version": 2
   },
   "file_extension": ".py",
   "mimetype": "text/x-python",
   "name": "python",
   "nbconvert_exporter": "python",
   "pygments_lexer": "ipython2",
   "version": "2.7.10"
  }
 },
 "nbformat": 4,
 "nbformat_minor": 0
}
