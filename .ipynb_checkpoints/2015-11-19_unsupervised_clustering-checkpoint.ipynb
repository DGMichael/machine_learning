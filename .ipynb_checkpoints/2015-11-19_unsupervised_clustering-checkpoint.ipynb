{
 "cells": [
  {
   "cell_type": "markdown",
   "metadata": {},
   "source": [
    "#Unsupervised Clustering with KMeans:"
   ]
  },
  {
   "cell_type": "code",
   "execution_count": 2,
   "metadata": {
    "collapsed": false
   },
   "outputs": [],
   "source": [
    "from sklearn import datasets\n",
    "import matplotlib.pyplot as plt\n",
    "%matplotlib inline"
   ]
  },
  {
   "cell_type": "code",
   "execution_count": 3,
   "metadata": {
    "collapsed": true
   },
   "outputs": [],
   "source": [
    "iris = datasets.load_iris()"
   ]
  },
  {
   "cell_type": "code",
   "execution_count": 25,
   "metadata": {
    "collapsed": false
   },
   "outputs": [
    {
     "data": {
      "text/plain": [
       "{'DESCR': 'Iris Plants Database\\n\\nNotes\\n-----\\nData Set Characteristics:\\n    :Number of Instances: 150 (50 in each of three classes)\\n    :Number of Attributes: 4 numeric, predictive attributes and the class\\n    :Attribute Information:\\n        - sepal length in cm\\n        - sepal width in cm\\n        - petal length in cm\\n        - petal width in cm\\n        - class:\\n                - Iris-Setosa\\n                - Iris-Versicolour\\n                - Iris-Virginica\\n    :Summary Statistics:\\n    ============== ==== ==== ======= ===== ====================\\n                    Min  Max   Mean    SD   Class Correlation\\n    ============== ==== ==== ======= ===== ====================\\n    sepal length:   4.3  7.9   5.84   0.83    0.7826\\n    sepal width:    2.0  4.4   3.05   0.43   -0.4194\\n    petal length:   1.0  6.9   3.76   1.76    0.9490  (high!)\\n    petal width:    0.1  2.5   1.20  0.76     0.9565  (high!)\\n    ============== ==== ==== ======= ===== ====================\\n    :Missing Attribute Values: None\\n    :Class Distribution: 33.3% for each of 3 classes.\\n    :Creator: R.A. Fisher\\n    :Donor: Michael Marshall (MARSHALL%PLU@io.arc.nasa.gov)\\n    :Date: July, 1988\\n\\nThis is a copy of UCI ML iris datasets.\\nhttp://archive.ics.uci.edu/ml/datasets/Iris\\n\\nThe famous Iris database, first used by Sir R.A Fisher\\n\\nThis is perhaps the best known database to be found in the\\npattern recognition literature.  Fisher\\'s paper is a classic in the field and\\nis referenced frequently to this day.  (See Duda & Hart, for example.)  The\\ndata set contains 3 classes of 50 instances each, where each class refers to a\\ntype of iris plant.  One class is linearly separable from the other 2; the\\nlatter are NOT linearly separable from each other.\\n\\nReferences\\n----------\\n   - Fisher,R.A. \"The use of multiple measurements in taxonomic problems\"\\n     Annual Eugenics, 7, Part II, 179-188 (1936); also in \"Contributions to\\n     Mathematical Statistics\" (John Wiley, NY, 1950).\\n   - Duda,R.O., & Hart,P.E. (1973) Pattern Classification and Scene Analysis.\\n     (Q327.D83) John Wiley & Sons.  ISBN 0-471-22361-1.  See page 218.\\n   - Dasarathy, B.V. (1980) \"Nosing Around the Neighborhood: A New System\\n     Structure and Classification Rule for Recognition in Partially Exposed\\n     Environments\".  IEEE Transactions on Pattern Analysis and Machine\\n     Intelligence, Vol. PAMI-2, No. 1, 67-71.\\n   - Gates, G.W. (1972) \"The Reduced Nearest Neighbor Rule\".  IEEE Transactions\\n     on Information Theory, May 1972, 431-433.\\n   - See also: 1988 MLC Proceedings, 54-64.  Cheeseman et al\"s AUTOCLASS II\\n     conceptual clustering system finds 3 classes in the data.\\n   - Many, many more ...\\n',\n",
       " 'data': array([[ 5.1,  3.5,  1.4,  0.2],\n",
       "        [ 4.9,  3. ,  1.4,  0.2],\n",
       "        [ 4.7,  3.2,  1.3,  0.2],\n",
       "        [ 4.6,  3.1,  1.5,  0.2],\n",
       "        [ 5. ,  3.6,  1.4,  0.2],\n",
       "        [ 5.4,  3.9,  1.7,  0.4],\n",
       "        [ 4.6,  3.4,  1.4,  0.3],\n",
       "        [ 5. ,  3.4,  1.5,  0.2],\n",
       "        [ 4.4,  2.9,  1.4,  0.2],\n",
       "        [ 4.9,  3.1,  1.5,  0.1],\n",
       "        [ 5.4,  3.7,  1.5,  0.2],\n",
       "        [ 4.8,  3.4,  1.6,  0.2],\n",
       "        [ 4.8,  3. ,  1.4,  0.1],\n",
       "        [ 4.3,  3. ,  1.1,  0.1],\n",
       "        [ 5.8,  4. ,  1.2,  0.2],\n",
       "        [ 5.7,  4.4,  1.5,  0.4],\n",
       "        [ 5.4,  3.9,  1.3,  0.4],\n",
       "        [ 5.1,  3.5,  1.4,  0.3],\n",
       "        [ 5.7,  3.8,  1.7,  0.3],\n",
       "        [ 5.1,  3.8,  1.5,  0.3],\n",
       "        [ 5.4,  3.4,  1.7,  0.2],\n",
       "        [ 5.1,  3.7,  1.5,  0.4],\n",
       "        [ 4.6,  3.6,  1. ,  0.2],\n",
       "        [ 5.1,  3.3,  1.7,  0.5],\n",
       "        [ 4.8,  3.4,  1.9,  0.2],\n",
       "        [ 5. ,  3. ,  1.6,  0.2],\n",
       "        [ 5. ,  3.4,  1.6,  0.4],\n",
       "        [ 5.2,  3.5,  1.5,  0.2],\n",
       "        [ 5.2,  3.4,  1.4,  0.2],\n",
       "        [ 4.7,  3.2,  1.6,  0.2],\n",
       "        [ 4.8,  3.1,  1.6,  0.2],\n",
       "        [ 5.4,  3.4,  1.5,  0.4],\n",
       "        [ 5.2,  4.1,  1.5,  0.1],\n",
       "        [ 5.5,  4.2,  1.4,  0.2],\n",
       "        [ 4.9,  3.1,  1.5,  0.1],\n",
       "        [ 5. ,  3.2,  1.2,  0.2],\n",
       "        [ 5.5,  3.5,  1.3,  0.2],\n",
       "        [ 4.9,  3.1,  1.5,  0.1],\n",
       "        [ 4.4,  3. ,  1.3,  0.2],\n",
       "        [ 5.1,  3.4,  1.5,  0.2],\n",
       "        [ 5. ,  3.5,  1.3,  0.3],\n",
       "        [ 4.5,  2.3,  1.3,  0.3],\n",
       "        [ 4.4,  3.2,  1.3,  0.2],\n",
       "        [ 5. ,  3.5,  1.6,  0.6],\n",
       "        [ 5.1,  3.8,  1.9,  0.4],\n",
       "        [ 4.8,  3. ,  1.4,  0.3],\n",
       "        [ 5.1,  3.8,  1.6,  0.2],\n",
       "        [ 4.6,  3.2,  1.4,  0.2],\n",
       "        [ 5.3,  3.7,  1.5,  0.2],\n",
       "        [ 5. ,  3.3,  1.4,  0.2],\n",
       "        [ 7. ,  3.2,  4.7,  1.4],\n",
       "        [ 6.4,  3.2,  4.5,  1.5],\n",
       "        [ 6.9,  3.1,  4.9,  1.5],\n",
       "        [ 5.5,  2.3,  4. ,  1.3],\n",
       "        [ 6.5,  2.8,  4.6,  1.5],\n",
       "        [ 5.7,  2.8,  4.5,  1.3],\n",
       "        [ 6.3,  3.3,  4.7,  1.6],\n",
       "        [ 4.9,  2.4,  3.3,  1. ],\n",
       "        [ 6.6,  2.9,  4.6,  1.3],\n",
       "        [ 5.2,  2.7,  3.9,  1.4],\n",
       "        [ 5. ,  2. ,  3.5,  1. ],\n",
       "        [ 5.9,  3. ,  4.2,  1.5],\n",
       "        [ 6. ,  2.2,  4. ,  1. ],\n",
       "        [ 6.1,  2.9,  4.7,  1.4],\n",
       "        [ 5.6,  2.9,  3.6,  1.3],\n",
       "        [ 6.7,  3.1,  4.4,  1.4],\n",
       "        [ 5.6,  3. ,  4.5,  1.5],\n",
       "        [ 5.8,  2.7,  4.1,  1. ],\n",
       "        [ 6.2,  2.2,  4.5,  1.5],\n",
       "        [ 5.6,  2.5,  3.9,  1.1],\n",
       "        [ 5.9,  3.2,  4.8,  1.8],\n",
       "        [ 6.1,  2.8,  4. ,  1.3],\n",
       "        [ 6.3,  2.5,  4.9,  1.5],\n",
       "        [ 6.1,  2.8,  4.7,  1.2],\n",
       "        [ 6.4,  2.9,  4.3,  1.3],\n",
       "        [ 6.6,  3. ,  4.4,  1.4],\n",
       "        [ 6.8,  2.8,  4.8,  1.4],\n",
       "        [ 6.7,  3. ,  5. ,  1.7],\n",
       "        [ 6. ,  2.9,  4.5,  1.5],\n",
       "        [ 5.7,  2.6,  3.5,  1. ],\n",
       "        [ 5.5,  2.4,  3.8,  1.1],\n",
       "        [ 5.5,  2.4,  3.7,  1. ],\n",
       "        [ 5.8,  2.7,  3.9,  1.2],\n",
       "        [ 6. ,  2.7,  5.1,  1.6],\n",
       "        [ 5.4,  3. ,  4.5,  1.5],\n",
       "        [ 6. ,  3.4,  4.5,  1.6],\n",
       "        [ 6.7,  3.1,  4.7,  1.5],\n",
       "        [ 6.3,  2.3,  4.4,  1.3],\n",
       "        [ 5.6,  3. ,  4.1,  1.3],\n",
       "        [ 5.5,  2.5,  4. ,  1.3],\n",
       "        [ 5.5,  2.6,  4.4,  1.2],\n",
       "        [ 6.1,  3. ,  4.6,  1.4],\n",
       "        [ 5.8,  2.6,  4. ,  1.2],\n",
       "        [ 5. ,  2.3,  3.3,  1. ],\n",
       "        [ 5.6,  2.7,  4.2,  1.3],\n",
       "        [ 5.7,  3. ,  4.2,  1.2],\n",
       "        [ 5.7,  2.9,  4.2,  1.3],\n",
       "        [ 6.2,  2.9,  4.3,  1.3],\n",
       "        [ 5.1,  2.5,  3. ,  1.1],\n",
       "        [ 5.7,  2.8,  4.1,  1.3],\n",
       "        [ 6.3,  3.3,  6. ,  2.5],\n",
       "        [ 5.8,  2.7,  5.1,  1.9],\n",
       "        [ 7.1,  3. ,  5.9,  2.1],\n",
       "        [ 6.3,  2.9,  5.6,  1.8],\n",
       "        [ 6.5,  3. ,  5.8,  2.2],\n",
       "        [ 7.6,  3. ,  6.6,  2.1],\n",
       "        [ 4.9,  2.5,  4.5,  1.7],\n",
       "        [ 7.3,  2.9,  6.3,  1.8],\n",
       "        [ 6.7,  2.5,  5.8,  1.8],\n",
       "        [ 7.2,  3.6,  6.1,  2.5],\n",
       "        [ 6.5,  3.2,  5.1,  2. ],\n",
       "        [ 6.4,  2.7,  5.3,  1.9],\n",
       "        [ 6.8,  3. ,  5.5,  2.1],\n",
       "        [ 5.7,  2.5,  5. ,  2. ],\n",
       "        [ 5.8,  2.8,  5.1,  2.4],\n",
       "        [ 6.4,  3.2,  5.3,  2.3],\n",
       "        [ 6.5,  3. ,  5.5,  1.8],\n",
       "        [ 7.7,  3.8,  6.7,  2.2],\n",
       "        [ 7.7,  2.6,  6.9,  2.3],\n",
       "        [ 6. ,  2.2,  5. ,  1.5],\n",
       "        [ 6.9,  3.2,  5.7,  2.3],\n",
       "        [ 5.6,  2.8,  4.9,  2. ],\n",
       "        [ 7.7,  2.8,  6.7,  2. ],\n",
       "        [ 6.3,  2.7,  4.9,  1.8],\n",
       "        [ 6.7,  3.3,  5.7,  2.1],\n",
       "        [ 7.2,  3.2,  6. ,  1.8],\n",
       "        [ 6.2,  2.8,  4.8,  1.8],\n",
       "        [ 6.1,  3. ,  4.9,  1.8],\n",
       "        [ 6.4,  2.8,  5.6,  2.1],\n",
       "        [ 7.2,  3. ,  5.8,  1.6],\n",
       "        [ 7.4,  2.8,  6.1,  1.9],\n",
       "        [ 7.9,  3.8,  6.4,  2. ],\n",
       "        [ 6.4,  2.8,  5.6,  2.2],\n",
       "        [ 6.3,  2.8,  5.1,  1.5],\n",
       "        [ 6.1,  2.6,  5.6,  1.4],\n",
       "        [ 7.7,  3. ,  6.1,  2.3],\n",
       "        [ 6.3,  3.4,  5.6,  2.4],\n",
       "        [ 6.4,  3.1,  5.5,  1.8],\n",
       "        [ 6. ,  3. ,  4.8,  1.8],\n",
       "        [ 6.9,  3.1,  5.4,  2.1],\n",
       "        [ 6.7,  3.1,  5.6,  2.4],\n",
       "        [ 6.9,  3.1,  5.1,  2.3],\n",
       "        [ 5.8,  2.7,  5.1,  1.9],\n",
       "        [ 6.8,  3.2,  5.9,  2.3],\n",
       "        [ 6.7,  3.3,  5.7,  2.5],\n",
       "        [ 6.7,  3. ,  5.2,  2.3],\n",
       "        [ 6.3,  2.5,  5. ,  1.9],\n",
       "        [ 6.5,  3. ,  5.2,  2. ],\n",
       "        [ 6.2,  3.4,  5.4,  2.3],\n",
       "        [ 5.9,  3. ,  5.1,  1.8]]),\n",
       " 'feature_names': ['sepal length (cm)',\n",
       "  'sepal width (cm)',\n",
       "  'petal length (cm)',\n",
       "  'petal width (cm)'],\n",
       " 'target': array([0, 0, 0, 0, 0, 0, 0, 0, 0, 0, 0, 0, 0, 0, 0, 0, 0, 0, 0, 0, 0, 0, 0,\n",
       "        0, 0, 0, 0, 0, 0, 0, 0, 0, 0, 0, 0, 0, 0, 0, 0, 0, 0, 0, 0, 0, 0, 0,\n",
       "        0, 0, 0, 0, 1, 1, 1, 1, 1, 1, 1, 1, 1, 1, 1, 1, 1, 1, 1, 1, 1, 1, 1,\n",
       "        1, 1, 1, 1, 1, 1, 1, 1, 1, 1, 1, 1, 1, 1, 1, 1, 1, 1, 1, 1, 1, 1, 1,\n",
       "        1, 1, 1, 1, 1, 1, 1, 1, 2, 2, 2, 2, 2, 2, 2, 2, 2, 2, 2, 2, 2, 2, 2,\n",
       "        2, 2, 2, 2, 2, 2, 2, 2, 2, 2, 2, 2, 2, 2, 2, 2, 2, 2, 2, 2, 2, 2, 2,\n",
       "        2, 2, 2, 2, 2, 2, 2, 2, 2, 2, 2, 2]),\n",
       " 'target_names': array(['setosa', 'versicolor', 'virginica'], \n",
       "       dtype='|S10')}"
      ]
     },
     "execution_count": 25,
     "metadata": {},
     "output_type": "execute_result"
    }
   ],
   "source": [
    "iris"
   ]
  },
  {
   "cell_type": "code",
   "execution_count": 9,
   "metadata": {
    "collapsed": true
   },
   "outputs": [],
   "source": [
    "X = iris.data[:,0] #sepal length\n",
    "Y = iris.data[:,1] #sepal width\n",
    "Z = iris.data[:,2] #petal length\n",
    "Z2 = iris.data[:,3] #petal width\n",
    "label = iris.target\n",
    "species_key = {0:'setosa',1:'versicolor',2:'virginica'}"
   ]
  },
  {
   "cell_type": "code",
   "execution_count": 16,
   "metadata": {
    "collapsed": false
   },
   "outputs": [],
   "source": [
    "import pandas as pd\n",
    "df = pd.DataFrame(data={'length':X,'width':Y,'petal_length':Z,'petal_width':Z2,'species':label},index=[i for i in range(0,len(Y))])"
   ]
  },
  {
   "cell_type": "code",
   "execution_count": 17,
   "metadata": {
    "collapsed": false
   },
   "outputs": [
    {
     "data": {
      "text/plain": [
       "<matplotlib.axes._subplots.AxesSubplot at 0x111be95d0>"
      ]
     },
     "execution_count": 17,
     "metadata": {},
     "output_type": "execute_result"
    },
    {
     "data": {
      "image/png": "[encoded data removed]",
      "text/plain": [
       "<matplotlib.figure.Figure at 0x111bd2b90>"
      ]
     },
     "metadata": {},
     "output_type": "display_data"
    }
   ],
   "source": [
    "df[[\"length\",'width']].plot(x='length',y='width',kind='scatter',c=df[\"species\"])"
   ]
  },
  {
   "cell_type": "code",
   "execution_count": 21,
   "metadata": {
    "collapsed": false
   },
   "outputs": [],
   "source": [
    "import seaborn as sns\n",
    "from pandas.tools.plotting import scatter_matrix"
   ]
  },
  {
   "cell_type": "code",
   "execution_count": 23,
   "metadata": {
    "collapsed": false
   },
   "outputs": [
    {
     "data": {
      "text/plain": [
       "array([[<matplotlib.axes._subplots.AxesSubplot object at 0x111c1df10>,\n",
       "        <matplotlib.axes._subplots.AxesSubplot object at 0x1125f5590>,\n",
       "        <matplotlib.axes._subplots.AxesSubplot object at 0x11261add0>,\n",
       "        <matplotlib.axes._subplots.AxesSubplot object at 0x1124b9590>,\n",
       "        <matplotlib.axes._subplots.AxesSubplot object at 0x112695a10>],\n",
       "       [<matplotlib.axes._subplots.AxesSubplot object at 0x1126bd0d0>,\n",
       "        <matplotlib.axes._subplots.AxesSubplot object at 0x1126d5cd0>,\n",
       "        <matplotlib.axes._subplots.AxesSubplot object at 0x1126fba10>,\n",
       "        <matplotlib.axes._subplots.AxesSubplot object at 0x1126e31d0>,\n",
       "        <matplotlib.axes._subplots.AxesSubplot object at 0x11273bed0>],\n",
       "       [<matplotlib.axes._subplots.AxesSubplot object at 0x112761dd0>,\n",
       "        <matplotlib.axes._subplots.AxesSubplot object at 0x112314c10>,\n",
       "        <matplotlib.axes._subplots.AxesSubplot object at 0x112780f10>,\n",
       "        <matplotlib.axes._subplots.AxesSubplot object at 0x1127a3d50>,\n",
       "        <matplotlib.axes._subplots.AxesSubplot object at 0x1127c0f90>],\n",
       "       [<matplotlib.axes._subplots.AxesSubplot object at 0x1127e7590>,\n",
       "        <matplotlib.axes._subplots.AxesSubplot object at 0x1127a7a90>,\n",
       "        <matplotlib.axes._subplots.AxesSubplot object at 0x112826b90>,\n",
       "        <matplotlib.axes._subplots.AxesSubplot object at 0x11284c250>,\n",
       "        <matplotlib.axes._subplots.AxesSubplot object at 0x112865e50>],\n",
       "       [<matplotlib.axes._subplots.AxesSubplot object at 0x11288b190>,\n",
       "        <matplotlib.axes._subplots.AxesSubplot object at 0x112871710>,\n",
       "        <matplotlib.axes._subplots.AxesSubplot object at 0x1128ccc10>,\n",
       "        <matplotlib.axes._subplots.AxesSubplot object at 0x1128f5210>,\n",
       "        <matplotlib.axes._subplots.AxesSubplot object at 0x11290f7d0>]], dtype=object)"
      ]
     },
     "execution_count": 23,
     "metadata": {},
     "output_type": "execute_result"
    },
    {
     "data": {
      "image/png": "[encoded data removed]",
      "text/plain": [
       "<matplotlib.figure.Figure at 0x11239ac50>"
      ]
     },
     "metadata": {},
     "output_type": "display_data"
    }
   ],
   "source": [
    "#Generate a scatter matrix\n",
    "scatter_matrix(df,figsize=[20,20])"
   ]
  },
  {
   "cell_type": "markdown",
   "metadata": {},
   "source": [
    "##Load UN Data:\n",
    "pwd"
   ]
  },
  {
   "cell_type": "code",
   "execution_count": 42,
   "metadata": {
    "collapsed": false
   },
   "outputs": [
    {
     "name": "stdout",
     "output_type": "stream",
     "text": [
      "/Users/mdrew/DS_thinkful/machine_learning\n"
     ]
    }
   ],
   "source": [
    "cd ~/DS_thinkful/machine_learning/\n"
   ]
  },
  {
   "cell_type": "code",
   "execution_count": 43,
   "metadata": {
    "collapsed": false
   },
   "outputs": [
    {
     "name": "stdout",
     "output_type": "stream",
     "text": [
      "2015-09-09_train_test_split.ipynb         2015-10-04_randomforests.ipynb            2015-11-19_unsupervised_clustering.ipynb  UCI HAR Dataset.zip                       sampleData.csv\r\n",
      "2015-09-13_overfitting.py.ipynb           2015-10-09_Naive_Bayes.ipynb              README.md                                 ideal_weight.csv                          un.csv\r\n",
      "2015-09-17_cross_validation.ipynb         2015-10-09_kNN.ipynb                      \u001b[34mUCI HAR Dataset\u001b[m\u001b[m/                          random_forest.py\r\n"
     ]
    }
   ],
   "source": [
    "ls"
   ]
  },
  {
   "cell_type": "code",
   "execution_count": 44,
   "metadata": {
    "collapsed": false
   },
   "outputs": [],
   "source": [
    "df2 = pd.read_csv(\"un.csv\")"
   ]
  },
  {
   "cell_type": "code",
   "execution_count": 80,
   "metadata": {
    "collapsed": false
   },
   "outputs": [],
   "source": [
    "df2.set_index(\"country\",inplace=True)"
   ]
  },
  {
   "cell_type": "code",
   "execution_count": 71,
   "metadata": {
    "collapsed": false
   },
   "outputs": [
    {
     "data": {
      "text/html": [
       "<div>\n",
       "<table border=\"1\" class=\"dataframe\">\n",
       "  <thead>\n",
       "    <tr style=\"text-align: right;\">\n",
       "      <th></th>\n",
       "      <th>tfr</th>\n",
       "      <th>contraception</th>\n",
       "      <th>educationMale</th>\n",
       "      <th>educationFemale</th>\n",
       "      <th>lifeMale</th>\n",
       "      <th>lifeFemale</th>\n",
       "      <th>infantMortality</th>\n",
       "      <th>GDPperCapita</th>\n",
       "      <th>economicActivityMale</th>\n",
       "      <th>economicActivityFemale</th>\n",
       "      <th>illiteracyMale</th>\n",
       "      <th>illiteracyFemale</th>\n",
       "    </tr>\n",
       "  </thead>\n",
       "  <tbody>\n",
       "    <tr>\n",
       "      <th>count</th>\n",
       "      <td>197.000000</td>\n",
       "      <td>144.000000</td>\n",
       "      <td>76.000000</td>\n",
       "      <td>76.000000</td>\n",
       "      <td>196.00000</td>\n",
       "      <td>196.000000</td>\n",
       "      <td>201.000000</td>\n",
       "      <td>197.000000</td>\n",
       "      <td>165.000000</td>\n",
       "      <td>165.000000</td>\n",
       "      <td>160.000000</td>\n",
       "      <td>160.000000</td>\n",
       "    </tr>\n",
       "    <tr>\n",
       "      <th>mean</th>\n",
       "      <td>3.528782</td>\n",
       "      <td>43.430556</td>\n",
       "      <td>11.410526</td>\n",
       "      <td>11.275000</td>\n",
       "      <td>63.62551</td>\n",
       "      <td>68.391837</td>\n",
       "      <td>43.477612</td>\n",
       "      <td>6261.954315</td>\n",
       "      <td>76.460606</td>\n",
       "      <td>46.794545</td>\n",
       "      <td>17.554662</td>\n",
       "      <td>27.906200</td>\n",
       "    </tr>\n",
       "    <tr>\n",
       "      <th>std</th>\n",
       "      <td>1.761974</td>\n",
       "      <td>23.706732</td>\n",
       "      <td>3.049834</td>\n",
       "      <td>3.475135</td>\n",
       "      <td>9.78687</td>\n",
       "      <td>11.041234</td>\n",
       "      <td>38.756041</td>\n",
       "      <td>9355.659390</td>\n",
       "      <td>7.687047</td>\n",
       "      <td>16.810472</td>\n",
       "      <td>17.813000</td>\n",
       "      <td>26.580664</td>\n",
       "    </tr>\n",
       "    <tr>\n",
       "      <th>min</th>\n",
       "      <td>1.190000</td>\n",
       "      <td>2.000000</td>\n",
       "      <td>3.300000</td>\n",
       "      <td>2.000000</td>\n",
       "      <td>36.00000</td>\n",
       "      <td>39.100000</td>\n",
       "      <td>2.000000</td>\n",
       "      <td>36.000000</td>\n",
       "      <td>51.200000</td>\n",
       "      <td>1.900000</td>\n",
       "      <td>0.200000</td>\n",
       "      <td>0.200000</td>\n",
       "    </tr>\n",
       "    <tr>\n",
       "      <th>25%</th>\n",
       "      <td>1.950000</td>\n",
       "      <td>21.000000</td>\n",
       "      <td>9.750000</td>\n",
       "      <td>9.325000</td>\n",
       "      <td>57.37500</td>\n",
       "      <td>59.600000</td>\n",
       "      <td>12.000000</td>\n",
       "      <td>442.000000</td>\n",
       "      <td>72.300000</td>\n",
       "      <td>37.000000</td>\n",
       "      <td>2.952000</td>\n",
       "      <td>4.847000</td>\n",
       "    </tr>\n",
       "    <tr>\n",
       "      <th>50%</th>\n",
       "      <td>3.070000</td>\n",
       "      <td>47.000000</td>\n",
       "      <td>11.250000</td>\n",
       "      <td>11.650000</td>\n",
       "      <td>66.50000</td>\n",
       "      <td>72.150000</td>\n",
       "      <td>30.000000</td>\n",
       "      <td>1779.000000</td>\n",
       "      <td>76.800000</td>\n",
       "      <td>48.400000</td>\n",
       "      <td>10.829000</td>\n",
       "      <td>20.100000</td>\n",
       "    </tr>\n",
       "    <tr>\n",
       "      <th>75%</th>\n",
       "      <td>4.980000</td>\n",
       "      <td>64.000000</td>\n",
       "      <td>13.900000</td>\n",
       "      <td>13.650000</td>\n",
       "      <td>70.90000</td>\n",
       "      <td>76.425000</td>\n",
       "      <td>66.000000</td>\n",
       "      <td>7272.000000</td>\n",
       "      <td>81.200000</td>\n",
       "      <td>56.400000</td>\n",
       "      <td>27.575000</td>\n",
       "      <td>48.025000</td>\n",
       "    </tr>\n",
       "    <tr>\n",
       "      <th>max</th>\n",
       "      <td>8.000000</td>\n",
       "      <td>86.000000</td>\n",
       "      <td>17.200000</td>\n",
       "      <td>17.800000</td>\n",
       "      <td>77.40000</td>\n",
       "      <td>82.900000</td>\n",
       "      <td>169.000000</td>\n",
       "      <td>42416.000000</td>\n",
       "      <td>93.000000</td>\n",
       "      <td>90.600000</td>\n",
       "      <td>79.100000</td>\n",
       "      <td>93.400000</td>\n",
       "    </tr>\n",
       "  </tbody>\n",
       "</table>\n",
       "</div>"
      ],
      "text/plain": [
       "              tfr  contraception  educationMale  educationFemale   lifeMale  \\\n",
       "count  197.000000     144.000000      76.000000        76.000000  196.00000   \n",
       "mean     3.528782      43.430556      11.410526        11.275000   63.62551   \n",
       "std      1.761974      23.706732       3.049834         3.475135    9.78687   \n",
       "min      1.190000       2.000000       3.300000         2.000000   36.00000   \n",
       "25%      1.950000      21.000000       9.750000         9.325000   57.37500   \n",
       "50%      3.070000      47.000000      11.250000        11.650000   66.50000   \n",
       "75%      4.980000      64.000000      13.900000        13.650000   70.90000   \n",
       "max      8.000000      86.000000      17.200000        17.800000   77.40000   \n",
       "\n",
       "       lifeFemale  infantMortality  GDPperCapita  economicActivityMale  \\\n",
       "count  196.000000       201.000000    197.000000            165.000000   \n",
       "mean    68.391837        43.477612   6261.954315             76.460606   \n",
       "std     11.041234        38.756041   9355.659390              7.687047   \n",
       "min     39.100000         2.000000     36.000000             51.200000   \n",
       "25%     59.600000        12.000000    442.000000             72.300000   \n",
       "50%     72.150000        30.000000   1779.000000             76.800000   \n",
       "75%     76.425000        66.000000   7272.000000             81.200000   \n",
       "max     82.900000       169.000000  42416.000000             93.000000   \n",
       "\n",
       "       economicActivityFemale  illiteracyMale  illiteracyFemale  \n",
       "count              165.000000      160.000000        160.000000  \n",
       "mean                46.794545       17.554662         27.906200  \n",
       "std                 16.810472       17.813000         26.580664  \n",
       "min                  1.900000        0.200000          0.200000  \n",
       "25%                 37.000000        2.952000          4.847000  \n",
       "50%                 48.400000       10.829000         20.100000  \n",
       "75%                 56.400000       27.575000         48.025000  \n",
       "max                 90.600000       79.100000         93.400000  "
      ]
     },
     "execution_count": 71,
     "metadata": {},
     "output_type": "execute_result"
    }
   ],
   "source": [
    "df2.describe()"
   ]
  },
  {
   "cell_type": "code",
   "execution_count": 72,
   "metadata": {
    "collapsed": false
   },
   "outputs": [
    {
     "data": {
      "text/plain": [
       "country                     0\n",
       "region                      0\n",
       "tfr                        10\n",
       "contraception              63\n",
       "educationMale             131\n",
       "educationFemale           131\n",
       "lifeMale                   11\n",
       "lifeFemale                 11\n",
       "infantMortality             6\n",
       "GDPperCapita               10\n",
       "economicActivityMale       42\n",
       "economicActivityFemale     42\n",
       "illiteracyMale             47\n",
       "illiteracyFemale           47\n",
       "dtype: int64"
      ]
     },
     "execution_count": 72,
     "metadata": {},
     "output_type": "execute_result"
    }
   ],
   "source": [
    "df2.isnull().sum()"
   ]
  },
  {
   "cell_type": "code",
   "execution_count": 73,
   "metadata": {
    "collapsed": true
   },
   "outputs": [],
   "source": [
    "import scipy \n",
    "import numpy as np"
   ]
  },
  {
   "cell_type": "code",
   "execution_count": 74,
   "metadata": {
    "collapsed": false
   },
   "outputs": [],
   "source": [
    "k_search = [i for i in range(0,10)]"
   ]
  },
  {
   "cell_type": "code",
   "execution_count": 75,
   "metadata": {
    "collapsed": false
   },
   "outputs": [
    {
     "data": {
      "text/plain": [
       "[0, 1, 2, 3, 4, 5, 6, 7, 8, 9]"
      ]
     },
     "execution_count": 75,
     "metadata": {},
     "output_type": "execute_result"
    }
   ],
   "source": [
    "k_search"
   ]
  },
  {
   "cell_type": "code",
   "execution_count": 76,
   "metadata": {
    "collapsed": false
   },
   "outputs": [
    {
     "data": {
      "text/plain": [
       "<function scipy.cluster.vq.kmeans>"
      ]
     },
     "execution_count": 76,
     "metadata": {},
     "output_type": "execute_result"
    }
   ],
   "source": [
    "scipy.cluster.vq.kmeans"
   ]
  },
  {
   "cell_type": "code",
   "execution_count": 81,
   "metadata": {
    "collapsed": false
   },
   "outputs": [],
   "source": [
    "input_df = df2[['lifeMale','lifeFemale','infantMortality','GDPperCapita']]"
   ]
  },
  {
   "cell_type": "code",
   "execution_count": 82,
   "metadata": {
    "collapsed": false
   },
   "outputs": [
    {
     "data": {
      "text/html": [
       "<div>\n",
       "<table border=\"1\" class=\"dataframe\">\n",
       "  <thead>\n",
       "    <tr style=\"text-align: right;\">\n",
       "      <th></th>\n",
       "      <th>lifeMale</th>\n",
       "      <th>lifeFemale</th>\n",
       "      <th>infantMortality</th>\n",
       "      <th>GDPperCapita</th>\n",
       "    </tr>\n",
       "    <tr>\n",
       "      <th>country</th>\n",
       "      <th></th>\n",
       "      <th></th>\n",
       "      <th></th>\n",
       "      <th></th>\n",
       "    </tr>\n",
       "  </thead>\n",
       "  <tbody>\n",
       "    <tr>\n",
       "      <th>Afghanistan</th>\n",
       "      <td>45.0</td>\n",
       "      <td>46.0</td>\n",
       "      <td>154</td>\n",
       "      <td>2848</td>\n",
       "    </tr>\n",
       "    <tr>\n",
       "      <th>Albania</th>\n",
       "      <td>68.0</td>\n",
       "      <td>74.0</td>\n",
       "      <td>32</td>\n",
       "      <td>863</td>\n",
       "    </tr>\n",
       "    <tr>\n",
       "      <th>Algeria</th>\n",
       "      <td>67.5</td>\n",
       "      <td>70.3</td>\n",
       "      <td>44</td>\n",
       "      <td>1531</td>\n",
       "    </tr>\n",
       "    <tr>\n",
       "      <th>American.Samoa</th>\n",
       "      <td>68.0</td>\n",
       "      <td>73.0</td>\n",
       "      <td>11</td>\n",
       "      <td>NaN</td>\n",
       "    </tr>\n",
       "    <tr>\n",
       "      <th>Andorra</th>\n",
       "      <td>NaN</td>\n",
       "      <td>NaN</td>\n",
       "      <td>NaN</td>\n",
       "      <td>NaN</td>\n",
       "    </tr>\n",
       "    <tr>\n",
       "      <th>Angola</th>\n",
       "      <td>44.9</td>\n",
       "      <td>48.1</td>\n",
       "      <td>124</td>\n",
       "      <td>355</td>\n",
       "    </tr>\n",
       "    <tr>\n",
       "      <th>Antigua</th>\n",
       "      <td>NaN</td>\n",
       "      <td>NaN</td>\n",
       "      <td>24</td>\n",
       "      <td>6966</td>\n",
       "    </tr>\n",
       "    <tr>\n",
       "      <th>Argentina</th>\n",
       "      <td>69.6</td>\n",
       "      <td>76.8</td>\n",
       "      <td>22</td>\n",
       "      <td>8055</td>\n",
       "    </tr>\n",
       "    <tr>\n",
       "      <th>Armenia</th>\n",
       "      <td>67.2</td>\n",
       "      <td>74.0</td>\n",
       "      <td>25</td>\n",
       "      <td>354</td>\n",
       "    </tr>\n",
       "    <tr>\n",
       "      <th>Australia</th>\n",
       "      <td>75.4</td>\n",
       "      <td>81.2</td>\n",
       "      <td>6</td>\n",
       "      <td>20046</td>\n",
       "    </tr>\n",
       "    <tr>\n",
       "      <th>Austria</th>\n",
       "      <td>73.7</td>\n",
       "      <td>80.1</td>\n",
       "      <td>6</td>\n",
       "      <td>29006</td>\n",
       "    </tr>\n",
       "    <tr>\n",
       "      <th>Azerbaijan</th>\n",
       "      <td>66.5</td>\n",
       "      <td>74.5</td>\n",
       "      <td>33</td>\n",
       "      <td>321</td>\n",
       "    </tr>\n",
       "    <tr>\n",
       "      <th>Bahamas</th>\n",
       "      <td>70.5</td>\n",
       "      <td>77.1</td>\n",
       "      <td>14</td>\n",
       "      <td>12545</td>\n",
       "    </tr>\n",
       "    <tr>\n",
       "      <th>Bahrain</th>\n",
       "      <td>71.1</td>\n",
       "      <td>75.3</td>\n",
       "      <td>18</td>\n",
       "      <td>9073</td>\n",
       "    </tr>\n",
       "    <tr>\n",
       "      <th>Bangladesh</th>\n",
       "      <td>58.1</td>\n",
       "      <td>58.2</td>\n",
       "      <td>78</td>\n",
       "      <td>280</td>\n",
       "    </tr>\n",
       "    <tr>\n",
       "      <th>Barbados</th>\n",
       "      <td>73.6</td>\n",
       "      <td>78.7</td>\n",
       "      <td>9</td>\n",
       "      <td>7173</td>\n",
       "    </tr>\n",
       "    <tr>\n",
       "      <th>Belarus</th>\n",
       "      <td>64.4</td>\n",
       "      <td>74.8</td>\n",
       "      <td>15</td>\n",
       "      <td>994</td>\n",
       "    </tr>\n",
       "    <tr>\n",
       "      <th>Belgium</th>\n",
       "      <td>73.9</td>\n",
       "      <td>80.6</td>\n",
       "      <td>7</td>\n",
       "      <td>26582</td>\n",
       "    </tr>\n",
       "    <tr>\n",
       "      <th>Belize</th>\n",
       "      <td>73.4</td>\n",
       "      <td>76.1</td>\n",
       "      <td>30</td>\n",
       "      <td>2569</td>\n",
       "    </tr>\n",
       "    <tr>\n",
       "      <th>Benin</th>\n",
       "      <td>52.4</td>\n",
       "      <td>57.2</td>\n",
       "      <td>84</td>\n",
       "      <td>391</td>\n",
       "    </tr>\n",
       "    <tr>\n",
       "      <th>Bhutan</th>\n",
       "      <td>51.6</td>\n",
       "      <td>54.9</td>\n",
       "      <td>104</td>\n",
       "      <td>166</td>\n",
       "    </tr>\n",
       "    <tr>\n",
       "      <th>Bolivia</th>\n",
       "      <td>59.8</td>\n",
       "      <td>63.2</td>\n",
       "      <td>66</td>\n",
       "      <td>909</td>\n",
       "    </tr>\n",
       "    <tr>\n",
       "      <th>Bosnia</th>\n",
       "      <td>70.5</td>\n",
       "      <td>75.9</td>\n",
       "      <td>13</td>\n",
       "      <td>271</td>\n",
       "    </tr>\n",
       "    <tr>\n",
       "      <th>Botswana</th>\n",
       "      <td>48.9</td>\n",
       "      <td>51.7</td>\n",
       "      <td>56</td>\n",
       "      <td>3640</td>\n",
       "    </tr>\n",
       "    <tr>\n",
       "      <th>Brazil</th>\n",
       "      <td>63.4</td>\n",
       "      <td>71.2</td>\n",
       "      <td>42</td>\n",
       "      <td>4510</td>\n",
       "    </tr>\n",
       "    <tr>\n",
       "      <th>Brunei</th>\n",
       "      <td>73.4</td>\n",
       "      <td>78.1</td>\n",
       "      <td>9</td>\n",
       "      <td>16683</td>\n",
       "    </tr>\n",
       "    <tr>\n",
       "      <th>Bulgaria</th>\n",
       "      <td>67.8</td>\n",
       "      <td>74.9</td>\n",
       "      <td>16</td>\n",
       "      <td>1518</td>\n",
       "    </tr>\n",
       "    <tr>\n",
       "      <th>Burkina.Faso</th>\n",
       "      <td>45.1</td>\n",
       "      <td>47.0</td>\n",
       "      <td>97</td>\n",
       "      <td>165</td>\n",
       "    </tr>\n",
       "    <tr>\n",
       "      <th>Burundi</th>\n",
       "      <td>45.5</td>\n",
       "      <td>48.8</td>\n",
       "      <td>114</td>\n",
       "      <td>205</td>\n",
       "    </tr>\n",
       "    <tr>\n",
       "      <th>Cambodia</th>\n",
       "      <td>52.6</td>\n",
       "      <td>55.4</td>\n",
       "      <td>102</td>\n",
       "      <td>130</td>\n",
       "    </tr>\n",
       "    <tr>\n",
       "      <th>...</th>\n",
       "      <td>...</td>\n",
       "      <td>...</td>\n",
       "      <td>...</td>\n",
       "      <td>...</td>\n",
       "    </tr>\n",
       "    <tr>\n",
       "      <th>Swaziland</th>\n",
       "      <td>57.7</td>\n",
       "      <td>62.3</td>\n",
       "      <td>65</td>\n",
       "      <td>1389</td>\n",
       "    </tr>\n",
       "    <tr>\n",
       "      <th>Sweden</th>\n",
       "      <td>76.2</td>\n",
       "      <td>80.8</td>\n",
       "      <td>5</td>\n",
       "      <td>26253</td>\n",
       "    </tr>\n",
       "    <tr>\n",
       "      <th>Switzerland</th>\n",
       "      <td>75.3</td>\n",
       "      <td>81.8</td>\n",
       "      <td>5</td>\n",
       "      <td>42416</td>\n",
       "    </tr>\n",
       "    <tr>\n",
       "      <th>Syria</th>\n",
       "      <td>66.7</td>\n",
       "      <td>71.2</td>\n",
       "      <td>33</td>\n",
       "      <td>3573</td>\n",
       "    </tr>\n",
       "    <tr>\n",
       "      <th>Tajikistan</th>\n",
       "      <td>64.2</td>\n",
       "      <td>70.2</td>\n",
       "      <td>56</td>\n",
       "      <td>122</td>\n",
       "    </tr>\n",
       "    <tr>\n",
       "      <th>Tanzania</th>\n",
       "      <td>50.0</td>\n",
       "      <td>52.8</td>\n",
       "      <td>80</td>\n",
       "      <td>139</td>\n",
       "    </tr>\n",
       "    <tr>\n",
       "      <th>Thailand</th>\n",
       "      <td>66.3</td>\n",
       "      <td>72.3</td>\n",
       "      <td>30</td>\n",
       "      <td>2896</td>\n",
       "    </tr>\n",
       "    <tr>\n",
       "      <th>Togo</th>\n",
       "      <td>48.8</td>\n",
       "      <td>51.5</td>\n",
       "      <td>86</td>\n",
       "      <td>322</td>\n",
       "    </tr>\n",
       "    <tr>\n",
       "      <th>Tonga</th>\n",
       "      <td>67.0</td>\n",
       "      <td>71.0</td>\n",
       "      <td>3</td>\n",
       "      <td>1787</td>\n",
       "    </tr>\n",
       "    <tr>\n",
       "      <th>Trinidad.and.Tobago</th>\n",
       "      <td>71.5</td>\n",
       "      <td>76.2</td>\n",
       "      <td>14</td>\n",
       "      <td>4083</td>\n",
       "    </tr>\n",
       "    <tr>\n",
       "      <th>Tunisia</th>\n",
       "      <td>68.4</td>\n",
       "      <td>70.7</td>\n",
       "      <td>37</td>\n",
       "      <td>2030</td>\n",
       "    </tr>\n",
       "    <tr>\n",
       "      <th>Turkey</th>\n",
       "      <td>66.5</td>\n",
       "      <td>71.7</td>\n",
       "      <td>44</td>\n",
       "      <td>2814</td>\n",
       "    </tr>\n",
       "    <tr>\n",
       "      <th>Turkmenistan</th>\n",
       "      <td>61.2</td>\n",
       "      <td>68.0</td>\n",
       "      <td>57</td>\n",
       "      <td>321</td>\n",
       "    </tr>\n",
       "    <tr>\n",
       "      <th>Tuvalu</th>\n",
       "      <td>NaN</td>\n",
       "      <td>NaN</td>\n",
       "      <td>NaN</td>\n",
       "      <td>NaN</td>\n",
       "    </tr>\n",
       "    <tr>\n",
       "      <th>Uganda</th>\n",
       "      <td>40.4</td>\n",
       "      <td>42.3</td>\n",
       "      <td>113</td>\n",
       "      <td>305</td>\n",
       "    </tr>\n",
       "    <tr>\n",
       "      <th>Ukraine</th>\n",
       "      <td>63.6</td>\n",
       "      <td>74.0</td>\n",
       "      <td>18</td>\n",
       "      <td>694</td>\n",
       "    </tr>\n",
       "    <tr>\n",
       "      <th>United.Arab.Emirates</th>\n",
       "      <td>73.9</td>\n",
       "      <td>76.5</td>\n",
       "      <td>15</td>\n",
       "      <td>17690</td>\n",
       "    </tr>\n",
       "    <tr>\n",
       "      <th>United.Kingdom</th>\n",
       "      <td>74.5</td>\n",
       "      <td>79.8</td>\n",
       "      <td>6</td>\n",
       "      <td>18913</td>\n",
       "    </tr>\n",
       "    <tr>\n",
       "      <th>United.States</th>\n",
       "      <td>73.4</td>\n",
       "      <td>80.1</td>\n",
       "      <td>7</td>\n",
       "      <td>26037</td>\n",
       "    </tr>\n",
       "    <tr>\n",
       "      <th>Uruguay</th>\n",
       "      <td>69.6</td>\n",
       "      <td>76.1</td>\n",
       "      <td>17</td>\n",
       "      <td>5602</td>\n",
       "    </tr>\n",
       "    <tr>\n",
       "      <th>Uzbekistan</th>\n",
       "      <td>64.3</td>\n",
       "      <td>70.7</td>\n",
       "      <td>43</td>\n",
       "      <td>435</td>\n",
       "    </tr>\n",
       "    <tr>\n",
       "      <th>Vanuatu</th>\n",
       "      <td>65.5</td>\n",
       "      <td>69.5</td>\n",
       "      <td>38</td>\n",
       "      <td>1289</td>\n",
       "    </tr>\n",
       "    <tr>\n",
       "      <th>Venezuela</th>\n",
       "      <td>70.0</td>\n",
       "      <td>75.7</td>\n",
       "      <td>21</td>\n",
       "      <td>3496</td>\n",
       "    </tr>\n",
       "    <tr>\n",
       "      <th>Viet.Nam</th>\n",
       "      <td>64.9</td>\n",
       "      <td>69.6</td>\n",
       "      <td>37</td>\n",
       "      <td>270</td>\n",
       "    </tr>\n",
       "    <tr>\n",
       "      <th>Virgin.Islands</th>\n",
       "      <td>NaN</td>\n",
       "      <td>NaN</td>\n",
       "      <td>12</td>\n",
       "      <td>NaN</td>\n",
       "    </tr>\n",
       "    <tr>\n",
       "      <th>Western.Sahara</th>\n",
       "      <td>59.8</td>\n",
       "      <td>63.1</td>\n",
       "      <td>64</td>\n",
       "      <td>NaN</td>\n",
       "    </tr>\n",
       "    <tr>\n",
       "      <th>Yemen</th>\n",
       "      <td>57.4</td>\n",
       "      <td>58.4</td>\n",
       "      <td>80</td>\n",
       "      <td>732</td>\n",
       "    </tr>\n",
       "    <tr>\n",
       "      <th>Yugoslavia</th>\n",
       "      <td>69.8</td>\n",
       "      <td>75.3</td>\n",
       "      <td>19</td>\n",
       "      <td>1487</td>\n",
       "    </tr>\n",
       "    <tr>\n",
       "      <th>Zambia</th>\n",
       "      <td>42.2</td>\n",
       "      <td>43.7</td>\n",
       "      <td>103</td>\n",
       "      <td>382</td>\n",
       "    </tr>\n",
       "    <tr>\n",
       "      <th>Zimbabwe</th>\n",
       "      <td>47.6</td>\n",
       "      <td>49.4</td>\n",
       "      <td>68</td>\n",
       "      <td>786</td>\n",
       "    </tr>\n",
       "  </tbody>\n",
       "</table>\n",
       "<p>207 rows × 4 columns</p>\n",
       "</div>"
      ],
      "text/plain": [
       "                      lifeMale  lifeFemale  infantMortality  GDPperCapita\n",
       "country                                                                  \n",
       "Afghanistan               45.0        46.0              154          2848\n",
       "Albania                   68.0        74.0               32           863\n",
       "Algeria                   67.5        70.3               44          1531\n",
       "American.Samoa            68.0        73.0               11           NaN\n",
       "Andorra                    NaN         NaN              NaN           NaN\n",
       "Angola                    44.9        48.1              124           355\n",
       "Antigua                    NaN         NaN               24          6966\n",
       "Argentina                 69.6        76.8               22          8055\n",
       "Armenia                   67.2        74.0               25           354\n",
       "Australia                 75.4        81.2                6         20046\n",
       "Austria                   73.7        80.1                6         29006\n",
       "Azerbaijan                66.5        74.5               33           321\n",
       "Bahamas                   70.5        77.1               14         12545\n",
       "Bahrain                   71.1        75.3               18          9073\n",
       "Bangladesh                58.1        58.2               78           280\n",
       "Barbados                  73.6        78.7                9          7173\n",
       "Belarus                   64.4        74.8               15           994\n",
       "Belgium                   73.9        80.6                7         26582\n",
       "Belize                    73.4        76.1               30          2569\n",
       "Benin                     52.4        57.2               84           391\n",
       "Bhutan                    51.6        54.9              104           166\n",
       "Bolivia                   59.8        63.2               66           909\n",
       "Bosnia                    70.5        75.9               13           271\n",
       "Botswana                  48.9        51.7               56          3640\n",
       "Brazil                    63.4        71.2               42          4510\n",
       "Brunei                    73.4        78.1                9         16683\n",
       "Bulgaria                  67.8        74.9               16          1518\n",
       "Burkina.Faso              45.1        47.0               97           165\n",
       "Burundi                   45.5        48.8              114           205\n",
       "Cambodia                  52.6        55.4              102           130\n",
       "...                        ...         ...              ...           ...\n",
       "Swaziland                 57.7        62.3               65          1389\n",
       "Sweden                    76.2        80.8                5         26253\n",
       "Switzerland               75.3        81.8                5         42416\n",
       "Syria                     66.7        71.2               33          3573\n",
       "Tajikistan                64.2        70.2               56           122\n",
       "Tanzania                  50.0        52.8               80           139\n",
       "Thailand                  66.3        72.3               30          2896\n",
       "Togo                      48.8        51.5               86           322\n",
       "Tonga                     67.0        71.0                3          1787\n",
       "Trinidad.and.Tobago       71.5        76.2               14          4083\n",
       "Tunisia                   68.4        70.7               37          2030\n",
       "Turkey                    66.5        71.7               44          2814\n",
       "Turkmenistan              61.2        68.0               57           321\n",
       "Tuvalu                     NaN         NaN              NaN           NaN\n",
       "Uganda                    40.4        42.3              113           305\n",
       "Ukraine                   63.6        74.0               18           694\n",
       "United.Arab.Emirates      73.9        76.5               15         17690\n",
       "United.Kingdom            74.5        79.8                6         18913\n",
       "United.States             73.4        80.1                7         26037\n",
       "Uruguay                   69.6        76.1               17          5602\n",
       "Uzbekistan                64.3        70.7               43           435\n",
       "Vanuatu                   65.5        69.5               38          1289\n",
       "Venezuela                 70.0        75.7               21          3496\n",
       "Viet.Nam                  64.9        69.6               37           270\n",
       "Virgin.Islands             NaN         NaN               12           NaN\n",
       "Western.Sahara            59.8        63.1               64           NaN\n",
       "Yemen                     57.4        58.4               80           732\n",
       "Yugoslavia                69.8        75.3               19          1487\n",
       "Zambia                    42.2        43.7              103           382\n",
       "Zimbabwe                  47.6        49.4               68           786\n",
       "\n",
       "[207 rows x 4 columns]"
      ]
     },
     "execution_count": 82,
     "metadata": {},
     "output_type": "execute_result"
    }
   ],
   "source": [
    "input_df"
   ]
  },
  {
   "cell_type": "code",
   "execution_count": 67,
   "metadata": {
    "collapsed": false
   },
   "outputs": [],
   "source": [
    "centroid,labels = scipy.cluster.vq.kmeans(input_df.as_matrix(),3)"
   ]
  },
  {
   "cell_type": "code",
   "execution_count": 68,
   "metadata": {
    "collapsed": false
   },
   "outputs": [
    {
     "data": {
      "text/plain": [
       "array([[  5.97000000e+01,   6.40406250e+01,   5.83984375e+01,\n",
       "          1.17140625e+03],\n",
       "       [  7.16883333e+01,   7.74150000e+01,   1.42500000e+01,\n",
       "          1.59582000e+04]])"
      ]
     },
     "execution_count": 68,
     "metadata": {},
     "output_type": "execute_result"
    }
   ],
   "source": [
    "centroid"
   ]
  },
  {
   "cell_type": "code",
   "execution_count": 69,
   "metadata": {
    "collapsed": false
   },
   "outputs": [
    {
     "data": {
      "text/plain": [
       "9.1787439613526599e+98"
      ]
     },
     "execution_count": 69,
     "metadata": {},
     "output_type": "execute_result"
    }
   ],
   "source": [
    "labels"
   ]
  },
  {
   "cell_type": "code",
   "execution_count": null,
   "metadata": {
    "collapsed": true
   },
   "outputs": [],
   "source": []
  }
 ],
 "metadata": {
  "kernelspec": {
   "display_name": "Python 2",
   "language": "python",
   "name": "python2"
  },
  "language_info": {
   "codemirror_mode": {
    "name": "ipython",
    "version": 2
   },
   "file_extension": ".py",
   "mimetype": "text/x-python",
   "name": "python",
   "nbconvert_exporter": "python",
   "pygments_lexer": "ipython2",
   "version": "2.7.6"
  }
 },
 "nbformat": 4,
 "nbformat_minor": 0
}
