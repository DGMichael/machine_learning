{
 "cells": [
  {
   "cell_type": "code",
   "execution_count": 1,
   "metadata": {
    "collapsed": true
   },
   "outputs": [],
   "source": [
    "#Overfitting.py"
   ]
  },
  {
   "cell_type": "code",
   "execution_count": 6,
   "metadata": {
    "collapsed": false
   },
   "outputs": [],
   "source": [
    "import numpy as np\n",
    "import statsmodels.formula.api as smf"
   ]
  },
  {
   "cell_type": "code",
   "execution_count": 7,
   "metadata": {
    "collapsed": false
   },
   "outputs": [],
   "source": [
    "np.random.seed(414)"
   ]
  },
  {
   "cell_type": "code",
   "execution_count": 8,
   "metadata": {
    "collapsed": true
   },
   "outputs": [],
   "source": [
    "#Generate toy data:\n",
    "X = np.linspace(0,15,1000)\n",
    "y = 3 * np.sin(X) + np.random.normal(1 + X, 0.2, 1000)"
   ]
  },
  {
   "cell_type": "code",
   "execution_count": 9,
   "metadata": {
    "collapsed": true
   },
   "outputs": [],
   "source": [
    "train_X, train_y = X[:700],y[:700]\n",
    "test_X, test_y = X[700:], y[700:]"
   ]
  },
  {
   "cell_type": "code",
   "execution_count": 13,
   "metadata": {
    "collapsed": false
   },
   "outputs": [
    {
     "data": {
      "text/plain": [
       "array([ 0.        ,  0.01501502,  0.03003003,  0.04504505,  0.06006006,\n",
       "        0.07507508,  0.09009009])"
      ]
     },
     "execution_count": 13,
     "metadata": {},
     "output_type": "execute_result"
    }
   ],
   "source": [
    "X[:7]"
   ]
  },
  {
   "cell_type": "code",
   "execution_count": 29,
   "metadata": {
    "collapsed": false
   },
   "outputs": [],
   "source": [
    "import pandas as pd\n",
    "train_df = pd.DataFrame({\"X\":train_X,\"y\":train_y})\n",
    "test_df = pd.DataFrame({\"X\":test_X, 'y':test_y})\n",
    "#Syntax for above: generate dataframe with X col from test_X array and...\n",
    "#y_col from test_y array."
   ]
  },
  {
   "cell_type": "code",
   "execution_count": 39,
   "metadata": {
    "collapsed": false
   },
   "outputs": [
    {
     "data": {
      "text/html": [
       "<table class=\"simpletable\">\n",
       "<caption>OLS Regression Results</caption>\n",
       "<tr>\n",
       "  <th>Dep. Variable:</th>            <td>y</td>        <th>  R-squared:         </th> <td>   0.642</td> \n",
       "</tr>\n",
       "<tr>\n",
       "  <th>Model:</th>                   <td>OLS</td>       <th>  Adj. R-squared:    </th> <td>   0.642</td> \n",
       "</tr>\n",
       "<tr>\n",
       "  <th>Method:</th>             <td>Least Squares</td>  <th>  F-statistic:       </th> <td>   1254.</td> \n",
       "</tr>\n",
       "<tr>\n",
       "  <th>Date:</th>             <td>Sun, 13 Sep 2015</td> <th>  Prob (F-statistic):</th> <td>5.52e-158</td>\n",
       "</tr>\n",
       "<tr>\n",
       "  <th>Time:</th>                 <td>17:49:55</td>     <th>  Log-Likelihood:    </th> <td> -1483.4</td> \n",
       "</tr>\n",
       "<tr>\n",
       "  <th>No. Observations:</th>      <td>   700</td>      <th>  AIC:               </th> <td>   2971.</td> \n",
       "</tr>\n",
       "<tr>\n",
       "  <th>Df Residuals:</th>          <td>   698</td>      <th>  BIC:               </th> <td>   2980.</td> \n",
       "</tr>\n",
       "<tr>\n",
       "  <th>Df Model:</th>              <td>     1</td>      <th>                     </th>     <td> </td>    \n",
       "</tr>\n",
       "<tr>\n",
       "  <th>Covariance Type:</th>      <td>nonrobust</td>    <th>                     </th>     <td> </td>    \n",
       "</tr>\n",
       "</table>\n",
       "<table class=\"simpletable\">\n",
       "<tr>\n",
       "      <td></td>         <th>coef</th>     <th>std err</th>      <th>t</th>      <th>P>|t|</th> <th>[95.0% Conf. Int.]</th> \n",
       "</tr>\n",
       "<tr>\n",
       "  <th>Intercept</th> <td>    1.9959</td> <td>    0.152</td> <td>   13.104</td> <td> 0.000</td> <td>    1.697     2.295</td>\n",
       "</tr>\n",
       "<tr>\n",
       "  <th>X</th>         <td>    0.8896</td> <td>    0.025</td> <td>   35.405</td> <td> 0.000</td> <td>    0.840     0.939</td>\n",
       "</tr>\n",
       "</table>\n",
       "<table class=\"simpletable\">\n",
       "<tr>\n",
       "  <th>Omnibus:</th>       <td>701.108</td> <th>  Durbin-Watson:     </th> <td>   0.020</td>\n",
       "</tr>\n",
       "<tr>\n",
       "  <th>Prob(Omnibus):</th> <td> 0.000</td>  <th>  Jarque-Bera (JB):  </th> <td>  52.980</td>\n",
       "</tr>\n",
       "<tr>\n",
       "  <th>Skew:</th>          <td>-0.259</td>  <th>  Prob(JB):          </th> <td>3.13e-12</td>\n",
       "</tr>\n",
       "<tr>\n",
       "  <th>Kurtosis:</th>      <td> 1.756</td>  <th>  Cond. No.          </th> <td>    12.4</td>\n",
       "</tr>\n",
       "</table>"
      ],
      "text/plain": [
       "<class 'statsmodels.iolib.summary.Summary'>\n",
       "\"\"\"\n",
       "                            OLS Regression Results                            \n",
       "==============================================================================\n",
       "Dep. Variable:                      y   R-squared:                       0.642\n",
       "Model:                            OLS   Adj. R-squared:                  0.642\n",
       "Method:                 Least Squares   F-statistic:                     1254.\n",
       "Date:                Sun, 13 Sep 2015   Prob (F-statistic):          5.52e-158\n",
       "Time:                        17:49:55   Log-Likelihood:                -1483.4\n",
       "No. Observations:                 700   AIC:                             2971.\n",
       "Df Residuals:                     698   BIC:                             2980.\n",
       "Df Model:                           1                                         \n",
       "Covariance Type:            nonrobust                                         \n",
       "==============================================================================\n",
       "                 coef    std err          t      P>|t|      [95.0% Conf. Int.]\n",
       "------------------------------------------------------------------------------\n",
       "Intercept      1.9959      0.152     13.104      0.000         1.697     2.295\n",
       "X              0.8896      0.025     35.405      0.000         0.840     0.939\n",
       "==============================================================================\n",
       "Omnibus:                      701.108   Durbin-Watson:                   0.020\n",
       "Prob(Omnibus):                  0.000   Jarque-Bera (JB):               52.980\n",
       "Skew:                          -0.259   Prob(JB):                     3.13e-12\n",
       "Kurtosis:                       1.756   Cond. No.                         12.4\n",
       "==============================================================================\n",
       "\n",
       "Warnings:\n",
       "[1] Standard Errors assume that the covariance matrix of the errors is correctly specified.\n",
       "\"\"\""
      ]
     },
     "execution_count": 39,
     "metadata": {},
     "output_type": "execute_result"
    }
   ],
   "source": [
    "#Linear Fit:\n",
    "poly_lin = smf.ols(formula='y ~ 1 + X', data=train_df).fit()\n",
    "poly_lin.summary()"
   ]
  },
  {
   "cell_type": "code",
   "execution_count": 40,
   "metadata": {
    "collapsed": false
   },
   "outputs": [
    {
     "data": {
      "text/html": [
       "<table class=\"simpletable\">\n",
       "<caption>OLS Regression Results</caption>\n",
       "<tr>\n",
       "  <th>Dep. Variable:</th>            <td>y</td>        <th>  R-squared:         </th> <td>   0.666</td> \n",
       "</tr>\n",
       "<tr>\n",
       "  <th>Model:</th>                   <td>OLS</td>       <th>  Adj. R-squared:    </th> <td>   0.665</td> \n",
       "</tr>\n",
       "<tr>\n",
       "  <th>Method:</th>             <td>Least Squares</td>  <th>  F-statistic:       </th> <td>   694.4</td> \n",
       "</tr>\n",
       "<tr>\n",
       "  <th>Date:</th>             <td>Sun, 13 Sep 2015</td> <th>  Prob (F-statistic):</th> <td>1.25e-166</td>\n",
       "</tr>\n",
       "<tr>\n",
       "  <th>Time:</th>                 <td>17:49:56</td>     <th>  Log-Likelihood:    </th> <td> -1459.6</td> \n",
       "</tr>\n",
       "<tr>\n",
       "  <th>No. Observations:</th>      <td>   700</td>      <th>  AIC:               </th> <td>   2925.</td> \n",
       "</tr>\n",
       "<tr>\n",
       "  <th>Df Residuals:</th>          <td>   697</td>      <th>  BIC:               </th> <td>   2939.</td> \n",
       "</tr>\n",
       "<tr>\n",
       "  <th>Df Model:</th>              <td>     2</td>      <th>                     </th>     <td> </td>    \n",
       "</tr>\n",
       "<tr>\n",
       "  <th>Covariance Type:</th>      <td>nonrobust</td>    <th>                     </th>     <td> </td>    \n",
       "</tr>\n",
       "</table>\n",
       "<table class=\"simpletable\">\n",
       "<tr>\n",
       "      <td></td>         <th>coef</th>     <th>std err</th>      <th>t</th>      <th>P>|t|</th> <th>[95.0% Conf. Int.]</th> \n",
       "</tr>\n",
       "<tr>\n",
       "  <th>Intercept</th> <td>    3.1458</td> <td>    0.221</td> <td>   14.261</td> <td> 0.000</td> <td>    2.713     3.579</td>\n",
       "</tr>\n",
       "<tr>\n",
       "  <th>X</th>         <td>    0.2313</td> <td>    0.097</td> <td>    2.382</td> <td> 0.017</td> <td>    0.041     0.422</td>\n",
       "</tr>\n",
       "<tr>\n",
       "  <th>I(X ** 2)</th> <td>    0.0627</td> <td>    0.009</td> <td>    7.004</td> <td> 0.000</td> <td>    0.045     0.080</td>\n",
       "</tr>\n",
       "</table>\n",
       "<table class=\"simpletable\">\n",
       "<tr>\n",
       "  <th>Omnibus:</th>       <td>1210.467</td> <th>  Durbin-Watson:     </th> <td>   0.022</td>\n",
       "</tr>\n",
       "<tr>\n",
       "  <th>Prob(Omnibus):</th>  <td> 0.000</td>  <th>  Jarque-Bera (JB):  </th> <td>  49.911</td>\n",
       "</tr>\n",
       "<tr>\n",
       "  <th>Skew:</th>           <td>-0.091</td>  <th>  Prob(JB):          </th> <td>1.45e-11</td>\n",
       "</tr>\n",
       "<tr>\n",
       "  <th>Kurtosis:</th>       <td> 1.705</td>  <th>  Cond. No.          </th> <td>    160.</td>\n",
       "</tr>\n",
       "</table>"
      ],
      "text/plain": [
       "<class 'statsmodels.iolib.summary.Summary'>\n",
       "\"\"\"\n",
       "                            OLS Regression Results                            \n",
       "==============================================================================\n",
       "Dep. Variable:                      y   R-squared:                       0.666\n",
       "Model:                            OLS   Adj. R-squared:                  0.665\n",
       "Method:                 Least Squares   F-statistic:                     694.4\n",
       "Date:                Sun, 13 Sep 2015   Prob (F-statistic):          1.25e-166\n",
       "Time:                        17:49:56   Log-Likelihood:                -1459.6\n",
       "No. Observations:                 700   AIC:                             2925.\n",
       "Df Residuals:                     697   BIC:                             2939.\n",
       "Df Model:                           2                                         \n",
       "Covariance Type:            nonrobust                                         \n",
       "==============================================================================\n",
       "                 coef    std err          t      P>|t|      [95.0% Conf. Int.]\n",
       "------------------------------------------------------------------------------\n",
       "Intercept      3.1458      0.221     14.261      0.000         2.713     3.579\n",
       "X              0.2313      0.097      2.382      0.017         0.041     0.422\n",
       "I(X ** 2)      0.0627      0.009      7.004      0.000         0.045     0.080\n",
       "==============================================================================\n",
       "Omnibus:                     1210.467   Durbin-Watson:                   0.022\n",
       "Prob(Omnibus):                  0.000   Jarque-Bera (JB):               49.911\n",
       "Skew:                          -0.091   Prob(JB):                     1.45e-11\n",
       "Kurtosis:                       1.705   Cond. No.                         160.\n",
       "==============================================================================\n",
       "\n",
       "Warnings:\n",
       "[1] Standard Errors assume that the covariance matrix of the errors is correctly specified.\n",
       "\"\"\""
      ]
     },
     "execution_count": 40,
     "metadata": {},
     "output_type": "execute_result"
    }
   ],
   "source": [
    "#Quadratic Fit:\n",
    "poly_quad = smf.ols(formula='y ~ 1 + X + I(X**2)', data=train_df).fit()\n",
    "poly_quad.summary()"
   ]
  },
  {
   "cell_type": "code",
   "execution_count": 41,
   "metadata": {
    "collapsed": false
   },
   "outputs": [
    {
     "data": {
      "text/html": [
       "<table class=\"simpletable\">\n",
       "<caption>OLS Regression Results</caption>\n",
       "<tr>\n",
       "  <th>Dep. Variable:</th>            <td>y</td>        <th>  R-squared:         </th> <td>   0.731</td> \n",
       "</tr>\n",
       "<tr>\n",
       "  <th>Model:</th>                   <td>OLS</td>       <th>  Adj. R-squared:    </th> <td>   0.730</td> \n",
       "</tr>\n",
       "<tr>\n",
       "  <th>Method:</th>             <td>Least Squares</td>  <th>  F-statistic:       </th> <td>   631.2</td> \n",
       "</tr>\n",
       "<tr>\n",
       "  <th>Date:</th>             <td>Sun, 13 Sep 2015</td> <th>  Prob (F-statistic):</th> <td>4.74e-198</td>\n",
       "</tr>\n",
       "<tr>\n",
       "  <th>Time:</th>                 <td>17:49:57</td>     <th>  Log-Likelihood:    </th> <td> -1383.4</td> \n",
       "</tr>\n",
       "<tr>\n",
       "  <th>No. Observations:</th>      <td>   700</td>      <th>  AIC:               </th> <td>   2775.</td> \n",
       "</tr>\n",
       "<tr>\n",
       "  <th>Df Residuals:</th>          <td>   696</td>      <th>  BIC:               </th> <td>   2793.</td> \n",
       "</tr>\n",
       "<tr>\n",
       "  <th>Df Model:</th>              <td>     3</td>      <th>                     </th>     <td> </td>    \n",
       "</tr>\n",
       "<tr>\n",
       "  <th>Covariance Type:</th>      <td>nonrobust</td>    <th>                     </th>     <td> </td>    \n",
       "</tr>\n",
       "</table>\n",
       "<table class=\"simpletable\">\n",
       "<tr>\n",
       "      <td></td>         <th>coef</th>     <th>std err</th>      <th>t</th>      <th>P>|t|</th> <th>[95.0% Conf. Int.]</th> \n",
       "</tr>\n",
       "<tr>\n",
       "  <th>Intercept</th> <td>    5.4049</td> <td>    0.263</td> <td>   20.527</td> <td> 0.000</td> <td>    4.888     5.922</td>\n",
       "</tr>\n",
       "<tr>\n",
       "  <th>X</th>         <td>   -2.3609</td> <td>    0.217</td> <td>  -10.859</td> <td> 0.000</td> <td>   -2.788    -1.934</td>\n",
       "</tr>\n",
       "<tr>\n",
       "  <th>I(X ** 2)</th> <td>    0.6806</td> <td>    0.048</td> <td>   14.133</td> <td> 0.000</td> <td>    0.586     0.775</td>\n",
       "</tr>\n",
       "<tr>\n",
       "  <th>I(X ** 3)</th> <td>   -0.0392</td> <td>    0.003</td> <td>  -13.013</td> <td> 0.000</td> <td>   -0.045    -0.033</td>\n",
       "</tr>\n",
       "</table>\n",
       "<table class=\"simpletable\">\n",
       "<tr>\n",
       "  <th>Omnibus:</th>       <td>235.432</td> <th>  Durbin-Watson:     </th> <td>   0.027</td>\n",
       "</tr>\n",
       "<tr>\n",
       "  <th>Prob(Omnibus):</th> <td> 0.000</td>  <th>  Jarque-Bera (JB):  </th> <td>  38.208</td>\n",
       "</tr>\n",
       "<tr>\n",
       "  <th>Skew:</th>          <td>-0.179</td>  <th>  Prob(JB):          </th> <td>5.05e-09</td>\n",
       "</tr>\n",
       "<tr>\n",
       "  <th>Kurtosis:</th>      <td> 1.913</td>  <th>  Cond. No.          </th> <td>2.22e+03</td>\n",
       "</tr>\n",
       "</table>"
      ],
      "text/plain": [
       "<class 'statsmodels.iolib.summary.Summary'>\n",
       "\"\"\"\n",
       "                            OLS Regression Results                            \n",
       "==============================================================================\n",
       "Dep. Variable:                      y   R-squared:                       0.731\n",
       "Model:                            OLS   Adj. R-squared:                  0.730\n",
       "Method:                 Least Squares   F-statistic:                     631.2\n",
       "Date:                Sun, 13 Sep 2015   Prob (F-statistic):          4.74e-198\n",
       "Time:                        17:49:57   Log-Likelihood:                -1383.4\n",
       "No. Observations:                 700   AIC:                             2775.\n",
       "Df Residuals:                     696   BIC:                             2793.\n",
       "Df Model:                           3                                         \n",
       "Covariance Type:            nonrobust                                         \n",
       "==============================================================================\n",
       "                 coef    std err          t      P>|t|      [95.0% Conf. Int.]\n",
       "------------------------------------------------------------------------------\n",
       "Intercept      5.4049      0.263     20.527      0.000         4.888     5.922\n",
       "X             -2.3609      0.217    -10.859      0.000        -2.788    -1.934\n",
       "I(X ** 2)      0.6806      0.048     14.133      0.000         0.586     0.775\n",
       "I(X ** 3)     -0.0392      0.003    -13.013      0.000        -0.045    -0.033\n",
       "==============================================================================\n",
       "Omnibus:                      235.432   Durbin-Watson:                   0.027\n",
       "Prob(Omnibus):                  0.000   Jarque-Bera (JB):               38.208\n",
       "Skew:                          -0.179   Prob(JB):                     5.05e-09\n",
       "Kurtosis:                       1.913   Cond. No.                     2.22e+03\n",
       "==============================================================================\n",
       "\n",
       "Warnings:\n",
       "[1] Standard Errors assume that the covariance matrix of the errors is correctly specified.\n",
       "[2] The condition number is large, 2.22e+03. This might indicate that there are\n",
       "strong multicollinearity or other numerical problems.\n",
       "\"\"\""
      ]
     },
     "execution_count": 41,
     "metadata": {},
     "output_type": "execute_result"
    }
   ],
   "source": [
    "poly_cubic = smf.ols(formula='y ~ 1 + X + I(X**2) + I(X**3)', data=train_df).fit()\n",
    "poly_cubic.summary()"
   ]
  },
  {
   "cell_type": "code",
   "execution_count": null,
   "metadata": {
    "collapsed": true
   },
   "outputs": [],
   "source": []
  }
 ],
 "metadata": {
  "kernelspec": {
   "display_name": "Python 2",
   "language": "python",
   "name": "python2"
  },
  "language_info": {
   "codemirror_mode": {
    "name": "ipython",
    "version": 2
   },
   "file_extension": ".py",
   "mimetype": "text/x-python",
   "name": "python",
   "nbconvert_exporter": "python",
   "pygments_lexer": "ipython2",
   "version": "2.7.10"
  }
 },
 "nbformat": 4,
 "nbformat_minor": 0
}
