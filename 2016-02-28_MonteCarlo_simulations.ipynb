{
 "cells": [
  {
   "cell_type": "markdown",
   "metadata": {},
   "source": [
    "#Toy example of a Monte Carlo simulation of coin flipping"
   ]
  },
  {
   "cell_type": "code",
   "execution_count": 21,
   "metadata": {
    "collapsed": false
   },
   "outputs": [],
   "source": [
    "import random\n",
    "\n",
    "class Coin(object):\n",
    "    sides = (\"heads\", \"tails\")\n",
    "    last_result = None\n",
    "    \n",
    "    def flip(self):\n",
    "        'Call coin.flip() to flip the coin and record it as the last result'\n",
    "        self.last_result = result = random.choice(self.sides)\n",
    "        return result\n",
    "    \n",
    "def create_coins(number):\n",
    "    'Create a list of coins'\n",
    "    return [Coin() for i in xrange(number)]\n",
    "\n",
    "def flip_coins(coins):\n",
    "    'Modifies coin object in place, returns None'\n",
    "    for coin in coins:\n",
    "        coin.flip()\n",
    "        \n",
    "def count_heads(flipped_coins):\n",
    "    return sum(coin.last_result == \"heads\" for coin in flipped_coins)\n",
    "\n",
    "def count_tails(flipped_coins):\n",
    "    return sum(coin.last_result == 'tails' for coin in flipped_coins)\n",
    "\n",
    "def main():\n",
    "    coins = create_coins(15000) #Create a 'coins' object containing a list of 1000 coins.\n",
    "    heads = []\n",
    "    for i in xrange(10000):    #Run 10000 rounds of simulation\n",
    "        flip_coins(coins)    #Flip the coins\n",
    "        #print(count_heads(coins))    #Return the # of heads detected.\n",
    "        heads.append(count_heads(coins))\n",
    "    return heads"
   ]
  },
  {
   "cell_type": "code",
   "execution_count": 20,
   "metadata": {
    "collapsed": false
   },
   "outputs": [
    {
     "data": {
      "text/plain": [
       "(array([   31.,   183.,   777.,  1973.,  2831.,  2459.,  1247.,   402.,\n",
       "           84.,    13.]),\n",
       " array([ 7287. ,  7332.1,  7377.2,  7422.3,  7467.4,  7512.5,  7557.6,\n",
       "         7602.7,  7647.8,  7692.9,  7738. ]),\n",
       " <a list of 10 Patch objects>)"
      ]
     },
     "execution_count": 20,
     "metadata": {},
     "output_type": "execute_result"
    },
    {
     "data": {
      "image/png": "[encoded data removed]",
      "text/plain": [
       "<matplotlib.figure.Figure at 0x1118c3910>"
      ]
     },
     "metadata": {},
     "output_type": "display_data"
    }
   ],
   "source": [
    "import matplotlib.pyplot as plt\n",
    "%matplotlib inline\n",
    "\n",
    "heads = main()\n",
    "plt.hist(heads)"
   ]
  },
  {
   "cell_type": "code",
   "execution_count": 22,
   "metadata": {
    "collapsed": false
   },
   "outputs": [
    {
     "data": {
      "text/plain": [
       "u'/Users/DGMichael/Documents/DS_thinkful/machine_learning'"
      ]
     },
     "execution_count": 22,
     "metadata": {},
     "output_type": "execute_result"
    }
   ],
   "source": [
    "pwd"
   ]
  },
  {
   "cell_type": "code",
   "execution_count": null,
   "metadata": {
    "collapsed": true
   },
   "outputs": [],
   "source": []
  }
 ],
 "metadata": {
  "kernelspec": {
   "display_name": "Python 2",
   "language": "python",
   "name": "python2"
  },
  "language_info": {
   "codemirror_mode": {
    "name": "ipython",
    "version": 2
   },
   "file_extension": ".py",
   "mimetype": "text/x-python",
   "name": "python",
   "nbconvert_exporter": "python",
   "pygments_lexer": "ipython2",
   "version": "2.7.11"
  }
 },
 "nbformat": 4,
 "nbformat_minor": 0
}
